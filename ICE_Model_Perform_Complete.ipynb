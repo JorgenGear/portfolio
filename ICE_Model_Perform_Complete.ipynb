{
  "nbformat": 4,
  "nbformat_minor": 0,
  "metadata": {
    "colab": {
      "provenance": []
    },
    "kernelspec": {
      "name": "python3",
      "display_name": "Python 3"
    },
    "language_info": {
      "name": "python"
    }
  },
  "cells": [
    {
      "cell_type": "markdown",
      "source": [
        "# **Exercise - Model Performance**\n",
        "# DATA 3300"
      ],
      "metadata": {
        "id": "PmYJgDFakO_M"
      }
    },
    {
      "cell_type": "markdown",
      "source": [
        "## Name: RHETT JORGENSEN\n",
        "## Exercise"
      ],
      "metadata": {
        "id": "xSsHsEpOkXnp"
      }
    },
    {
      "cell_type": "markdown",
      "source": [
        "# Q1\n",
        "\n",
        "**Using the (full) `voters.csv` dataset, conduct a 5-fold cross-validated logistic regression analysis in Python. Assume the data set has already been checked for collinear independent variables, and found none.**\n",
        "\n",
        "*   **Import the required libraries and packages**\n",
        "*   **Import and view the dataset**\n",
        "*   **Assign IVs to object called 'x', take any preprocessing steps**\n",
        "*   **Assign DV to object called 'y', take any preprocessing steps**\n",
        "*   **Perform 90-10 train-test split**\n",
        "*   **Implement 5-fold cross-validated logistic regression on training set**\n",
        "\n"
      ],
      "metadata": {
        "id": "3qFDX7RDkaxp"
      }
    },
    {
      "cell_type": "code",
      "source": [
        "import warnings\n",
        "warnings.filterwarnings(\"ignore\")"
      ],
      "metadata": {
        "id": "vLmMdSAjnWCK"
      },
      "execution_count": 1,
      "outputs": []
    },
    {
      "cell_type": "code",
      "execution_count": 2,
      "metadata": {
        "id": "DXHnc4OQvjJK"
      },
      "outputs": [],
      "source": [
        "import numpy as np\n",
        "import pandas as pd\n",
        "import seaborn as sns\n",
        "import matplotlib.pyplot as plt # libraries for data manipulation and visualizations\n",
        "\n",
        "from sklearn.model_selection import KFold\n",
        "from sklearn.model_selection import train_test_split\n",
        "from sklearn.model_selection import cross_validate\n",
        "from sklearn.model_selection import cross_val_predict\n",
        "from sklearn.metrics import classification_report, confusion_matrix\n",
        "import sklearn.metrics as metrics # functions from sklearn to perform cross-validation, and evaluate model performance\n",
        "\n",
        "from sklearn.linear_model import LogisticRegression # logistic regression function from sklearn"
      ]
    },
    {
      "cell_type": "code",
      "source": [
        "# read in the dataset\n",
        "df = pd.read_csv('/content/voters.csv')\n",
        "df.head()"
      ],
      "metadata": {
        "id": "_lgkO0AmlPEh",
        "colab": {
          "base_uri": "https://localhost:8080/",
          "height": 206
        },
        "outputId": "b115ab3f-3cb3-40f0-db34-65c8ace98aad"
      },
      "execution_count": 3,
      "outputs": [
        {
          "output_type": "execute_result",
          "data": {
            "text/plain": [
              "   ResponseID  Age  IncomeCat   MStatus   Religion Homeowner  Defense  \\\n",
              "0           1   61          2   married   Agnostic         y        3   \n",
              "1           2   26          1   married  Christian         n        2   \n",
              "2           3   28          2  divorced     Jewish         n        2   \n",
              "3           4   23          1   married  Christian         n        3   \n",
              "4           5   25          2   married  Christian         y        5   \n",
              "\n",
              "   Healthcare  Privacy  Education VIntent  \n",
              "0           3        4          2    Kang  \n",
              "1           5        3          4    Kang  \n",
              "2           3        1          5   Kodos  \n",
              "3           1        3          2   Kodos  \n",
              "4           3        3          2   Kodos  "
            ],
            "text/html": [
              "\n",
              "\n",
              "  <div id=\"df-f69b49b2-9bf3-4e03-9931-9c008531822d\">\n",
              "    <div class=\"colab-df-container\">\n",
              "      <div>\n",
              "<style scoped>\n",
              "    .dataframe tbody tr th:only-of-type {\n",
              "        vertical-align: middle;\n",
              "    }\n",
              "\n",
              "    .dataframe tbody tr th {\n",
              "        vertical-align: top;\n",
              "    }\n",
              "\n",
              "    .dataframe thead th {\n",
              "        text-align: right;\n",
              "    }\n",
              "</style>\n",
              "<table border=\"1\" class=\"dataframe\">\n",
              "  <thead>\n",
              "    <tr style=\"text-align: right;\">\n",
              "      <th></th>\n",
              "      <th>ResponseID</th>\n",
              "      <th>Age</th>\n",
              "      <th>IncomeCat</th>\n",
              "      <th>MStatus</th>\n",
              "      <th>Religion</th>\n",
              "      <th>Homeowner</th>\n",
              "      <th>Defense</th>\n",
              "      <th>Healthcare</th>\n",
              "      <th>Privacy</th>\n",
              "      <th>Education</th>\n",
              "      <th>VIntent</th>\n",
              "    </tr>\n",
              "  </thead>\n",
              "  <tbody>\n",
              "    <tr>\n",
              "      <th>0</th>\n",
              "      <td>1</td>\n",
              "      <td>61</td>\n",
              "      <td>2</td>\n",
              "      <td>married</td>\n",
              "      <td>Agnostic</td>\n",
              "      <td>y</td>\n",
              "      <td>3</td>\n",
              "      <td>3</td>\n",
              "      <td>4</td>\n",
              "      <td>2</td>\n",
              "      <td>Kang</td>\n",
              "    </tr>\n",
              "    <tr>\n",
              "      <th>1</th>\n",
              "      <td>2</td>\n",
              "      <td>26</td>\n",
              "      <td>1</td>\n",
              "      <td>married</td>\n",
              "      <td>Christian</td>\n",
              "      <td>n</td>\n",
              "      <td>2</td>\n",
              "      <td>5</td>\n",
              "      <td>3</td>\n",
              "      <td>4</td>\n",
              "      <td>Kang</td>\n",
              "    </tr>\n",
              "    <tr>\n",
              "      <th>2</th>\n",
              "      <td>3</td>\n",
              "      <td>28</td>\n",
              "      <td>2</td>\n",
              "      <td>divorced</td>\n",
              "      <td>Jewish</td>\n",
              "      <td>n</td>\n",
              "      <td>2</td>\n",
              "      <td>3</td>\n",
              "      <td>1</td>\n",
              "      <td>5</td>\n",
              "      <td>Kodos</td>\n",
              "    </tr>\n",
              "    <tr>\n",
              "      <th>3</th>\n",
              "      <td>4</td>\n",
              "      <td>23</td>\n",
              "      <td>1</td>\n",
              "      <td>married</td>\n",
              "      <td>Christian</td>\n",
              "      <td>n</td>\n",
              "      <td>3</td>\n",
              "      <td>1</td>\n",
              "      <td>3</td>\n",
              "      <td>2</td>\n",
              "      <td>Kodos</td>\n",
              "    </tr>\n",
              "    <tr>\n",
              "      <th>4</th>\n",
              "      <td>5</td>\n",
              "      <td>25</td>\n",
              "      <td>2</td>\n",
              "      <td>married</td>\n",
              "      <td>Christian</td>\n",
              "      <td>y</td>\n",
              "      <td>5</td>\n",
              "      <td>3</td>\n",
              "      <td>3</td>\n",
              "      <td>2</td>\n",
              "      <td>Kodos</td>\n",
              "    </tr>\n",
              "  </tbody>\n",
              "</table>\n",
              "</div>\n",
              "      <button class=\"colab-df-convert\" onclick=\"convertToInteractive('df-f69b49b2-9bf3-4e03-9931-9c008531822d')\"\n",
              "              title=\"Convert this dataframe to an interactive table.\"\n",
              "              style=\"display:none;\">\n",
              "\n",
              "  <svg xmlns=\"http://www.w3.org/2000/svg\" height=\"24px\"viewBox=\"0 0 24 24\"\n",
              "       width=\"24px\">\n",
              "    <path d=\"M0 0h24v24H0V0z\" fill=\"none\"/>\n",
              "    <path d=\"M18.56 5.44l.94 2.06.94-2.06 2.06-.94-2.06-.94-.94-2.06-.94 2.06-2.06.94zm-11 1L8.5 8.5l.94-2.06 2.06-.94-2.06-.94L8.5 2.5l-.94 2.06-2.06.94zm10 10l.94 2.06.94-2.06 2.06-.94-2.06-.94-.94-2.06-.94 2.06-2.06.94z\"/><path d=\"M17.41 7.96l-1.37-1.37c-.4-.4-.92-.59-1.43-.59-.52 0-1.04.2-1.43.59L10.3 9.45l-7.72 7.72c-.78.78-.78 2.05 0 2.83L4 21.41c.39.39.9.59 1.41.59.51 0 1.02-.2 1.41-.59l7.78-7.78 2.81-2.81c.8-.78.8-2.07 0-2.86zM5.41 20L4 18.59l7.72-7.72 1.47 1.35L5.41 20z\"/>\n",
              "  </svg>\n",
              "      </button>\n",
              "\n",
              "\n",
              "\n",
              "    <div id=\"df-b034a43a-f688-4602-bbc8-105bbf0ef9f8\">\n",
              "      <button class=\"colab-df-quickchart\" onclick=\"quickchart('df-b034a43a-f688-4602-bbc8-105bbf0ef9f8')\"\n",
              "              title=\"Suggest charts.\"\n",
              "              style=\"display:none;\">\n",
              "\n",
              "<svg xmlns=\"http://www.w3.org/2000/svg\" height=\"24px\"viewBox=\"0 0 24 24\"\n",
              "     width=\"24px\">\n",
              "    <g>\n",
              "        <path d=\"M19 3H5c-1.1 0-2 .9-2 2v14c0 1.1.9 2 2 2h14c1.1 0 2-.9 2-2V5c0-1.1-.9-2-2-2zM9 17H7v-7h2v7zm4 0h-2V7h2v10zm4 0h-2v-4h2v4z\"/>\n",
              "    </g>\n",
              "</svg>\n",
              "      </button>\n",
              "    </div>\n",
              "\n",
              "<style>\n",
              "  .colab-df-quickchart {\n",
              "    background-color: #E8F0FE;\n",
              "    border: none;\n",
              "    border-radius: 50%;\n",
              "    cursor: pointer;\n",
              "    display: none;\n",
              "    fill: #1967D2;\n",
              "    height: 32px;\n",
              "    padding: 0 0 0 0;\n",
              "    width: 32px;\n",
              "  }\n",
              "\n",
              "  .colab-df-quickchart:hover {\n",
              "    background-color: #E2EBFA;\n",
              "    box-shadow: 0px 1px 2px rgba(60, 64, 67, 0.3), 0px 1px 3px 1px rgba(60, 64, 67, 0.15);\n",
              "    fill: #174EA6;\n",
              "  }\n",
              "\n",
              "  [theme=dark] .colab-df-quickchart {\n",
              "    background-color: #3B4455;\n",
              "    fill: #D2E3FC;\n",
              "  }\n",
              "\n",
              "  [theme=dark] .colab-df-quickchart:hover {\n",
              "    background-color: #434B5C;\n",
              "    box-shadow: 0px 1px 3px 1px rgba(0, 0, 0, 0.15);\n",
              "    filter: drop-shadow(0px 1px 2px rgba(0, 0, 0, 0.3));\n",
              "    fill: #FFFFFF;\n",
              "  }\n",
              "</style>\n",
              "\n",
              "    <script>\n",
              "      async function quickchart(key) {\n",
              "        const containerElement = document.querySelector('#' + key);\n",
              "        const charts = await google.colab.kernel.invokeFunction(\n",
              "            'suggestCharts', [key], {});\n",
              "      }\n",
              "    </script>\n",
              "\n",
              "      <script>\n",
              "\n",
              "function displayQuickchartButton(domScope) {\n",
              "  let quickchartButtonEl =\n",
              "    domScope.querySelector('#df-b034a43a-f688-4602-bbc8-105bbf0ef9f8 button.colab-df-quickchart');\n",
              "  quickchartButtonEl.style.display =\n",
              "    google.colab.kernel.accessAllowed ? 'block' : 'none';\n",
              "}\n",
              "\n",
              "        displayQuickchartButton(document);\n",
              "      </script>\n",
              "      <style>\n",
              "    .colab-df-container {\n",
              "      display:flex;\n",
              "      flex-wrap:wrap;\n",
              "      gap: 12px;\n",
              "    }\n",
              "\n",
              "    .colab-df-convert {\n",
              "      background-color: #E8F0FE;\n",
              "      border: none;\n",
              "      border-radius: 50%;\n",
              "      cursor: pointer;\n",
              "      display: none;\n",
              "      fill: #1967D2;\n",
              "      height: 32px;\n",
              "      padding: 0 0 0 0;\n",
              "      width: 32px;\n",
              "    }\n",
              "\n",
              "    .colab-df-convert:hover {\n",
              "      background-color: #E2EBFA;\n",
              "      box-shadow: 0px 1px 2px rgba(60, 64, 67, 0.3), 0px 1px 3px 1px rgba(60, 64, 67, 0.15);\n",
              "      fill: #174EA6;\n",
              "    }\n",
              "\n",
              "    [theme=dark] .colab-df-convert {\n",
              "      background-color: #3B4455;\n",
              "      fill: #D2E3FC;\n",
              "    }\n",
              "\n",
              "    [theme=dark] .colab-df-convert:hover {\n",
              "      background-color: #434B5C;\n",
              "      box-shadow: 0px 1px 3px 1px rgba(0, 0, 0, 0.15);\n",
              "      filter: drop-shadow(0px 1px 2px rgba(0, 0, 0, 0.3));\n",
              "      fill: #FFFFFF;\n",
              "    }\n",
              "  </style>\n",
              "\n",
              "      <script>\n",
              "        const buttonEl =\n",
              "          document.querySelector('#df-f69b49b2-9bf3-4e03-9931-9c008531822d button.colab-df-convert');\n",
              "        buttonEl.style.display =\n",
              "          google.colab.kernel.accessAllowed ? 'block' : 'none';\n",
              "\n",
              "        async function convertToInteractive(key) {\n",
              "          const element = document.querySelector('#df-f69b49b2-9bf3-4e03-9931-9c008531822d');\n",
              "          const dataTable =\n",
              "            await google.colab.kernel.invokeFunction('convertToInteractive',\n",
              "                                                     [key], {});\n",
              "          if (!dataTable) return;\n",
              "\n",
              "          const docLinkHtml = 'Like what you see? Visit the ' +\n",
              "            '<a target=\"_blank\" href=https://colab.research.google.com/notebooks/data_table.ipynb>data table notebook</a>'\n",
              "            + ' to learn more about interactive tables.';\n",
              "          element.innerHTML = '';\n",
              "          dataTable['output_type'] = 'display_data';\n",
              "          await google.colab.output.renderOutput(dataTable, element);\n",
              "          const docLink = document.createElement('div');\n",
              "          docLink.innerHTML = docLinkHtml;\n",
              "          element.appendChild(docLink);\n",
              "        }\n",
              "      </script>\n",
              "    </div>\n",
              "  </div>\n"
            ]
          },
          "metadata": {},
          "execution_count": 3
        }
      ]
    },
    {
      "cell_type": "code",
      "source": [
        "# set IVs to x object\n",
        "x = df.drop(['ResponseID', 'VIntent'], axis = 1)\n",
        "# dummy code categorical IVs, drop_first = True\n",
        "x = pd.get_dummies(data = x, drop_first = True)\n",
        "# set DV to y object\n",
        "y = df['VIntent']\n",
        "# dummy code DV, drop_first = True\n",
        "y = pd.get_dummies(data = y, drop_first = True)"
      ],
      "metadata": {
        "id": "61SxWwY0lmRX"
      },
      "execution_count": 4,
      "outputs": []
    },
    {
      "cell_type": "code",
      "source": [
        "# train-test split data with 90-10 split\n",
        "x_train, x_test, y_train, y_test = train_test_split(x, y, test_size = 0.1, random_state = 100)"
      ],
      "metadata": {
        "id": "NjuOsqs6kqfI"
      },
      "execution_count": 5,
      "outputs": []
    },
    {
      "cell_type": "code",
      "source": [
        "# specify parameters of CV\n",
        "cv = KFold(n_splits = 5, random_state = 1, shuffle = True)\n",
        "# set model to logistic regression\n",
        "model = LogisticRegression()"
      ],
      "metadata": {
        "id": "FKE40K46l5XG"
      },
      "execution_count": 7,
      "outputs": []
    },
    {
      "cell_type": "code",
      "source": [
        "# define scoring dictionary\n",
        "scoring = {'acc' : 'accuracy', 'f1' : 'f1', 'precision' : 'precision', 'recall' : 'recall', 'roc_auc' : 'roc_auc', 'r2' : 'r2'}"
      ],
      "metadata": {
        "id": "Yco24PTtnZQD"
      },
      "execution_count": 8,
      "outputs": []
    },
    {
      "cell_type": "code",
      "source": [
        "# run cross-validate function on model using cv object on training set\n",
        "scores = cross_validate(model, x_train, y_train, scoring = scoring, cv = cv, return_train_score = False)"
      ],
      "metadata": {
        "id": "JceZclYyoNNz"
      },
      "execution_count": 9,
      "outputs": []
    },
    {
      "cell_type": "markdown",
      "source": [
        "# Q2\n",
        "**Display the average cross-validated accuracy, f1-score, precision, recall, ROC-AUC, and $R^2$**"
      ],
      "metadata": {
        "id": "TXtdGmE9vUgN"
      }
    },
    {
      "cell_type": "code",
      "source": [
        "# display scores as a table, based on average CV scores\n",
        "scores = pd.DataFrame(scores, columns = scores.keys())\n",
        "scores.mean()"
      ],
      "metadata": {
        "id": "_4o1EpW_rSDl",
        "colab": {
          "base_uri": "https://localhost:8080/"
        },
        "outputId": "950be94a-d8b0-4f0b-a7d4-a86dbea74c8d"
      },
      "execution_count": 10,
      "outputs": [
        {
          "output_type": "execute_result",
          "data": {
            "text/plain": [
              "fit_time          0.017828\n",
              "score_time        0.024645\n",
              "test_acc          0.768553\n",
              "test_f1           0.771031\n",
              "test_precision    0.767188\n",
              "test_recall       0.786852\n",
              "test_roc_auc      0.859015\n",
              "test_r2           0.057448\n",
              "dtype: float64"
            ]
          },
          "metadata": {},
          "execution_count": 10
        }
      ]
    },
    {
      "cell_type": "markdown",
      "source": [
        "## A\n",
        "\n",
        "**List the $R^2$ value and interpret what it means.**"
      ],
      "metadata": {
        "id": "kS1hc2havCpM"
      }
    },
    {
      "cell_type": "markdown",
      "source": [
        "The cross validated $R^2$ is 0.057, meaning that the model explains about 5.7% of the variance in the predicted logit value."
      ],
      "metadata": {
        "id": "DRLVV7VGvsR8"
      }
    },
    {
      "cell_type": "markdown",
      "source": [
        "## B\n",
        "\n",
        "**List the ROC-AUC value and interpret what it means.**"
      ],
      "metadata": {
        "id": "09R4Go0ZxDUX"
      }
    },
    {
      "cell_type": "markdown",
      "source": [
        "We have an AUC value of 0.859, Meaning that the model performs better than random chance."
      ],
      "metadata": {
        "id": "tABrjhMpxQXK"
      }
    },
    {
      "cell_type": "markdown",
      "source": [
        "# Q3\n",
        "\n",
        "**Generate a confusion matrix of the predicted outcome vs the actual outcome (`VIntent=Kodos`).**"
      ],
      "metadata": {
        "id": "tRG1Sx7OxXkv"
      }
    },
    {
      "cell_type": "code",
      "source": [
        "# create y_pred object\n",
        "y_pred = cross_val_predict(model, x_train, y_train, cv = cv)\n",
        "# generate confusion matrix of y_train (actual) against y_pred\n",
        "conf = confusion_matrix(y_train, y_pred)\n",
        "# display in heatmap\n",
        "sns.heatmap(conf, annot = True, fmt = 'g')\n",
        "sns.set(rc = {'figure.figsize':(12,10)})\n",
        "# add labels for actual vs predicted\n",
        "plt.xlabel('Predicted Class')\n",
        "plt.ylabel('Actual Class')\n",
        "plt.show()"
      ],
      "metadata": {
        "id": "YCMxGpe2xLNT",
        "colab": {
          "base_uri": "https://localhost:8080/",
          "height": 449
        },
        "outputId": "14a65c19-a4cd-4ec9-c614-6cd96eed5a72"
      },
      "execution_count": 11,
      "outputs": [
        {
          "output_type": "display_data",
          "data": {
            "text/plain": [
              "<Figure size 640x480 with 2 Axes>"
            ],
            "image/png": "[encoded data removed]"
          },
          "metadata": {}
        }
      ]
    },
    {
      "cell_type": "markdown",
      "source": [
        "## A\n",
        "\n",
        "**If `Vintent=Kodos` is the positive class, identify what TP, FP, TN, and FN mean in the context of this dataset, and provide the number of cases for each.**"
      ],
      "metadata": {
        "id": "9KKaMvkX561G"
      }
    },
    {
      "cell_type": "markdown",
      "source": [
        "* **TP** = Predicted Kodos, and the voters actually voted for kodos, 106 cases\n",
        "* **FP** = Predicted Kodos, and the voters actually voted for kang, 33 cases\n",
        "* **TN** = Predicted Kang, and the voters actually voted for Kang, 100 cases\n",
        "* **FN** = Predicted Kang, and the voters actually voted for Kodos, 29 cases"
      ],
      "metadata": {
        "id": "OKJzx-ke6Ibt"
      }
    },
    {
      "cell_type": "markdown",
      "source": [
        "## B\n",
        "\n",
        "**Identify the costs of both types of model errors (FP and FN) for this specific dataset. Are these costs about the same or does one error cost more than the other?**"
      ],
      "metadata": {
        "id": "uR-9KFng6qhw"
      }
    },
    {
      "cell_type": "markdown",
      "source": [
        "FP for this dataset would be cases where the model predicted Kodos when it was actually kang, FN would be cases where the model predicted Kang and it was actually Kodos. The cost of false positive and false negative are pretty equal here."
      ],
      "metadata": {
        "id": "ss8JSAWQ6wKq"
      }
    },
    {
      "cell_type": "markdown",
      "source": [
        "## C\n",
        "\n",
        "**Is the distribution of the two outcome classes of the DV about even (within 60:40) or uneven (highly skewed)? State how you know this.**"
      ],
      "metadata": {
        "id": "_VanL4oJ6zjL"
      }
    },
    {
      "cell_type": "code",
      "source": [
        "# show class distribution through value_count()\n",
        "y_train.value_counts()"
      ],
      "metadata": {
        "id": "hxuhREkt66XW",
        "colab": {
          "base_uri": "https://localhost:8080/"
        },
        "outputId": "ba4258f3-df08-4093-b4cf-29c5fba128c8"
      },
      "execution_count": 13,
      "outputs": [
        {
          "output_type": "execute_result",
          "data": {
            "text/plain": [
              "Kodos\n",
              "1        135\n",
              "0        133\n",
              "dtype: int64"
            ]
          },
          "metadata": {},
          "execution_count": 13
        }
      ]
    },
    {
      "cell_type": "markdown",
      "source": [
        "The distribution is roughly a 50/50 split. We know this based on the value counts of the y_train."
      ],
      "metadata": {
        "id": "us5lGZm0698K"
      }
    },
    {
      "cell_type": "markdown",
      "source": [
        "## D\n",
        "\n",
        "**What is the overall model accuracy? Given this data set, is this a good model performance metric to use? Why or why not?**"
      ],
      "metadata": {
        "id": "xfD2HlnG7QgT"
      }
    },
    {
      "cell_type": "markdown",
      "source": [
        "The overall CV accuracy is 76.8%. Since the costs of FP and FN are roughly the same and there is a roughly even class distribution overall accuracy is a fine metric to use."
      ],
      "metadata": {
        "id": "7WDR9Sdb7Wjg"
      }
    },
    {
      "cell_type": "markdown",
      "source": [
        "## E\n",
        "\n",
        "**Calculate the baseline accuracy using naive/apriori prediction. VIntent=Kodos is the positive class outcome. Is our model performing well? Why or why not?**"
      ],
      "metadata": {
        "id": "c1mG_fWQ7lYa"
      }
    },
    {
      "cell_type": "code",
      "source": [
        "# print baseline accuracy calculation\n",
        "print('basline accuracy = ', 147/len(df))"
      ],
      "metadata": {
        "colab": {
          "base_uri": "https://localhost:8080/"
        },
        "id": "6USkPqSC7uzu",
        "outputId": "87584efb-9ed9-4013-b275-60e16412db35"
      },
      "execution_count": 14,
      "outputs": [
        {
          "output_type": "stream",
          "name": "stdout",
          "text": [
            "basline accuracy =  0.49328859060402686\n"
          ]
        }
      ]
    },
    {
      "cell_type": "markdown",
      "source": [
        "The baseline accuracy is 49.3% and our model is performing at 76% which means our model is performing well."
      ],
      "metadata": {
        "id": "Pra452hC-HyC"
      }
    },
    {
      "cell_type": "markdown",
      "source": [
        "## F\n",
        "\n",
        "**What is the precision of the positive class and what does this mean? When should class precision be used to assess model peformance?**"
      ],
      "metadata": {
        "id": "h9FaM-up-hBa"
      }
    },
    {
      "cell_type": "markdown",
      "source": [
        "0.767, the precision for the positive class (Kodos) is about 76.7% which means that of all the cases that predicted kodos the model was correct 76.7% of the time. You should use precision when the cost of FPs is greater."
      ],
      "metadata": {
        "id": "2Aq9z6pQ-2L_"
      }
    },
    {
      "cell_type": "markdown",
      "source": [
        "## G\n",
        "\n",
        "**What is the recall of the positive class and what does this mean? When should recall be used to assess model performance?**"
      ],
      "metadata": {
        "id": "J3_28gPt_NWV"
      }
    },
    {
      "cell_type": "markdown",
      "source": [
        "0.787, the recall of the positive class is about 78.7%, meaning the model correctly predicted a case to be kodos when it was actually kodos  78.7% of the time. Recall should be used when the cost of FN's is greater."
      ],
      "metadata": {
        "id": "t4J_1cR7_YTu"
      }
    },
    {
      "cell_type": "markdown",
      "source": [
        "# Q4\n",
        "\n",
        "**Now let's examine some additional metrics including kappa, lift and $f_1$ score.**"
      ],
      "metadata": {
        "id": "x6tpsu7yAi8d"
      }
    },
    {
      "cell_type": "markdown",
      "source": [
        "## A\n",
        "\n",
        "**What is the cross-validated kappa and what does it mean?**"
      ],
      "metadata": {
        "id": "8Om07mi3B9qi"
      }
    },
    {
      "cell_type": "code",
      "source": [
        "# calculate Cohen's kappa\n",
        "metrics.cohen_kappa_score(y_train, y_pred)"
      ],
      "metadata": {
        "id": "lXrgAR7vAKaa",
        "colab": {
          "base_uri": "https://localhost:8080/"
        },
        "outputId": "3ac7ce30-6b4e-4358-bed0-cafc8250cf68"
      },
      "execution_count": 15,
      "outputs": [
        {
          "output_type": "execute_result",
          "data": {
            "text/plain": [
              "0.5371845579633447"
            ]
          },
          "metadata": {},
          "execution_count": 15
        }
      ]
    },
    {
      "cell_type": "markdown",
      "source": [
        "Kappa = 0.54, kappa measures how well a model performs above chance. It ranges from 0-1, the closer to 1, the better the model. This Kappa value would be considered good/moderate."
      ],
      "metadata": {
        "id": "p4387ta9CI5-"
      }
    },
    {
      "cell_type": "markdown",
      "source": [
        "## B\n",
        "\n",
        "**Calculate the lift value and explain what it means.**"
      ],
      "metadata": {
        "id": "m8L0ar81CPOZ"
      }
    },
    {
      "cell_type": "code",
      "source": [
        "# print the lift calculation\n",
        "print('lift = ', 0.767/0.493)"
      ],
      "metadata": {
        "id": "0tt-NtR0CS91",
        "colab": {
          "base_uri": "https://localhost:8080/"
        },
        "outputId": "2c4e05ce-d8b7-40c2-f694-3ceea06ce84c"
      },
      "execution_count": 16,
      "outputs": [
        {
          "output_type": "stream",
          "name": "stdout",
          "text": [
            "lift =  1.5557809330628805\n"
          ]
        }
      ]
    },
    {
      "cell_type": "markdown",
      "source": [
        "Lift ranges from 0 to infinity, the higher the better the model. This model perfroms 1.56 times better than a baseline prediction at identifying truly positive cases."
      ],
      "metadata": {
        "id": "LQCNm9s-C3gv"
      }
    },
    {
      "cell_type": "markdown",
      "source": [
        "## C\n",
        "\n",
        "**What is the $f_1$ score and what does it mean? Also describe when this metric should be used.**"
      ],
      "metadata": {
        "id": "r_qkjqpIDAjM"
      }
    },
    {
      "cell_type": "markdown",
      "source": [
        "0.771031, f-1 score is 77.1%. F-1 ranges from 0-1, where the closer to 1, the better the model. This would be considered a good f-1 score. f-1 should be used when the costs of FN and FP are roughly the same."
      ],
      "metadata": {
        "id": "Fsb8PzYgDJdF"
      }
    },
    {
      "cell_type": "markdown",
      "source": [
        "# Q5\n",
        "\n",
        "**Develop and run a second Logistic Regression model with 5-fold cross-validation that excludes age, homeowner, income category, marital status and religion as IVs.**\n",
        "\n",
        "**Then compute the accuracy, precision, recall, f1, auc-score, kappa, and lift.**"
      ],
      "metadata": {
        "id": "HLPA_PhqDdYr"
      }
    },
    {
      "cell_type": "code",
      "source": [
        "# create second x_train object, drop out selected variables\n",
        "x_train_2 = x_train[['Defense', 'Healthcare', 'Privacy', 'Education']]\n",
        "x_train_2.head()"
      ],
      "metadata": {
        "id": "S01rSMT1DrZX",
        "colab": {
          "base_uri": "https://localhost:8080/",
          "height": 206
        },
        "outputId": "33e2d77a-24c9-46fd-99a4-846b3bd65ddc"
      },
      "execution_count": 19,
      "outputs": [
        {
          "output_type": "execute_result",
          "data": {
            "text/plain": [
              "     Defense  Healthcare  Privacy  Education\n",
              "262        2           4        5          5\n",
              "263        3           3        2          3\n",
              "15         3           1        4          1\n",
              "249        1           1        4          2\n",
              "286        4           3        2          5"
            ],
            "text/html": [
              "\n",
              "\n",
              "  <div id=\"df-d702e801-9608-4cee-9c4f-ede0d8ff5cae\">\n",
              "    <div class=\"colab-df-container\">\n",
              "      <div>\n",
              "<style scoped>\n",
              "    .dataframe tbody tr th:only-of-type {\n",
              "        vertical-align: middle;\n",
              "    }\n",
              "\n",
              "    .dataframe tbody tr th {\n",
              "        vertical-align: top;\n",
              "    }\n",
              "\n",
              "    .dataframe thead th {\n",
              "        text-align: right;\n",
              "    }\n",
              "</style>\n",
              "<table border=\"1\" class=\"dataframe\">\n",
              "  <thead>\n",
              "    <tr style=\"text-align: right;\">\n",
              "      <th></th>\n",
              "      <th>Defense</th>\n",
              "      <th>Healthcare</th>\n",
              "      <th>Privacy</th>\n",
              "      <th>Education</th>\n",
              "    </tr>\n",
              "  </thead>\n",
              "  <tbody>\n",
              "    <tr>\n",
              "      <th>262</th>\n",
              "      <td>2</td>\n",
              "      <td>4</td>\n",
              "      <td>5</td>\n",
              "      <td>5</td>\n",
              "    </tr>\n",
              "    <tr>\n",
              "      <th>263</th>\n",
              "      <td>3</td>\n",
              "      <td>3</td>\n",
              "      <td>2</td>\n",
              "      <td>3</td>\n",
              "    </tr>\n",
              "    <tr>\n",
              "      <th>15</th>\n",
              "      <td>3</td>\n",
              "      <td>1</td>\n",
              "      <td>4</td>\n",
              "      <td>1</td>\n",
              "    </tr>\n",
              "    <tr>\n",
              "      <th>249</th>\n",
              "      <td>1</td>\n",
              "      <td>1</td>\n",
              "      <td>4</td>\n",
              "      <td>2</td>\n",
              "    </tr>\n",
              "    <tr>\n",
              "      <th>286</th>\n",
              "      <td>4</td>\n",
              "      <td>3</td>\n",
              "      <td>2</td>\n",
              "      <td>5</td>\n",
              "    </tr>\n",
              "  </tbody>\n",
              "</table>\n",
              "</div>\n",
              "      <button class=\"colab-df-convert\" onclick=\"convertToInteractive('df-d702e801-9608-4cee-9c4f-ede0d8ff5cae')\"\n",
              "              title=\"Convert this dataframe to an interactive table.\"\n",
              "              style=\"display:none;\">\n",
              "\n",
              "  <svg xmlns=\"http://www.w3.org/2000/svg\" height=\"24px\"viewBox=\"0 0 24 24\"\n",
              "       width=\"24px\">\n",
              "    <path d=\"M0 0h24v24H0V0z\" fill=\"none\"/>\n",
              "    <path d=\"M18.56 5.44l.94 2.06.94-2.06 2.06-.94-2.06-.94-.94-2.06-.94 2.06-2.06.94zm-11 1L8.5 8.5l.94-2.06 2.06-.94-2.06-.94L8.5 2.5l-.94 2.06-2.06.94zm10 10l.94 2.06.94-2.06 2.06-.94-2.06-.94-.94-2.06-.94 2.06-2.06.94z\"/><path d=\"M17.41 7.96l-1.37-1.37c-.4-.4-.92-.59-1.43-.59-.52 0-1.04.2-1.43.59L10.3 9.45l-7.72 7.72c-.78.78-.78 2.05 0 2.83L4 21.41c.39.39.9.59 1.41.59.51 0 1.02-.2 1.41-.59l7.78-7.78 2.81-2.81c.8-.78.8-2.07 0-2.86zM5.41 20L4 18.59l7.72-7.72 1.47 1.35L5.41 20z\"/>\n",
              "  </svg>\n",
              "      </button>\n",
              "\n",
              "\n",
              "\n",
              "    <div id=\"df-384acb5e-517d-4d3d-9da2-79a83af2663b\">\n",
              "      <button class=\"colab-df-quickchart\" onclick=\"quickchart('df-384acb5e-517d-4d3d-9da2-79a83af2663b')\"\n",
              "              title=\"Suggest charts.\"\n",
              "              style=\"display:none;\">\n",
              "\n",
              "<svg xmlns=\"http://www.w3.org/2000/svg\" height=\"24px\"viewBox=\"0 0 24 24\"\n",
              "     width=\"24px\">\n",
              "    <g>\n",
              "        <path d=\"M19 3H5c-1.1 0-2 .9-2 2v14c0 1.1.9 2 2 2h14c1.1 0 2-.9 2-2V5c0-1.1-.9-2-2-2zM9 17H7v-7h2v7zm4 0h-2V7h2v10zm4 0h-2v-4h2v4z\"/>\n",
              "    </g>\n",
              "</svg>\n",
              "      </button>\n",
              "    </div>\n",
              "\n",
              "<style>\n",
              "  .colab-df-quickchart {\n",
              "    background-color: #E8F0FE;\n",
              "    border: none;\n",
              "    border-radius: 50%;\n",
              "    cursor: pointer;\n",
              "    display: none;\n",
              "    fill: #1967D2;\n",
              "    height: 32px;\n",
              "    padding: 0 0 0 0;\n",
              "    width: 32px;\n",
              "  }\n",
              "\n",
              "  .colab-df-quickchart:hover {\n",
              "    background-color: #E2EBFA;\n",
              "    box-shadow: 0px 1px 2px rgba(60, 64, 67, 0.3), 0px 1px 3px 1px rgba(60, 64, 67, 0.15);\n",
              "    fill: #174EA6;\n",
              "  }\n",
              "\n",
              "  [theme=dark] .colab-df-quickchart {\n",
              "    background-color: #3B4455;\n",
              "    fill: #D2E3FC;\n",
              "  }\n",
              "\n",
              "  [theme=dark] .colab-df-quickchart:hover {\n",
              "    background-color: #434B5C;\n",
              "    box-shadow: 0px 1px 3px 1px rgba(0, 0, 0, 0.15);\n",
              "    filter: drop-shadow(0px 1px 2px rgba(0, 0, 0, 0.3));\n",
              "    fill: #FFFFFF;\n",
              "  }\n",
              "</style>\n",
              "\n",
              "    <script>\n",
              "      async function quickchart(key) {\n",
              "        const containerElement = document.querySelector('#' + key);\n",
              "        const charts = await google.colab.kernel.invokeFunction(\n",
              "            'suggestCharts', [key], {});\n",
              "      }\n",
              "    </script>\n",
              "\n",
              "      <script>\n",
              "\n",
              "function displayQuickchartButton(domScope) {\n",
              "  let quickchartButtonEl =\n",
              "    domScope.querySelector('#df-384acb5e-517d-4d3d-9da2-79a83af2663b button.colab-df-quickchart');\n",
              "  quickchartButtonEl.style.display =\n",
              "    google.colab.kernel.accessAllowed ? 'block' : 'none';\n",
              "}\n",
              "\n",
              "        displayQuickchartButton(document);\n",
              "      </script>\n",
              "      <style>\n",
              "    .colab-df-container {\n",
              "      display:flex;\n",
              "      flex-wrap:wrap;\n",
              "      gap: 12px;\n",
              "    }\n",
              "\n",
              "    .colab-df-convert {\n",
              "      background-color: #E8F0FE;\n",
              "      border: none;\n",
              "      border-radius: 50%;\n",
              "      cursor: pointer;\n",
              "      display: none;\n",
              "      fill: #1967D2;\n",
              "      height: 32px;\n",
              "      padding: 0 0 0 0;\n",
              "      width: 32px;\n",
              "    }\n",
              "\n",
              "    .colab-df-convert:hover {\n",
              "      background-color: #E2EBFA;\n",
              "      box-shadow: 0px 1px 2px rgba(60, 64, 67, 0.3), 0px 1px 3px 1px rgba(60, 64, 67, 0.15);\n",
              "      fill: #174EA6;\n",
              "    }\n",
              "\n",
              "    [theme=dark] .colab-df-convert {\n",
              "      background-color: #3B4455;\n",
              "      fill: #D2E3FC;\n",
              "    }\n",
              "\n",
              "    [theme=dark] .colab-df-convert:hover {\n",
              "      background-color: #434B5C;\n",
              "      box-shadow: 0px 1px 3px 1px rgba(0, 0, 0, 0.15);\n",
              "      filter: drop-shadow(0px 1px 2px rgba(0, 0, 0, 0.3));\n",
              "      fill: #FFFFFF;\n",
              "    }\n",
              "  </style>\n",
              "\n",
              "      <script>\n",
              "        const buttonEl =\n",
              "          document.querySelector('#df-d702e801-9608-4cee-9c4f-ede0d8ff5cae button.colab-df-convert');\n",
              "        buttonEl.style.display =\n",
              "          google.colab.kernel.accessAllowed ? 'block' : 'none';\n",
              "\n",
              "        async function convertToInteractive(key) {\n",
              "          const element = document.querySelector('#df-d702e801-9608-4cee-9c4f-ede0d8ff5cae');\n",
              "          const dataTable =\n",
              "            await google.colab.kernel.invokeFunction('convertToInteractive',\n",
              "                                                     [key], {});\n",
              "          if (!dataTable) return;\n",
              "\n",
              "          const docLinkHtml = 'Like what you see? Visit the ' +\n",
              "            '<a target=\"_blank\" href=https://colab.research.google.com/notebooks/data_table.ipynb>data table notebook</a>'\n",
              "            + ' to learn more about interactive tables.';\n",
              "          element.innerHTML = '';\n",
              "          dataTable['output_type'] = 'display_data';\n",
              "          await google.colab.output.renderOutput(dataTable, element);\n",
              "          const docLink = document.createElement('div');\n",
              "          docLink.innerHTML = docLinkHtml;\n",
              "          element.appendChild(docLink);\n",
              "        }\n",
              "      </script>\n",
              "    </div>\n",
              "  </div>\n"
            ]
          },
          "metadata": {},
          "execution_count": 19
        }
      ]
    },
    {
      "cell_type": "code",
      "source": [
        "# run cross_validation of x_train_2 using same cv object\n",
        "scores2 = cross_validate(model, x_train_2, y_train, scoring = scoring, cv = cv, return_train_score = False)"
      ],
      "metadata": {
        "id": "jKgPWiPND9av"
      },
      "execution_count": 20,
      "outputs": []
    },
    {
      "cell_type": "code",
      "source": [
        "# display average cv scores across the 5-folds in table for model 2\n",
        "scores2 = pd.DataFrame(scores2, columns = scores2.keys())\n",
        "np.abs(scores2.mean())"
      ],
      "metadata": {
        "id": "DTeSuaEIEFbx",
        "colab": {
          "base_uri": "https://localhost:8080/"
        },
        "outputId": "efa43f45-fc18-47d3-957a-5a643ccf508c"
      },
      "execution_count": 21,
      "outputs": [
        {
          "output_type": "execute_result",
          "data": {
            "text/plain": [
              "fit_time          0.005266\n",
              "score_time        0.021098\n",
              "test_acc          0.656534\n",
              "test_f1           0.662508\n",
              "test_precision    0.651723\n",
              "test_recall       0.682054\n",
              "test_roc_auc      0.685199\n",
              "test_r2           0.400223\n",
              "dtype: float64"
            ]
          },
          "metadata": {},
          "execution_count": 21
        }
      ]
    },
    {
      "cell_type": "code",
      "source": [
        "# calculate Cohen's kappa on model 2\n",
        "y_pred = cross_val_predict(model, x_train_2, y_train, cv = cv)\n",
        "metrics.cohen_kappa_score(y_train, y_pred)"
      ],
      "metadata": {
        "id": "uKY3HGiGHjLE",
        "colab": {
          "base_uri": "https://localhost:8080/"
        },
        "outputId": "6a2f6d50-f91b-4448-d9fb-c2548992d3d8"
      },
      "execution_count": 22,
      "outputs": [
        {
          "output_type": "execute_result",
          "data": {
            "text/plain": [
              "0.3131650788344754"
            ]
          },
          "metadata": {},
          "execution_count": 22
        }
      ]
    },
    {
      "cell_type": "code",
      "source": [
        "# print lift calculation on model 2\n",
        "print('Lift = ', 0.651/0.493 )"
      ],
      "metadata": {
        "id": "TZzdLT6xHpVB",
        "colab": {
          "base_uri": "https://localhost:8080/"
        },
        "outputId": "5221ab37-30a9-4146-bc8f-bbf6fec02eb1"
      },
      "execution_count": 23,
      "outputs": [
        {
          "output_type": "stream",
          "name": "stdout",
          "text": [
            "Lift =  1.3204868154158216\n"
          ]
        }
      ]
    },
    {
      "cell_type": "markdown",
      "source": [
        "# Q6\n",
        "\n",
        "**Compare model 1 and model 2 on their performance metrics by displaying both model's cross-validated metrics in a table below.**"
      ],
      "metadata": {
        "id": "DeELGzeNFNrq"
      }
    },
    {
      "cell_type": "code",
      "source": [
        "# set models object as model 1 scores and model 2 scores\n",
        "model_1 = scores.mean()\n",
        "model_2 = np.abs(scores2.mean())\n",
        "models = model_1, model_2"
      ],
      "metadata": {
        "id": "QZ7R33OiK2UJ"
      },
      "execution_count": 24,
      "outputs": []
    },
    {
      "cell_type": "code",
      "source": [
        "# display model 1 and model 2 scores in table\n",
        "models_compare = pd.DataFrame(data = models, index = ['model_1', 'model_2'],\n",
        "                              columns = ['fit_time', 'score_time', 'test_acc', 'test_f1', 'test_precision', 'test_recall', 'test_roc_auc', 'test_r2'])\n",
        "models_compare"
      ],
      "metadata": {
        "id": "M1oYgptVo2c7",
        "colab": {
          "base_uri": "https://localhost:8080/",
          "height": 112
        },
        "outputId": "e1e41eea-3652-4685-b1c8-d11ff728c8e9"
      },
      "execution_count": 25,
      "outputs": [
        {
          "output_type": "execute_result",
          "data": {
            "text/plain": [
              "         fit_time  score_time  test_acc   test_f1  test_precision  \\\n",
              "model_1  0.017828    0.024645  0.768553  0.771031        0.767188   \n",
              "model_2  0.005266    0.021098  0.656534  0.662508        0.651723   \n",
              "\n",
              "         test_recall  test_roc_auc   test_r2  \n",
              "model_1     0.786852      0.859015  0.057448  \n",
              "model_2     0.682054      0.685199  0.400223  "
            ],
            "text/html": [
              "\n",
              "\n",
              "  <div id=\"df-a987c0a3-22a2-4d47-9491-c06275d72b9d\">\n",
              "    <div class=\"colab-df-container\">\n",
              "      <div>\n",
              "<style scoped>\n",
              "    .dataframe tbody tr th:only-of-type {\n",
              "        vertical-align: middle;\n",
              "    }\n",
              "\n",
              "    .dataframe tbody tr th {\n",
              "        vertical-align: top;\n",
              "    }\n",
              "\n",
              "    .dataframe thead th {\n",
              "        text-align: right;\n",
              "    }\n",
              "</style>\n",
              "<table border=\"1\" class=\"dataframe\">\n",
              "  <thead>\n",
              "    <tr style=\"text-align: right;\">\n",
              "      <th></th>\n",
              "      <th>fit_time</th>\n",
              "      <th>score_time</th>\n",
              "      <th>test_acc</th>\n",
              "      <th>test_f1</th>\n",
              "      <th>test_precision</th>\n",
              "      <th>test_recall</th>\n",
              "      <th>test_roc_auc</th>\n",
              "      <th>test_r2</th>\n",
              "    </tr>\n",
              "  </thead>\n",
              "  <tbody>\n",
              "    <tr>\n",
              "      <th>model_1</th>\n",
              "      <td>0.017828</td>\n",
              "      <td>0.024645</td>\n",
              "      <td>0.768553</td>\n",
              "      <td>0.771031</td>\n",
              "      <td>0.767188</td>\n",
              "      <td>0.786852</td>\n",
              "      <td>0.859015</td>\n",
              "      <td>0.057448</td>\n",
              "    </tr>\n",
              "    <tr>\n",
              "      <th>model_2</th>\n",
              "      <td>0.005266</td>\n",
              "      <td>0.021098</td>\n",
              "      <td>0.656534</td>\n",
              "      <td>0.662508</td>\n",
              "      <td>0.651723</td>\n",
              "      <td>0.682054</td>\n",
              "      <td>0.685199</td>\n",
              "      <td>0.400223</td>\n",
              "    </tr>\n",
              "  </tbody>\n",
              "</table>\n",
              "</div>\n",
              "      <button class=\"colab-df-convert\" onclick=\"convertToInteractive('df-a987c0a3-22a2-4d47-9491-c06275d72b9d')\"\n",
              "              title=\"Convert this dataframe to an interactive table.\"\n",
              "              style=\"display:none;\">\n",
              "\n",
              "  <svg xmlns=\"http://www.w3.org/2000/svg\" height=\"24px\"viewBox=\"0 0 24 24\"\n",
              "       width=\"24px\">\n",
              "    <path d=\"M0 0h24v24H0V0z\" fill=\"none\"/>\n",
              "    <path d=\"M18.56 5.44l.94 2.06.94-2.06 2.06-.94-2.06-.94-.94-2.06-.94 2.06-2.06.94zm-11 1L8.5 8.5l.94-2.06 2.06-.94-2.06-.94L8.5 2.5l-.94 2.06-2.06.94zm10 10l.94 2.06.94-2.06 2.06-.94-2.06-.94-.94-2.06-.94 2.06-2.06.94z\"/><path d=\"M17.41 7.96l-1.37-1.37c-.4-.4-.92-.59-1.43-.59-.52 0-1.04.2-1.43.59L10.3 9.45l-7.72 7.72c-.78.78-.78 2.05 0 2.83L4 21.41c.39.39.9.59 1.41.59.51 0 1.02-.2 1.41-.59l7.78-7.78 2.81-2.81c.8-.78.8-2.07 0-2.86zM5.41 20L4 18.59l7.72-7.72 1.47 1.35L5.41 20z\"/>\n",
              "  </svg>\n",
              "      </button>\n",
              "\n",
              "\n",
              "\n",
              "    <div id=\"df-a3dc4a72-c90e-429b-a26a-400c3b650aaf\">\n",
              "      <button class=\"colab-df-quickchart\" onclick=\"quickchart('df-a3dc4a72-c90e-429b-a26a-400c3b650aaf')\"\n",
              "              title=\"Suggest charts.\"\n",
              "              style=\"display:none;\">\n",
              "\n",
              "<svg xmlns=\"http://www.w3.org/2000/svg\" height=\"24px\"viewBox=\"0 0 24 24\"\n",
              "     width=\"24px\">\n",
              "    <g>\n",
              "        <path d=\"M19 3H5c-1.1 0-2 .9-2 2v14c0 1.1.9 2 2 2h14c1.1 0 2-.9 2-2V5c0-1.1-.9-2-2-2zM9 17H7v-7h2v7zm4 0h-2V7h2v10zm4 0h-2v-4h2v4z\"/>\n",
              "    </g>\n",
              "</svg>\n",
              "      </button>\n",
              "    </div>\n",
              "\n",
              "<style>\n",
              "  .colab-df-quickchart {\n",
              "    background-color: #E8F0FE;\n",
              "    border: none;\n",
              "    border-radius: 50%;\n",
              "    cursor: pointer;\n",
              "    display: none;\n",
              "    fill: #1967D2;\n",
              "    height: 32px;\n",
              "    padding: 0 0 0 0;\n",
              "    width: 32px;\n",
              "  }\n",
              "\n",
              "  .colab-df-quickchart:hover {\n",
              "    background-color: #E2EBFA;\n",
              "    box-shadow: 0px 1px 2px rgba(60, 64, 67, 0.3), 0px 1px 3px 1px rgba(60, 64, 67, 0.15);\n",
              "    fill: #174EA6;\n",
              "  }\n",
              "\n",
              "  [theme=dark] .colab-df-quickchart {\n",
              "    background-color: #3B4455;\n",
              "    fill: #D2E3FC;\n",
              "  }\n",
              "\n",
              "  [theme=dark] .colab-df-quickchart:hover {\n",
              "    background-color: #434B5C;\n",
              "    box-shadow: 0px 1px 3px 1px rgba(0, 0, 0, 0.15);\n",
              "    filter: drop-shadow(0px 1px 2px rgba(0, 0, 0, 0.3));\n",
              "    fill: #FFFFFF;\n",
              "  }\n",
              "</style>\n",
              "\n",
              "    <script>\n",
              "      async function quickchart(key) {\n",
              "        const containerElement = document.querySelector('#' + key);\n",
              "        const charts = await google.colab.kernel.invokeFunction(\n",
              "            'suggestCharts', [key], {});\n",
              "      }\n",
              "    </script>\n",
              "\n",
              "      <script>\n",
              "\n",
              "function displayQuickchartButton(domScope) {\n",
              "  let quickchartButtonEl =\n",
              "    domScope.querySelector('#df-a3dc4a72-c90e-429b-a26a-400c3b650aaf button.colab-df-quickchart');\n",
              "  quickchartButtonEl.style.display =\n",
              "    google.colab.kernel.accessAllowed ? 'block' : 'none';\n",
              "}\n",
              "\n",
              "        displayQuickchartButton(document);\n",
              "      </script>\n",
              "      <style>\n",
              "    .colab-df-container {\n",
              "      display:flex;\n",
              "      flex-wrap:wrap;\n",
              "      gap: 12px;\n",
              "    }\n",
              "\n",
              "    .colab-df-convert {\n",
              "      background-color: #E8F0FE;\n",
              "      border: none;\n",
              "      border-radius: 50%;\n",
              "      cursor: pointer;\n",
              "      display: none;\n",
              "      fill: #1967D2;\n",
              "      height: 32px;\n",
              "      padding: 0 0 0 0;\n",
              "      width: 32px;\n",
              "    }\n",
              "\n",
              "    .colab-df-convert:hover {\n",
              "      background-color: #E2EBFA;\n",
              "      box-shadow: 0px 1px 2px rgba(60, 64, 67, 0.3), 0px 1px 3px 1px rgba(60, 64, 67, 0.15);\n",
              "      fill: #174EA6;\n",
              "    }\n",
              "\n",
              "    [theme=dark] .colab-df-convert {\n",
              "      background-color: #3B4455;\n",
              "      fill: #D2E3FC;\n",
              "    }\n",
              "\n",
              "    [theme=dark] .colab-df-convert:hover {\n",
              "      background-color: #434B5C;\n",
              "      box-shadow: 0px 1px 3px 1px rgba(0, 0, 0, 0.15);\n",
              "      filter: drop-shadow(0px 1px 2px rgba(0, 0, 0, 0.3));\n",
              "      fill: #FFFFFF;\n",
              "    }\n",
              "  </style>\n",
              "\n",
              "      <script>\n",
              "        const buttonEl =\n",
              "          document.querySelector('#df-a987c0a3-22a2-4d47-9491-c06275d72b9d button.colab-df-convert');\n",
              "        buttonEl.style.display =\n",
              "          google.colab.kernel.accessAllowed ? 'block' : 'none';\n",
              "\n",
              "        async function convertToInteractive(key) {\n",
              "          const element = document.querySelector('#df-a987c0a3-22a2-4d47-9491-c06275d72b9d');\n",
              "          const dataTable =\n",
              "            await google.colab.kernel.invokeFunction('convertToInteractive',\n",
              "                                                     [key], {});\n",
              "          if (!dataTable) return;\n",
              "\n",
              "          const docLinkHtml = 'Like what you see? Visit the ' +\n",
              "            '<a target=\"_blank\" href=https://colab.research.google.com/notebooks/data_table.ipynb>data table notebook</a>'\n",
              "            + ' to learn more about interactive tables.';\n",
              "          element.innerHTML = '';\n",
              "          dataTable['output_type'] = 'display_data';\n",
              "          await google.colab.output.renderOutput(dataTable, element);\n",
              "          const docLink = document.createElement('div');\n",
              "          docLink.innerHTML = docLinkHtml;\n",
              "          element.appendChild(docLink);\n",
              "        }\n",
              "      </script>\n",
              "    </div>\n",
              "  </div>\n"
            ]
          },
          "metadata": {},
          "execution_count": 25
        }
      ]
    },
    {
      "cell_type": "markdown",
      "source": [
        "## A\n",
        "\n",
        "**Which model performed best overall? How do you know?**"
      ],
      "metadata": {
        "id": "F2u7LIh-p2E2"
      }
    },
    {
      "cell_type": "markdown",
      "source": [
        "model_1 outperformed model_2 on every metric that is relevant. So model_1 is the best performing model."
      ],
      "metadata": {
        "id": "Nz99H4Fup6z2"
      }
    },
    {
      "cell_type": "markdown",
      "source": [
        "## B\n",
        "\n",
        "**Fit the best performing model to the test set. How does the model perform on the test-set? Is there any evidence of over-fitting?**"
      ],
      "metadata": {
        "id": "BzBRPk7lqUt8"
      }
    },
    {
      "cell_type": "code",
      "source": [
        "# fit model to training set (containing all IVs)\n",
        "model.fit(x_train, y_train)\n",
        "# predict model onto test set\n",
        "predictions = model.predict(x_test)"
      ],
      "metadata": {
        "id": "Q80xCh6mqXFv"
      },
      "execution_count": 26,
      "outputs": []
    },
    {
      "cell_type": "code",
      "source": [
        "# print classification report\n",
        "print(classification_report(y_test, predictions))"
      ],
      "metadata": {
        "id": "G7QRCDK7q11i",
        "colab": {
          "base_uri": "https://localhost:8080/"
        },
        "outputId": "f8b14113-d877-4a48-f77c-2e60813e422b"
      },
      "execution_count": 27,
      "outputs": [
        {
          "output_type": "stream",
          "name": "stdout",
          "text": [
            "              precision    recall  f1-score   support\n",
            "\n",
            "           0       0.80      0.67      0.73        18\n",
            "           1       0.60      0.75      0.67        12\n",
            "\n",
            "    accuracy                           0.70        30\n",
            "   macro avg       0.70      0.71      0.70        30\n",
            "weighted avg       0.72      0.70      0.70        30\n",
            "\n"
          ]
        }
      ]
    },
    {
      "cell_type": "markdown",
      "source": [
        "accuracy is about 6% lower, recall is only about 3% lower, precision dropped about 16% and f1 dropped about 9%.\n",
        "\n",
        "This means there may have been some overfitting. The model still provides lift over random chance alone. The model therefore is still useful and is better than random chance."
      ],
      "metadata": {
        "id": "oDsA_s19raOM"
      }
    }
  ]
}