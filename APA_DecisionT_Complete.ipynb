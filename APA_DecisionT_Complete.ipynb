{
  "nbformat": 4,
  "nbformat_minor": 0,
  "metadata": {
    "colab": {
      "provenance": []
    },
    "kernelspec": {
      "name": "python3",
      "display_name": "Python 3"
    },
    "language_info": {
      "name": "python"
    }
  },
  "cells": [
    {
      "cell_type": "markdown",
      "source": [
        "# **APA - Decision Trees**\n",
        "# DATA 3300"
      ],
      "metadata": {
        "id": "tYu76npmPg1L"
      }
    },
    {
      "cell_type": "markdown",
      "source": [
        "## Name(s): Rhett Jorgensen\n",
        "\n",
        "## Assignment"
      ],
      "metadata": {
        "id": "eFHbnaK3Plcl"
      }
    },
    {
      "cell_type": "markdown",
      "source": [
        "# Q1\n",
        "\n",
        "**Import the `funded.csv` dataset and the required libraries and packages. After viewing a heading of the df, use the `value_counts` function to view the class distribution for `Outcome`.**\n",
        "\n",
        "**What would you predict the Outcome to be for a new observation? What would be the accuracy of an *a priori* (naive) prediction approach? Show your formula.**\n"
      ],
      "metadata": {
        "id": "WKzFzTQfPpVx"
      }
    },
    {
      "cell_type": "code",
      "execution_count": 1,
      "metadata": {
        "id": "Dh84syvWPUnF"
      },
      "outputs": [],
      "source": [
        "import numpy as np\n",
        "import pandas as pd\n",
        "import matplotlib.pyplot as plt\n",
        "\n",
        "from sklearn.model_selection import train_test_split\n",
        "from sklearn.tree import DecisionTreeClassifier\n",
        "from sklearn.metrics import classification_report\n",
        "from sklearn import tree #libraries and packages for training model and evaluating performance on test set\n",
        "\n",
        "import seaborn as sns\n",
        "import graphviz #libraries for producing visualizations"
      ]
    },
    {
      "cell_type": "code",
      "source": [
        "# replace with code to import funded.csv\n",
        "df = pd.read_csv('/content/funded.csv')\n",
        "# replace with code to produce df heading\n",
        "df.head()"
      ],
      "metadata": {
        "id": "_lEYyK9gQM1r",
        "colab": {
          "base_uri": "https://localhost:8080/",
          "height": 206
        },
        "outputId": "52e19b36-f18d-48da-e987-975e5a739c22"
      },
      "execution_count": 2,
      "outputs": [
        {
          "output_type": "execute_result",
          "data": {
            "text/plain": [
              "   id    industry  months  pfunding  patents  smember  elites       outcome\n",
              "0   1  healthcare      36   2900000        0        0       5   soldoff-low\n",
              "1   2  healthcare      31   5500000        0        0       0           ipo\n",
              "2   3     defense      29    500000        0        0       4      bankrupt\n",
              "3   4        tech      29   2400000        1        0       5  soldoff-high\n",
              "4   5  healthcare      31   5300000        0        1       5           ipo"
            ],
            "text/html": [
              "\n",
              "\n",
              "  <div id=\"df-ce4fd84a-064a-40dd-b8fe-6f9069d02f74\">\n",
              "    <div class=\"colab-df-container\">\n",
              "      <div>\n",
              "<style scoped>\n",
              "    .dataframe tbody tr th:only-of-type {\n",
              "        vertical-align: middle;\n",
              "    }\n",
              "\n",
              "    .dataframe tbody tr th {\n",
              "        vertical-align: top;\n",
              "    }\n",
              "\n",
              "    .dataframe thead th {\n",
              "        text-align: right;\n",
              "    }\n",
              "</style>\n",
              "<table border=\"1\" class=\"dataframe\">\n",
              "  <thead>\n",
              "    <tr style=\"text-align: right;\">\n",
              "      <th></th>\n",
              "      <th>id</th>\n",
              "      <th>industry</th>\n",
              "      <th>months</th>\n",
              "      <th>pfunding</th>\n",
              "      <th>patents</th>\n",
              "      <th>smember</th>\n",
              "      <th>elites</th>\n",
              "      <th>outcome</th>\n",
              "    </tr>\n",
              "  </thead>\n",
              "  <tbody>\n",
              "    <tr>\n",
              "      <th>0</th>\n",
              "      <td>1</td>\n",
              "      <td>healthcare</td>\n",
              "      <td>36</td>\n",
              "      <td>2900000</td>\n",
              "      <td>0</td>\n",
              "      <td>0</td>\n",
              "      <td>5</td>\n",
              "      <td>soldoff-low</td>\n",
              "    </tr>\n",
              "    <tr>\n",
              "      <th>1</th>\n",
              "      <td>2</td>\n",
              "      <td>healthcare</td>\n",
              "      <td>31</td>\n",
              "      <td>5500000</td>\n",
              "      <td>0</td>\n",
              "      <td>0</td>\n",
              "      <td>0</td>\n",
              "      <td>ipo</td>\n",
              "    </tr>\n",
              "    <tr>\n",
              "      <th>2</th>\n",
              "      <td>3</td>\n",
              "      <td>defense</td>\n",
              "      <td>29</td>\n",
              "      <td>500000</td>\n",
              "      <td>0</td>\n",
              "      <td>0</td>\n",
              "      <td>4</td>\n",
              "      <td>bankrupt</td>\n",
              "    </tr>\n",
              "    <tr>\n",
              "      <th>3</th>\n",
              "      <td>4</td>\n",
              "      <td>tech</td>\n",
              "      <td>29</td>\n",
              "      <td>2400000</td>\n",
              "      <td>1</td>\n",
              "      <td>0</td>\n",
              "      <td>5</td>\n",
              "      <td>soldoff-high</td>\n",
              "    </tr>\n",
              "    <tr>\n",
              "      <th>4</th>\n",
              "      <td>5</td>\n",
              "      <td>healthcare</td>\n",
              "      <td>31</td>\n",
              "      <td>5300000</td>\n",
              "      <td>0</td>\n",
              "      <td>1</td>\n",
              "      <td>5</td>\n",
              "      <td>ipo</td>\n",
              "    </tr>\n",
              "  </tbody>\n",
              "</table>\n",
              "</div>\n",
              "      <button class=\"colab-df-convert\" onclick=\"convertToInteractive('df-ce4fd84a-064a-40dd-b8fe-6f9069d02f74')\"\n",
              "              title=\"Convert this dataframe to an interactive table.\"\n",
              "              style=\"display:none;\">\n",
              "\n",
              "  <svg xmlns=\"http://www.w3.org/2000/svg\" height=\"24px\"viewBox=\"0 0 24 24\"\n",
              "       width=\"24px\">\n",
              "    <path d=\"M0 0h24v24H0V0z\" fill=\"none\"/>\n",
              "    <path d=\"M18.56 5.44l.94 2.06.94-2.06 2.06-.94-2.06-.94-.94-2.06-.94 2.06-2.06.94zm-11 1L8.5 8.5l.94-2.06 2.06-.94-2.06-.94L8.5 2.5l-.94 2.06-2.06.94zm10 10l.94 2.06.94-2.06 2.06-.94-2.06-.94-.94-2.06-.94 2.06-2.06.94z\"/><path d=\"M17.41 7.96l-1.37-1.37c-.4-.4-.92-.59-1.43-.59-.52 0-1.04.2-1.43.59L10.3 9.45l-7.72 7.72c-.78.78-.78 2.05 0 2.83L4 21.41c.39.39.9.59 1.41.59.51 0 1.02-.2 1.41-.59l7.78-7.78 2.81-2.81c.8-.78.8-2.07 0-2.86zM5.41 20L4 18.59l7.72-7.72 1.47 1.35L5.41 20z\"/>\n",
              "  </svg>\n",
              "      </button>\n",
              "\n",
              "\n",
              "\n",
              "    <div id=\"df-9c96b750-5a56-4046-b1fc-4f36f82fb7e5\">\n",
              "      <button class=\"colab-df-quickchart\" onclick=\"quickchart('df-9c96b750-5a56-4046-b1fc-4f36f82fb7e5')\"\n",
              "              title=\"Suggest charts.\"\n",
              "              style=\"display:none;\">\n",
              "\n",
              "<svg xmlns=\"http://www.w3.org/2000/svg\" height=\"24px\"viewBox=\"0 0 24 24\"\n",
              "     width=\"24px\">\n",
              "    <g>\n",
              "        <path d=\"M19 3H5c-1.1 0-2 .9-2 2v14c0 1.1.9 2 2 2h14c1.1 0 2-.9 2-2V5c0-1.1-.9-2-2-2zM9 17H7v-7h2v7zm4 0h-2V7h2v10zm4 0h-2v-4h2v4z\"/>\n",
              "    </g>\n",
              "</svg>\n",
              "      </button>\n",
              "    </div>\n",
              "\n",
              "<style>\n",
              "  .colab-df-quickchart {\n",
              "    background-color: #E8F0FE;\n",
              "    border: none;\n",
              "    border-radius: 50%;\n",
              "    cursor: pointer;\n",
              "    display: none;\n",
              "    fill: #1967D2;\n",
              "    height: 32px;\n",
              "    padding: 0 0 0 0;\n",
              "    width: 32px;\n",
              "  }\n",
              "\n",
              "  .colab-df-quickchart:hover {\n",
              "    background-color: #E2EBFA;\n",
              "    box-shadow: 0px 1px 2px rgba(60, 64, 67, 0.3), 0px 1px 3px 1px rgba(60, 64, 67, 0.15);\n",
              "    fill: #174EA6;\n",
              "  }\n",
              "\n",
              "  [theme=dark] .colab-df-quickchart {\n",
              "    background-color: #3B4455;\n",
              "    fill: #D2E3FC;\n",
              "  }\n",
              "\n",
              "  [theme=dark] .colab-df-quickchart:hover {\n",
              "    background-color: #434B5C;\n",
              "    box-shadow: 0px 1px 3px 1px rgba(0, 0, 0, 0.15);\n",
              "    filter: drop-shadow(0px 1px 2px rgba(0, 0, 0, 0.3));\n",
              "    fill: #FFFFFF;\n",
              "  }\n",
              "</style>\n",
              "\n",
              "    <script>\n",
              "      async function quickchart(key) {\n",
              "        const containerElement = document.querySelector('#' + key);\n",
              "        const charts = await google.colab.kernel.invokeFunction(\n",
              "            'suggestCharts', [key], {});\n",
              "      }\n",
              "    </script>\n",
              "\n",
              "      <script>\n",
              "\n",
              "function displayQuickchartButton(domScope) {\n",
              "  let quickchartButtonEl =\n",
              "    domScope.querySelector('#df-9c96b750-5a56-4046-b1fc-4f36f82fb7e5 button.colab-df-quickchart');\n",
              "  quickchartButtonEl.style.display =\n",
              "    google.colab.kernel.accessAllowed ? 'block' : 'none';\n",
              "}\n",
              "\n",
              "        displayQuickchartButton(document);\n",
              "      </script>\n",
              "      <style>\n",
              "    .colab-df-container {\n",
              "      display:flex;\n",
              "      flex-wrap:wrap;\n",
              "      gap: 12px;\n",
              "    }\n",
              "\n",
              "    .colab-df-convert {\n",
              "      background-color: #E8F0FE;\n",
              "      border: none;\n",
              "      border-radius: 50%;\n",
              "      cursor: pointer;\n",
              "      display: none;\n",
              "      fill: #1967D2;\n",
              "      height: 32px;\n",
              "      padding: 0 0 0 0;\n",
              "      width: 32px;\n",
              "    }\n",
              "\n",
              "    .colab-df-convert:hover {\n",
              "      background-color: #E2EBFA;\n",
              "      box-shadow: 0px 1px 2px rgba(60, 64, 67, 0.3), 0px 1px 3px 1px rgba(60, 64, 67, 0.15);\n",
              "      fill: #174EA6;\n",
              "    }\n",
              "\n",
              "    [theme=dark] .colab-df-convert {\n",
              "      background-color: #3B4455;\n",
              "      fill: #D2E3FC;\n",
              "    }\n",
              "\n",
              "    [theme=dark] .colab-df-convert:hover {\n",
              "      background-color: #434B5C;\n",
              "      box-shadow: 0px 1px 3px 1px rgba(0, 0, 0, 0.15);\n",
              "      filter: drop-shadow(0px 1px 2px rgba(0, 0, 0, 0.3));\n",
              "      fill: #FFFFFF;\n",
              "    }\n",
              "  </style>\n",
              "\n",
              "      <script>\n",
              "        const buttonEl =\n",
              "          document.querySelector('#df-ce4fd84a-064a-40dd-b8fe-6f9069d02f74 button.colab-df-convert');\n",
              "        buttonEl.style.display =\n",
              "          google.colab.kernel.accessAllowed ? 'block' : 'none';\n",
              "\n",
              "        async function convertToInteractive(key) {\n",
              "          const element = document.querySelector('#df-ce4fd84a-064a-40dd-b8fe-6f9069d02f74');\n",
              "          const dataTable =\n",
              "            await google.colab.kernel.invokeFunction('convertToInteractive',\n",
              "                                                     [key], {});\n",
              "          if (!dataTable) return;\n",
              "\n",
              "          const docLinkHtml = 'Like what you see? Visit the ' +\n",
              "            '<a target=\"_blank\" href=https://colab.research.google.com/notebooks/data_table.ipynb>data table notebook</a>'\n",
              "            + ' to learn more about interactive tables.';\n",
              "          element.innerHTML = '';\n",
              "          dataTable['output_type'] = 'display_data';\n",
              "          await google.colab.output.renderOutput(dataTable, element);\n",
              "          const docLink = document.createElement('div');\n",
              "          docLink.innerHTML = docLinkHtml;\n",
              "          element.appendChild(docLink);\n",
              "        }\n",
              "      </script>\n",
              "    </div>\n",
              "  </div>\n"
            ]
          },
          "metadata": {},
          "execution_count": 2
        }
      ]
    },
    {
      "cell_type": "code",
      "source": [
        "# replace with code to view class distribution of 'outcome' (hint: value counts)\n",
        "df['outcome'].value_counts()"
      ],
      "metadata": {
        "id": "5qdkKEK6QXt1",
        "colab": {
          "base_uri": "https://localhost:8080/"
        },
        "outputId": "1a651a54-dce2-4d9c-e069-0eeb112858d7"
      },
      "execution_count": 3,
      "outputs": [
        {
          "output_type": "execute_result",
          "data": {
            "text/plain": [
              "soldoff-high    384\n",
              "bankrupt        337\n",
              "soldoff-low     264\n",
              "ipo             174\n",
              "Name: outcome, dtype: int64"
            ]
          },
          "metadata": {},
          "execution_count": 3
        }
      ]
    },
    {
      "cell_type": "code",
      "source": [
        "# replace with code to compute apriori prediction accuracy\n",
        "a = 384/len(df)\n",
        "print(\"apriori accuracy = \", a)"
      ],
      "metadata": {
        "id": "qnxDiBFsQalq",
        "colab": {
          "base_uri": "https://localhost:8080/"
        },
        "outputId": "72b7d596-83ec-4963-b298-16ae638d623c"
      },
      "execution_count": 4,
      "outputs": [
        {
          "output_type": "stream",
          "name": "stdout",
          "text": [
            "apriori accuracy =  0.33132010353753233\n"
          ]
        }
      ]
    },
    {
      "cell_type": "markdown",
      "source": [
        "Apriori accuracy is 0.331"
      ],
      "metadata": {
        "id": "cKb-Yop2OB8q"
      }
    },
    {
      "cell_type": "markdown",
      "source": [
        "# Q2\n",
        "\n",
        "**Assign your IVs to an x object and your DV to a y object, then split your data into a training and test set for x and y, using a 80-20 split. Remember to perform any preprocessing necessary on your IVs (*hint: any categorical variables?)***\n",
        "\n",
        "\n",
        "**Then train a `DecisionTreeClassifier` model from the training set, using \"gini\" as the criterion, with a max depth of 9, a minimum leaf size of 5, and `min_impurity_decrease = 0.004`.**"
      ],
      "metadata": {
        "id": "sbGMN8gYQpur"
      }
    },
    {
      "cell_type": "code",
      "source": [
        "# replace with code to select IVs to include in analysis, assign to object called 'x'\n",
        "x = df.drop(['id', 'outcome'], axis = 1)\n",
        "# replace with code to dummy code categorical variables\n",
        "x = pd.get_dummies(data = x, drop_first=False)\n",
        "# replace with code to assign your DV to an object called 'y'\n",
        "y = df['outcome']\n",
        "# replace with code to create 4 dataframe objects x_train, x_test, y_train, y_test. Set test_size to 0.2, set random_state to 100\n",
        "x_train, x_test, y_train, y_test = train_test_split(x, y, test_size = 0.2, random_state = 100)\n",
        "print(x_train.shape)\n",
        "print(x_test.shape)\n",
        "print(y_train.shape)\n",
        "print(y_test.shape)"
      ],
      "metadata": {
        "id": "m5pmSrvtRBvc",
        "colab": {
          "base_uri": "https://localhost:8080/"
        },
        "outputId": "e2b5deb6-0c68-4132-88ae-468f632638f2"
      },
      "execution_count": 6,
      "outputs": [
        {
          "output_type": "stream",
          "name": "stdout",
          "text": [
            "(927, 9)\n",
            "(232, 9)\n",
            "(927,)\n",
            "(232,)\n"
          ]
        }
      ]
    },
    {
      "cell_type": "code",
      "source": [
        "# replace with code set parameters based on instructions for DecisionTreeClassifier\n",
        "model = DecisionTreeClassifier(criterion = 'gini', random_state = 100, max_depth = 5, min_samples_leaf = 8, min_impurity_decrease=0.004)\n",
        "# replace with code to fit model to x_train and y_train\n",
        "model.fit(x_train, y_train)"
      ],
      "metadata": {
        "id": "3zf58gmhRe_Y",
        "colab": {
          "base_uri": "https://localhost:8080/",
          "height": 92
        },
        "outputId": "8f5d1a1d-d1cd-4588-f0bd-a1d40a630b85"
      },
      "execution_count": 8,
      "outputs": [
        {
          "output_type": "execute_result",
          "data": {
            "text/plain": [
              "DecisionTreeClassifier(max_depth=5, min_impurity_decrease=0.004,\n",
              "                       min_samples_leaf=8, random_state=100)"
            ],
            "text/html": [
              "<style>#sk-container-id-1 {color: black;background-color: white;}#sk-container-id-1 pre{padding: 0;}#sk-container-id-1 div.sk-toggleable {background-color: white;}#sk-container-id-1 label.sk-toggleable__label {cursor: pointer;display: block;width: 100%;margin-bottom: 0;padding: 0.3em;box-sizing: border-box;text-align: center;}#sk-container-id-1 label.sk-toggleable__label-arrow:before {content: \"▸\";float: left;margin-right: 0.25em;color: #696969;}#sk-container-id-1 label.sk-toggleable__label-arrow:hover:before {color: black;}#sk-container-id-1 div.sk-estimator:hover label.sk-toggleable__label-arrow:before {color: black;}#sk-container-id-1 div.sk-toggleable__content {max-height: 0;max-width: 0;overflow: hidden;text-align: left;background-color: #f0f8ff;}#sk-container-id-1 div.sk-toggleable__content pre {margin: 0.2em;color: black;border-radius: 0.25em;background-color: #f0f8ff;}#sk-container-id-1 input.sk-toggleable__control:checked~div.sk-toggleable__content {max-height: 200px;max-width: 100%;overflow: auto;}#sk-container-id-1 input.sk-toggleable__control:checked~label.sk-toggleable__label-arrow:before {content: \"▾\";}#sk-container-id-1 div.sk-estimator input.sk-toggleable__control:checked~label.sk-toggleable__label {background-color: #d4ebff;}#sk-container-id-1 div.sk-label input.sk-toggleable__control:checked~label.sk-toggleable__label {background-color: #d4ebff;}#sk-container-id-1 input.sk-hidden--visually {border: 0;clip: rect(1px 1px 1px 1px);clip: rect(1px, 1px, 1px, 1px);height: 1px;margin: -1px;overflow: hidden;padding: 0;position: absolute;width: 1px;}#sk-container-id-1 div.sk-estimator {font-family: monospace;background-color: #f0f8ff;border: 1px dotted black;border-radius: 0.25em;box-sizing: border-box;margin-bottom: 0.5em;}#sk-container-id-1 div.sk-estimator:hover {background-color: #d4ebff;}#sk-container-id-1 div.sk-parallel-item::after {content: \"\";width: 100%;border-bottom: 1px solid gray;flex-grow: 1;}#sk-container-id-1 div.sk-label:hover label.sk-toggleable__label {background-color: #d4ebff;}#sk-container-id-1 div.sk-serial::before {content: \"\";position: absolute;border-left: 1px solid gray;box-sizing: border-box;top: 0;bottom: 0;left: 50%;z-index: 0;}#sk-container-id-1 div.sk-serial {display: flex;flex-direction: column;align-items: center;background-color: white;padding-right: 0.2em;padding-left: 0.2em;position: relative;}#sk-container-id-1 div.sk-item {position: relative;z-index: 1;}#sk-container-id-1 div.sk-parallel {display: flex;align-items: stretch;justify-content: center;background-color: white;position: relative;}#sk-container-id-1 div.sk-item::before, #sk-container-id-1 div.sk-parallel-item::before {content: \"\";position: absolute;border-left: 1px solid gray;box-sizing: border-box;top: 0;bottom: 0;left: 50%;z-index: -1;}#sk-container-id-1 div.sk-parallel-item {display: flex;flex-direction: column;z-index: 1;position: relative;background-color: white;}#sk-container-id-1 div.sk-parallel-item:first-child::after {align-self: flex-end;width: 50%;}#sk-container-id-1 div.sk-parallel-item:last-child::after {align-self: flex-start;width: 50%;}#sk-container-id-1 div.sk-parallel-item:only-child::after {width: 0;}#sk-container-id-1 div.sk-dashed-wrapped {border: 1px dashed gray;margin: 0 0.4em 0.5em 0.4em;box-sizing: border-box;padding-bottom: 0.4em;background-color: white;}#sk-container-id-1 div.sk-label label {font-family: monospace;font-weight: bold;display: inline-block;line-height: 1.2em;}#sk-container-id-1 div.sk-label-container {text-align: center;}#sk-container-id-1 div.sk-container {/* jupyter's `normalize.less` sets `[hidden] { display: none; }` but bootstrap.min.css set `[hidden] { display: none !important; }` so we also need the `!important` here to be able to override the default hidden behavior on the sphinx rendered scikit-learn.org. See: https://github.com/scikit-learn/scikit-learn/issues/21755 */display: inline-block !important;position: relative;}#sk-container-id-1 div.sk-text-repr-fallback {display: none;}</style><div id=\"sk-container-id-1\" class=\"sk-top-container\"><div class=\"sk-text-repr-fallback\"><pre>DecisionTreeClassifier(max_depth=5, min_impurity_decrease=0.004,\n",
              "                       min_samples_leaf=8, random_state=100)</pre><b>In a Jupyter environment, please rerun this cell to show the HTML representation or trust the notebook. <br />On GitHub, the HTML representation is unable to render, please try loading this page with nbviewer.org.</b></div><div class=\"sk-container\" hidden><div class=\"sk-item\"><div class=\"sk-estimator sk-toggleable\"><input class=\"sk-toggleable__control sk-hidden--visually\" id=\"sk-estimator-id-1\" type=\"checkbox\" checked><label for=\"sk-estimator-id-1\" class=\"sk-toggleable__label sk-toggleable__label-arrow\">DecisionTreeClassifier</label><div class=\"sk-toggleable__content\"><pre>DecisionTreeClassifier(max_depth=5, min_impurity_decrease=0.004,\n",
              "                       min_samples_leaf=8, random_state=100)</pre></div></div></div></div></div>"
            ]
          },
          "metadata": {},
          "execution_count": 8
        }
      ]
    },
    {
      "cell_type": "markdown",
      "source": [
        "## A\n",
        "\n",
        "**Plot your decision tree using the `export_graphviz` function from the `tree` library.**"
      ],
      "metadata": {
        "id": "x-1gIkagS3G6"
      }
    },
    {
      "cell_type": "code",
      "source": [
        "# replace with code to generate tree plot of model\n",
        "labels = y.value_counts()\n",
        "dot_data = tree.export_graphviz(model, out_file = None, feature_names = x.columns, class_names = labels.index.values, filled = True)\n",
        "graph = graphviz.Source(dot_data, format = 'png')\n",
        "graph"
      ],
      "metadata": {
        "id": "5_MJDzhhS_A5",
        "colab": {
          "base_uri": "https://localhost:8080/",
          "height": 935
        },
        "outputId": "e17d3953-7084-4fad-96d7-3a2a14ad082b"
      },
      "execution_count": 9,
      "outputs": [
        {
          "output_type": "execute_result",
          "data": {
            "image/svg+xml": "<?xml version=\"1.0\" encoding=\"UTF-8\" standalone=\"no\"?>\n<!DOCTYPE svg PUBLIC \"-//W3C//DTD SVG 1.1//EN\"\n \"http://www.w3.org/Graphics/SVG/1.1/DTD/svg11.dtd\">\n<!-- Generated by graphviz version 2.43.0 (0)\n -->\n<!-- Title: Tree Pages: 1 -->\n<svg width=\"1325pt\" height=\"671pt\"\n viewBox=\"0.00 0.00 1324.50 671.00\" xmlns=\"http://www.w3.org/2000/svg\" xmlns:xlink=\"http://www.w3.org/1999/xlink\">\n<g id=\"graph0\" class=\"graph\" transform=\"scale(1 1) rotate(0) translate(4 667)\">\n<title>Tree</title>\n<polygon fill=\"white\" stroke=\"transparent\" points=\"-4,4 -4,-667 1320.5,-667 1320.5,4 -4,4\"/>\n<!-- 0 -->\n<g id=\"node1\" class=\"node\">\n<title>0</title>\n<polygon fill=\"#f4fafe\" stroke=\"black\" points=\"1067.5,-663 882.5,-663 882.5,-580 1067.5,-580 1067.5,-663\"/>\n<text text-anchor=\"middle\" x=\"975\" y=\"-647.8\" font-family=\"Helvetica,sans-Serif\" font-size=\"14.00\">industry_tech &lt;= 0.5</text>\n<text text-anchor=\"middle\" x=\"975\" y=\"-632.8\" font-family=\"Helvetica,sans-Serif\" font-size=\"14.00\">gini = 0.731</text>\n<text text-anchor=\"middle\" x=\"975\" y=\"-617.8\" font-family=\"Helvetica,sans-Serif\" font-size=\"14.00\">samples = 927</text>\n<text text-anchor=\"middle\" x=\"975\" y=\"-602.8\" font-family=\"Helvetica,sans-Serif\" font-size=\"14.00\">value = [267, 134, 304, 222]</text>\n<text text-anchor=\"middle\" x=\"975\" y=\"-587.8\" font-family=\"Helvetica,sans-Serif\" font-size=\"14.00\">class = soldoff&#45;low</text>\n</g>\n<!-- 1 -->\n<g id=\"node2\" class=\"node\">\n<title>1</title>\n<polygon fill=\"#ffffff\" stroke=\"black\" points=\"905.5,-544 720.5,-544 720.5,-461 905.5,-461 905.5,-544\"/>\n<text text-anchor=\"middle\" x=\"813\" y=\"-528.8\" font-family=\"Helvetica,sans-Serif\" font-size=\"14.00\">patents &lt;= 0.5</text>\n<text text-anchor=\"middle\" x=\"813\" y=\"-513.8\" font-family=\"Helvetica,sans-Serif\" font-size=\"14.00\">gini = 0.735</text>\n<text text-anchor=\"middle\" x=\"813\" y=\"-498.8\" font-family=\"Helvetica,sans-Serif\" font-size=\"14.00\">samples = 636</text>\n<text text-anchor=\"middle\" x=\"813\" y=\"-483.8\" font-family=\"Helvetica,sans-Serif\" font-size=\"14.00\">value = [137, 106, 197, 196]</text>\n<text text-anchor=\"middle\" x=\"813\" y=\"-468.8\" font-family=\"Helvetica,sans-Serif\" font-size=\"14.00\">class = soldoff&#45;low</text>\n</g>\n<!-- 0&#45;&gt;1 -->\n<g id=\"edge1\" class=\"edge\">\n<title>0&#45;&gt;1</title>\n<path fill=\"none\" stroke=\"black\" d=\"M918.79,-579.91C905.48,-570.29 891.17,-559.95 877.51,-550.09\"/>\n<polygon fill=\"black\" stroke=\"black\" points=\"879.26,-547.04 869.11,-544.02 875.16,-552.71 879.26,-547.04\"/>\n<text text-anchor=\"middle\" x=\"873.09\" y=\"-565\" font-family=\"Helvetica,sans-Serif\" font-size=\"14.00\">True</text>\n</g>\n<!-- 22 -->\n<g id=\"node23\" class=\"node\">\n<title>22</title>\n<polygon fill=\"#fcefe6\" stroke=\"black\" points=\"1158,-544 988,-544 988,-461 1158,-461 1158,-544\"/>\n<text text-anchor=\"middle\" x=\"1073\" y=\"-528.8\" font-family=\"Helvetica,sans-Serif\" font-size=\"14.00\">pfunding &lt;= 4950000.0</text>\n<text text-anchor=\"middle\" x=\"1073\" y=\"-513.8\" font-family=\"Helvetica,sans-Serif\" font-size=\"14.00\">gini = 0.648</text>\n<text text-anchor=\"middle\" x=\"1073\" y=\"-498.8\" font-family=\"Helvetica,sans-Serif\" font-size=\"14.00\">samples = 291</text>\n<text text-anchor=\"middle\" x=\"1073\" y=\"-483.8\" font-family=\"Helvetica,sans-Serif\" font-size=\"14.00\">value = [130, 28, 107, 26]</text>\n<text text-anchor=\"middle\" x=\"1073\" y=\"-468.8\" font-family=\"Helvetica,sans-Serif\" font-size=\"14.00\">class = soldoff&#45;high</text>\n</g>\n<!-- 0&#45;&gt;22 -->\n<g id=\"edge22\" class=\"edge\">\n<title>0&#45;&gt;22</title>\n<path fill=\"none\" stroke=\"black\" d=\"M1009,-579.91C1016.6,-570.83 1024.74,-561.12 1032.57,-551.77\"/>\n<polygon fill=\"black\" stroke=\"black\" points=\"1035.32,-553.93 1039.06,-544.02 1029.96,-549.44 1035.32,-553.93\"/>\n<text text-anchor=\"middle\" x=\"1041.26\" y=\"-565.22\" font-family=\"Helvetica,sans-Serif\" font-size=\"14.00\">False</text>\n</g>\n<!-- 2 -->\n<g id=\"node3\" class=\"node\">\n<title>2</title>\n<polygon fill=\"#fcf1e9\" stroke=\"black\" points=\"646,-425 484,-425 484,-342 646,-342 646,-425\"/>\n<text text-anchor=\"middle\" x=\"565\" y=\"-409.8\" font-family=\"Helvetica,sans-Serif\" font-size=\"14.00\">industry_media &lt;= 0.5</text>\n<text text-anchor=\"middle\" x=\"565\" y=\"-394.8\" font-family=\"Helvetica,sans-Serif\" font-size=\"14.00\">gini = 0.734</text>\n<text text-anchor=\"middle\" x=\"565\" y=\"-379.8\" font-family=\"Helvetica,sans-Serif\" font-size=\"14.00\">samples = 303</text>\n<text text-anchor=\"middle\" x=\"565\" y=\"-364.8\" font-family=\"Helvetica,sans-Serif\" font-size=\"14.00\">value = [102, 48, 77, 76]</text>\n<text text-anchor=\"middle\" x=\"565\" y=\"-349.8\" font-family=\"Helvetica,sans-Serif\" font-size=\"14.00\">class = soldoff&#45;high</text>\n</g>\n<!-- 1&#45;&gt;2 -->\n<g id=\"edge2\" class=\"edge\">\n<title>1&#45;&gt;2</title>\n<path fill=\"none\" stroke=\"black\" d=\"M726.96,-460.91C703.86,-450.01 678.82,-438.2 655.49,-427.19\"/>\n<polygon fill=\"black\" stroke=\"black\" points=\"656.84,-423.96 646.3,-422.86 653.85,-430.29 656.84,-423.96\"/>\n</g>\n<!-- 13 -->\n<g id=\"node14\" class=\"node\">\n<title>13</title>\n<polygon fill=\"#ffffff\" stroke=\"black\" points=\"898,-425 728,-425 728,-342 898,-342 898,-425\"/>\n<text text-anchor=\"middle\" x=\"813\" y=\"-409.8\" font-family=\"Helvetica,sans-Serif\" font-size=\"14.00\">pfunding &lt;= 5150000.0</text>\n<text text-anchor=\"middle\" x=\"813\" y=\"-394.8\" font-family=\"Helvetica,sans-Serif\" font-size=\"14.00\">gini = 0.699</text>\n<text text-anchor=\"middle\" x=\"813\" y=\"-379.8\" font-family=\"Helvetica,sans-Serif\" font-size=\"14.00\">samples = 333</text>\n<text text-anchor=\"middle\" x=\"813\" y=\"-364.8\" font-family=\"Helvetica,sans-Serif\" font-size=\"14.00\">value = [35, 58, 120, 120]</text>\n<text text-anchor=\"middle\" x=\"813\" y=\"-349.8\" font-family=\"Helvetica,sans-Serif\" font-size=\"14.00\">class = soldoff&#45;low</text>\n</g>\n<!-- 1&#45;&gt;13 -->\n<g id=\"edge13\" class=\"edge\">\n<title>1&#45;&gt;13</title>\n<path fill=\"none\" stroke=\"black\" d=\"M813,-460.91C813,-452.65 813,-443.86 813,-435.3\"/>\n<polygon fill=\"black\" stroke=\"black\" points=\"816.5,-435.02 813,-425.02 809.5,-435.02 816.5,-435.02\"/>\n</g>\n<!-- 3 -->\n<g id=\"node4\" class=\"node\">\n<title>3</title>\n<polygon fill=\"#fceee5\" stroke=\"black\" points=\"473,-306 311,-306 311,-223 473,-223 473,-306\"/>\n<text text-anchor=\"middle\" x=\"392\" y=\"-290.8\" font-family=\"Helvetica,sans-Serif\" font-size=\"14.00\">industry_defense &lt;= 0.5</text>\n<text text-anchor=\"middle\" x=\"392\" y=\"-275.8\" font-family=\"Helvetica,sans-Serif\" font-size=\"14.00\">gini = 0.725</text>\n<text text-anchor=\"middle\" x=\"392\" y=\"-260.8\" font-family=\"Helvetica,sans-Serif\" font-size=\"14.00\">samples = 238</text>\n<text text-anchor=\"middle\" x=\"392\" y=\"-245.8\" font-family=\"Helvetica,sans-Serif\" font-size=\"14.00\">value = [88, 45, 40, 65]</text>\n<text text-anchor=\"middle\" x=\"392\" y=\"-230.8\" font-family=\"Helvetica,sans-Serif\" font-size=\"14.00\">class = soldoff&#45;high</text>\n</g>\n<!-- 2&#45;&gt;3 -->\n<g id=\"edge3\" class=\"edge\">\n<title>2&#45;&gt;3</title>\n<path fill=\"none\" stroke=\"black\" d=\"M504.98,-341.91C490.62,-332.2 475.19,-321.76 460.48,-311.81\"/>\n<polygon fill=\"black\" stroke=\"black\" points=\"462.16,-308.72 451.92,-306.02 458.24,-314.52 462.16,-308.72\"/>\n</g>\n<!-- 10 -->\n<g id=\"node11\" class=\"node\">\n<title>10</title>\n<polygon fill=\"#a6d3f3\" stroke=\"black\" points=\"638.5,-306 491.5,-306 491.5,-223 638.5,-223 638.5,-306\"/>\n<text text-anchor=\"middle\" x=\"565\" y=\"-290.8\" font-family=\"Helvetica,sans-Serif\" font-size=\"14.00\">months &lt;= 35.5</text>\n<text text-anchor=\"middle\" x=\"565\" y=\"-275.8\" font-family=\"Helvetica,sans-Serif\" font-size=\"14.00\">gini = 0.599</text>\n<text text-anchor=\"middle\" x=\"565\" y=\"-260.8\" font-family=\"Helvetica,sans-Serif\" font-size=\"14.00\">samples = 65</text>\n<text text-anchor=\"middle\" x=\"565\" y=\"-245.8\" font-family=\"Helvetica,sans-Serif\" font-size=\"14.00\">value = [14, 3, 37, 11]</text>\n<text text-anchor=\"middle\" x=\"565\" y=\"-230.8\" font-family=\"Helvetica,sans-Serif\" font-size=\"14.00\">class = soldoff&#45;low</text>\n</g>\n<!-- 2&#45;&gt;10 -->\n<g id=\"edge10\" class=\"edge\">\n<title>2&#45;&gt;10</title>\n<path fill=\"none\" stroke=\"black\" d=\"M565,-341.91C565,-333.65 565,-324.86 565,-316.3\"/>\n<polygon fill=\"black\" stroke=\"black\" points=\"568.5,-316.02 565,-306.02 561.5,-316.02 568.5,-316.02\"/>\n</g>\n<!-- 4 -->\n<g id=\"node5\" class=\"node\">\n<title>4</title>\n<polygon fill=\"#eefded\" stroke=\"black\" points=\"304,-187 148,-187 148,-104 304,-104 304,-187\"/>\n<text text-anchor=\"middle\" x=\"226\" y=\"-171.8\" font-family=\"Helvetica,sans-Serif\" font-size=\"14.00\">pfunding &lt;= 5100000.0</text>\n<text text-anchor=\"middle\" x=\"226\" y=\"-156.8\" font-family=\"Helvetica,sans-Serif\" font-size=\"14.00\">gini = 0.734</text>\n<text text-anchor=\"middle\" x=\"226\" y=\"-141.8\" font-family=\"Helvetica,sans-Serif\" font-size=\"14.00\">samples = 118</text>\n<text text-anchor=\"middle\" x=\"226\" y=\"-126.8\" font-family=\"Helvetica,sans-Serif\" font-size=\"14.00\">value = [31, 39, 18, 30]</text>\n<text text-anchor=\"middle\" x=\"226\" y=\"-111.8\" font-family=\"Helvetica,sans-Serif\" font-size=\"14.00\">class = bankrupt</text>\n</g>\n<!-- 3&#45;&gt;4 -->\n<g id=\"edge4\" class=\"edge\">\n<title>3&#45;&gt;4</title>\n<path fill=\"none\" stroke=\"black\" d=\"M334.41,-222.91C320.63,-213.2 305.82,-202.76 291.71,-192.81\"/>\n<polygon fill=\"black\" stroke=\"black\" points=\"293.68,-189.92 283.49,-187.02 289.65,-195.64 293.68,-189.92\"/>\n</g>\n<!-- 7 -->\n<g id=\"node8\" class=\"node\">\n<title>7</title>\n<polygon fill=\"#f8decc\" stroke=\"black\" points=\"469.5,-187 322.5,-187 322.5,-104 469.5,-104 469.5,-187\"/>\n<text text-anchor=\"middle\" x=\"396\" y=\"-171.8\" font-family=\"Helvetica,sans-Serif\" font-size=\"14.00\">elites &lt;= 5.5</text>\n<text text-anchor=\"middle\" x=\"396\" y=\"-156.8\" font-family=\"Helvetica,sans-Serif\" font-size=\"14.00\">gini = 0.653</text>\n<text text-anchor=\"middle\" x=\"396\" y=\"-141.8\" font-family=\"Helvetica,sans-Serif\" font-size=\"14.00\">samples = 120</text>\n<text text-anchor=\"middle\" x=\"396\" y=\"-126.8\" font-family=\"Helvetica,sans-Serif\" font-size=\"14.00\">value = [57, 6, 22, 35]</text>\n<text text-anchor=\"middle\" x=\"396\" y=\"-111.8\" font-family=\"Helvetica,sans-Serif\" font-size=\"14.00\">class = soldoff&#45;high</text>\n</g>\n<!-- 3&#45;&gt;7 -->\n<g id=\"edge7\" class=\"edge\">\n<title>3&#45;&gt;7</title>\n<path fill=\"none\" stroke=\"black\" d=\"M393.39,-222.91C393.67,-214.56 393.98,-205.67 394.27,-197.02\"/>\n<polygon fill=\"black\" stroke=\"black\" points=\"397.77,-197.13 394.61,-187.02 390.77,-196.9 397.77,-197.13\"/>\n</g>\n<!-- 5 -->\n<g id=\"node6\" class=\"node\">\n<title>5</title>\n<polygon fill=\"#fbece1\" stroke=\"black\" points=\"140,-68 0,-68 0,0 140,0 140,-68\"/>\n<text text-anchor=\"middle\" x=\"70\" y=\"-52.8\" font-family=\"Helvetica,sans-Serif\" font-size=\"14.00\">gini = 0.698</text>\n<text text-anchor=\"middle\" x=\"70\" y=\"-37.8\" font-family=\"Helvetica,sans-Serif\" font-size=\"14.00\">samples = 56</text>\n<text text-anchor=\"middle\" x=\"70\" y=\"-22.8\" font-family=\"Helvetica,sans-Serif\" font-size=\"14.00\">value = [23, 7, 9, 17]</text>\n<text text-anchor=\"middle\" x=\"70\" y=\"-7.8\" font-family=\"Helvetica,sans-Serif\" font-size=\"14.00\">class = soldoff&#45;high</text>\n</g>\n<!-- 4&#45;&gt;5 -->\n<g id=\"edge5\" class=\"edge\">\n<title>4&#45;&gt;5</title>\n<path fill=\"none\" stroke=\"black\" d=\"M167.91,-103.73C154.14,-94.06 139.48,-83.77 125.81,-74.17\"/>\n<polygon fill=\"black\" stroke=\"black\" points=\"127.64,-71.18 117.44,-68.3 123.61,-76.91 127.64,-71.18\"/>\n</g>\n<!-- 6 -->\n<g id=\"node7\" class=\"node\">\n<title>6</title>\n<polygon fill=\"#b8f5b2\" stroke=\"black\" points=\"298,-68 158,-68 158,0 298,0 298,-68\"/>\n<text text-anchor=\"middle\" x=\"228\" y=\"-52.8\" font-family=\"Helvetica,sans-Serif\" font-size=\"14.00\">gini = 0.652</text>\n<text text-anchor=\"middle\" x=\"228\" y=\"-37.8\" font-family=\"Helvetica,sans-Serif\" font-size=\"14.00\">samples = 62</text>\n<text text-anchor=\"middle\" x=\"228\" y=\"-22.8\" font-family=\"Helvetica,sans-Serif\" font-size=\"14.00\">value = [8, 32, 9, 13]</text>\n<text text-anchor=\"middle\" x=\"228\" y=\"-7.8\" font-family=\"Helvetica,sans-Serif\" font-size=\"14.00\">class = bankrupt</text>\n</g>\n<!-- 4&#45;&gt;6 -->\n<g id=\"edge6\" class=\"edge\">\n<title>4&#45;&gt;6</title>\n<path fill=\"none\" stroke=\"black\" d=\"M226.74,-103.73C226.89,-95.52 227.05,-86.86 227.2,-78.56\"/>\n<polygon fill=\"black\" stroke=\"black\" points=\"230.71,-78.36 227.39,-68.3 223.71,-78.23 230.71,-78.36\"/>\n</g>\n<!-- 8 -->\n<g id=\"node9\" class=\"node\">\n<title>8</title>\n<polygon fill=\"#f7d8c1\" stroke=\"black\" points=\"467.5,-68 320.5,-68 320.5,0 467.5,0 467.5,-68\"/>\n<text text-anchor=\"middle\" x=\"394\" y=\"-52.8\" font-family=\"Helvetica,sans-Serif\" font-size=\"14.00\">gini = 0.611</text>\n<text text-anchor=\"middle\" x=\"394\" y=\"-37.8\" font-family=\"Helvetica,sans-Serif\" font-size=\"14.00\">samples = 107</text>\n<text text-anchor=\"middle\" x=\"394\" y=\"-22.8\" font-family=\"Helvetica,sans-Serif\" font-size=\"14.00\">value = [56, 3, 15, 33]</text>\n<text text-anchor=\"middle\" x=\"394\" y=\"-7.8\" font-family=\"Helvetica,sans-Serif\" font-size=\"14.00\">class = soldoff&#45;high</text>\n</g>\n<!-- 7&#45;&gt;8 -->\n<g id=\"edge8\" class=\"edge\">\n<title>7&#45;&gt;8</title>\n<path fill=\"none\" stroke=\"black\" d=\"M395.26,-103.73C395.11,-95.52 394.95,-86.86 394.8,-78.56\"/>\n<polygon fill=\"black\" stroke=\"black\" points=\"398.29,-78.23 394.61,-68.3 391.29,-78.36 398.29,-78.23\"/>\n</g>\n<!-- 9 -->\n<g id=\"node10\" class=\"node\">\n<title>9</title>\n<polygon fill=\"#b0d8f5\" stroke=\"black\" points=\"614,-68 486,-68 486,0 614,0 614,-68\"/>\n<text text-anchor=\"middle\" x=\"550\" y=\"-52.8\" font-family=\"Helvetica,sans-Serif\" font-size=\"14.00\">gini = 0.627</text>\n<text text-anchor=\"middle\" x=\"550\" y=\"-37.8\" font-family=\"Helvetica,sans-Serif\" font-size=\"14.00\">samples = 13</text>\n<text text-anchor=\"middle\" x=\"550\" y=\"-22.8\" font-family=\"Helvetica,sans-Serif\" font-size=\"14.00\">value = [1, 3, 7, 2]</text>\n<text text-anchor=\"middle\" x=\"550\" y=\"-7.8\" font-family=\"Helvetica,sans-Serif\" font-size=\"14.00\">class = soldoff&#45;low</text>\n</g>\n<!-- 7&#45;&gt;9 -->\n<g id=\"edge9\" class=\"edge\">\n<title>7&#45;&gt;9</title>\n<path fill=\"none\" stroke=\"black\" d=\"M453.34,-103.73C466.94,-94.06 481.41,-83.77 494.91,-74.17\"/>\n<polygon fill=\"black\" stroke=\"black\" points=\"497.05,-76.95 503.17,-68.3 492.99,-71.24 497.05,-76.95\"/>\n</g>\n<!-- 11 -->\n<g id=\"node12\" class=\"node\">\n<title>11</title>\n<polygon fill=\"#8dc6f0\" stroke=\"black\" points=\"627,-179.5 495,-179.5 495,-111.5 627,-111.5 627,-179.5\"/>\n<text text-anchor=\"middle\" x=\"561\" y=\"-164.3\" font-family=\"Helvetica,sans-Serif\" font-size=\"14.00\">gini = 0.532</text>\n<text text-anchor=\"middle\" x=\"561\" y=\"-149.3\" font-family=\"Helvetica,sans-Serif\" font-size=\"14.00\">samples = 54</text>\n<text text-anchor=\"middle\" x=\"561\" y=\"-134.3\" font-family=\"Helvetica,sans-Serif\" font-size=\"14.00\">value = [7, 3, 35, 9]</text>\n<text text-anchor=\"middle\" x=\"561\" y=\"-119.3\" font-family=\"Helvetica,sans-Serif\" font-size=\"14.00\">class = soldoff&#45;low</text>\n</g>\n<!-- 10&#45;&gt;11 -->\n<g id=\"edge11\" class=\"edge\">\n<title>10&#45;&gt;11</title>\n<path fill=\"none\" stroke=\"black\" d=\"M563.61,-222.91C563.25,-212.2 562.85,-200.62 562.48,-189.78\"/>\n<polygon fill=\"black\" stroke=\"black\" points=\"565.97,-189.54 562.13,-179.67 558.98,-189.78 565.97,-189.54\"/>\n</g>\n<!-- 12 -->\n<g id=\"node13\" class=\"node\">\n<title>12</title>\n<polygon fill=\"#f1b991\" stroke=\"black\" points=\"778.5,-179.5 645.5,-179.5 645.5,-111.5 778.5,-111.5 778.5,-179.5\"/>\n<text text-anchor=\"middle\" x=\"712\" y=\"-164.3\" font-family=\"Helvetica,sans-Serif\" font-size=\"14.00\">gini = 0.529</text>\n<text text-anchor=\"middle\" x=\"712\" y=\"-149.3\" font-family=\"Helvetica,sans-Serif\" font-size=\"14.00\">samples = 11</text>\n<text text-anchor=\"middle\" x=\"712\" y=\"-134.3\" font-family=\"Helvetica,sans-Serif\" font-size=\"14.00\">value = [7, 0, 2, 2]</text>\n<text text-anchor=\"middle\" x=\"712\" y=\"-119.3\" font-family=\"Helvetica,sans-Serif\" font-size=\"14.00\">class = soldoff&#45;high</text>\n</g>\n<!-- 10&#45;&gt;12 -->\n<g id=\"edge12\" class=\"edge\">\n<title>10&#45;&gt;12</title>\n<path fill=\"none\" stroke=\"black\" d=\"M616,-222.91C630.97,-210.99 647.33,-197.98 662.22,-186.12\"/>\n<polygon fill=\"black\" stroke=\"black\" points=\"664.68,-188.63 670.33,-179.67 660.32,-183.16 664.68,-188.63\"/>\n</g>\n<!-- 14 -->\n<g id=\"node15\" class=\"node\">\n<title>14</title>\n<polygon fill=\"#eef7fd\" stroke=\"black\" points=\"811.5,-298.5 656.5,-298.5 656.5,-230.5 811.5,-230.5 811.5,-298.5\"/>\n<text text-anchor=\"middle\" x=\"734\" y=\"-283.3\" font-family=\"Helvetica,sans-Serif\" font-size=\"14.00\">gini = 0.663</text>\n<text text-anchor=\"middle\" x=\"734\" y=\"-268.3\" font-family=\"Helvetica,sans-Serif\" font-size=\"14.00\">samples = 225</text>\n<text text-anchor=\"middle\" x=\"734\" y=\"-253.3\" font-family=\"Helvetica,sans-Serif\" font-size=\"14.00\">value = [20, 27, 95, 83]</text>\n<text text-anchor=\"middle\" x=\"734\" y=\"-238.3\" font-family=\"Helvetica,sans-Serif\" font-size=\"14.00\">class = soldoff&#45;low</text>\n</g>\n<!-- 13&#45;&gt;14 -->\n<g id=\"edge14\" class=\"edge\">\n<title>13&#45;&gt;14</title>\n<path fill=\"none\" stroke=\"black\" d=\"M785.59,-341.91C777.99,-330.65 769.73,-318.42 762.09,-307.11\"/>\n<polygon fill=\"black\" stroke=\"black\" points=\"764.89,-305 756.39,-298.67 759.09,-308.91 764.89,-305\"/>\n</g>\n<!-- 15 -->\n<g id=\"node16\" class=\"node\">\n<title>15</title>\n<polygon fill=\"#fcf0fd\" stroke=\"black\" points=\"984.5,-306 829.5,-306 829.5,-223 984.5,-223 984.5,-306\"/>\n<text text-anchor=\"middle\" x=\"907\" y=\"-290.8\" font-family=\"Helvetica,sans-Serif\" font-size=\"14.00\">elites &lt;= 3.5</text>\n<text text-anchor=\"middle\" x=\"907\" y=\"-275.8\" font-family=\"Helvetica,sans-Serif\" font-size=\"14.00\">gini = 0.727</text>\n<text text-anchor=\"middle\" x=\"907\" y=\"-260.8\" font-family=\"Helvetica,sans-Serif\" font-size=\"14.00\">samples = 108</text>\n<text text-anchor=\"middle\" x=\"907\" y=\"-245.8\" font-family=\"Helvetica,sans-Serif\" font-size=\"14.00\">value = [15, 31, 25, 37]</text>\n<text text-anchor=\"middle\" x=\"907\" y=\"-230.8\" font-family=\"Helvetica,sans-Serif\" font-size=\"14.00\">class = ipo</text>\n</g>\n<!-- 13&#45;&gt;15 -->\n<g id=\"edge15\" class=\"edge\">\n<title>13&#45;&gt;15</title>\n<path fill=\"none\" stroke=\"black\" d=\"M845.61,-341.91C852.83,-332.92 860.55,-323.32 867.99,-314.05\"/>\n<polygon fill=\"black\" stroke=\"black\" points=\"870.91,-316.01 874.44,-306.02 865.45,-311.62 870.91,-316.01\"/>\n</g>\n<!-- 16 -->\n<g id=\"node17\" class=\"node\">\n<title>16</title>\n<polygon fill=\"#f5ccf8\" stroke=\"black\" points=\"962.5,-187 815.5,-187 815.5,-104 962.5,-104 962.5,-187\"/>\n<text text-anchor=\"middle\" x=\"889\" y=\"-171.8\" font-family=\"Helvetica,sans-Serif\" font-size=\"14.00\">months &lt;= 35.5</text>\n<text text-anchor=\"middle\" x=\"889\" y=\"-156.8\" font-family=\"Helvetica,sans-Serif\" font-size=\"14.00\">gini = 0.671</text>\n<text text-anchor=\"middle\" x=\"889\" y=\"-141.8\" font-family=\"Helvetica,sans-Serif\" font-size=\"14.00\">samples = 75</text>\n<text text-anchor=\"middle\" x=\"889\" y=\"-126.8\" font-family=\"Helvetica,sans-Serif\" font-size=\"14.00\">value = [11, 8, 21, 35]</text>\n<text text-anchor=\"middle\" x=\"889\" y=\"-111.8\" font-family=\"Helvetica,sans-Serif\" font-size=\"14.00\">class = ipo</text>\n</g>\n<!-- 15&#45;&gt;16 -->\n<g id=\"edge16\" class=\"edge\">\n<title>15&#45;&gt;16</title>\n<path fill=\"none\" stroke=\"black\" d=\"M900.75,-222.91C899.47,-214.56 898.1,-205.67 896.77,-197.02\"/>\n<polygon fill=\"black\" stroke=\"black\" points=\"900.21,-196.37 895.23,-187.02 893.3,-197.44 900.21,-196.37\"/>\n</g>\n<!-- 19 -->\n<g id=\"node20\" class=\"node\">\n<title>19</title>\n<polygon fill=\"#86ee7d\" stroke=\"black\" points=\"1157.5,-187 980.5,-187 980.5,-104 1157.5,-104 1157.5,-187\"/>\n<text text-anchor=\"middle\" x=\"1069\" y=\"-171.8\" font-family=\"Helvetica,sans-Serif\" font-size=\"14.00\">industry_healthcare &lt;= 0.5</text>\n<text text-anchor=\"middle\" x=\"1069\" y=\"-156.8\" font-family=\"Helvetica,sans-Serif\" font-size=\"14.00\">gini = 0.481</text>\n<text text-anchor=\"middle\" x=\"1069\" y=\"-141.8\" font-family=\"Helvetica,sans-Serif\" font-size=\"14.00\">samples = 33</text>\n<text text-anchor=\"middle\" x=\"1069\" y=\"-126.8\" font-family=\"Helvetica,sans-Serif\" font-size=\"14.00\">value = [4, 23, 4, 2]</text>\n<text text-anchor=\"middle\" x=\"1069\" y=\"-111.8\" font-family=\"Helvetica,sans-Serif\" font-size=\"14.00\">class = bankrupt</text>\n</g>\n<!-- 15&#45;&gt;19 -->\n<g id=\"edge19\" class=\"edge\">\n<title>15&#45;&gt;19</title>\n<path fill=\"none\" stroke=\"black\" d=\"M963.21,-222.91C976.52,-213.29 990.83,-202.95 1004.49,-193.09\"/>\n<polygon fill=\"black\" stroke=\"black\" points=\"1006.84,-195.71 1012.89,-187.02 1002.74,-190.04 1006.84,-195.71\"/>\n</g>\n<!-- 17 -->\n<g id=\"node18\" class=\"node\">\n<title>17</title>\n<polygon fill=\"#ffffff\" stroke=\"black\" points=\"814,-68 674,-68 674,0 814,0 814,-68\"/>\n<text text-anchor=\"middle\" x=\"744\" y=\"-52.8\" font-family=\"Helvetica,sans-Serif\" font-size=\"14.00\">gini = 0.667</text>\n<text text-anchor=\"middle\" x=\"744\" y=\"-37.8\" font-family=\"Helvetica,sans-Serif\" font-size=\"14.00\">samples = 51</text>\n<text text-anchor=\"middle\" x=\"744\" y=\"-22.8\" font-family=\"Helvetica,sans-Serif\" font-size=\"14.00\">value = [4, 7, 20, 20]</text>\n<text text-anchor=\"middle\" x=\"744\" y=\"-7.8\" font-family=\"Helvetica,sans-Serif\" font-size=\"14.00\">class = soldoff&#45;low</text>\n</g>\n<!-- 16&#45;&gt;17 -->\n<g id=\"edge17\" class=\"edge\">\n<title>16&#45;&gt;17</title>\n<path fill=\"none\" stroke=\"black\" d=\"M835.01,-103.73C822.33,-94.15 808.83,-83.96 796.23,-74.44\"/>\n<polygon fill=\"black\" stroke=\"black\" points=\"798.18,-71.53 788.1,-68.3 793.97,-77.12 798.18,-71.53\"/>\n</g>\n<!-- 18 -->\n<g id=\"node19\" class=\"node\">\n<title>18</title>\n<polygon fill=\"#eca2f3\" stroke=\"black\" points=\"964,-68 832,-68 832,0 964,0 964,-68\"/>\n<text text-anchor=\"middle\" x=\"898\" y=\"-52.8\" font-family=\"Helvetica,sans-Serif\" font-size=\"14.00\">gini = 0.521</text>\n<text text-anchor=\"middle\" x=\"898\" y=\"-37.8\" font-family=\"Helvetica,sans-Serif\" font-size=\"14.00\">samples = 24</text>\n<text text-anchor=\"middle\" x=\"898\" y=\"-22.8\" font-family=\"Helvetica,sans-Serif\" font-size=\"14.00\">value = [7, 1, 1, 15]</text>\n<text text-anchor=\"middle\" x=\"898\" y=\"-7.8\" font-family=\"Helvetica,sans-Serif\" font-size=\"14.00\">class = ipo</text>\n</g>\n<!-- 16&#45;&gt;18 -->\n<g id=\"edge18\" class=\"edge\">\n<title>16&#45;&gt;18</title>\n<path fill=\"none\" stroke=\"black\" d=\"M892.35,-103.73C893.03,-95.43 893.75,-86.67 894.44,-78.28\"/>\n<polygon fill=\"black\" stroke=\"black\" points=\"897.93,-78.55 895.26,-68.3 890.96,-77.98 897.93,-78.55\"/>\n</g>\n<!-- 20 -->\n<g id=\"node21\" class=\"node\">\n<title>20</title>\n<polygon fill=\"#e0fbde\" stroke=\"black\" points=\"1123.5,-68 998.5,-68 998.5,0 1123.5,0 1123.5,-68\"/>\n<text text-anchor=\"middle\" x=\"1061\" y=\"-52.8\" font-family=\"Helvetica,sans-Serif\" font-size=\"14.00\">gini = 0.719</text>\n<text text-anchor=\"middle\" x=\"1061\" y=\"-37.8\" font-family=\"Helvetica,sans-Serif\" font-size=\"14.00\">samples = 16</text>\n<text text-anchor=\"middle\" x=\"1061\" y=\"-22.8\" font-family=\"Helvetica,sans-Serif\" font-size=\"14.00\">value = [4, 6, 4, 2]</text>\n<text text-anchor=\"middle\" x=\"1061\" y=\"-7.8\" font-family=\"Helvetica,sans-Serif\" font-size=\"14.00\">class = bankrupt</text>\n</g>\n<!-- 19&#45;&gt;20 -->\n<g id=\"edge20\" class=\"edge\">\n<title>19&#45;&gt;20</title>\n<path fill=\"none\" stroke=\"black\" d=\"M1066.02,-103.73C1065.41,-95.43 1064.77,-86.67 1064.16,-78.28\"/>\n<polygon fill=\"black\" stroke=\"black\" points=\"1067.65,-78.02 1063.43,-68.3 1060.67,-78.53 1067.65,-78.02\"/>\n</g>\n<!-- 21 -->\n<g id=\"node22\" class=\"node\">\n<title>21</title>\n<polygon fill=\"#47e539\" stroke=\"black\" points=\"1274,-68 1142,-68 1142,0 1274,0 1274,-68\"/>\n<text text-anchor=\"middle\" x=\"1208\" y=\"-52.8\" font-family=\"Helvetica,sans-Serif\" font-size=\"14.00\">gini = 0.0</text>\n<text text-anchor=\"middle\" x=\"1208\" y=\"-37.8\" font-family=\"Helvetica,sans-Serif\" font-size=\"14.00\">samples = 17</text>\n<text text-anchor=\"middle\" x=\"1208\" y=\"-22.8\" font-family=\"Helvetica,sans-Serif\" font-size=\"14.00\">value = [0, 17, 0, 0]</text>\n<text text-anchor=\"middle\" x=\"1208\" y=\"-7.8\" font-family=\"Helvetica,sans-Serif\" font-size=\"14.00\">class = bankrupt</text>\n</g>\n<!-- 19&#45;&gt;21 -->\n<g id=\"edge21\" class=\"edge\">\n<title>19&#45;&gt;21</title>\n<path fill=\"none\" stroke=\"black\" d=\"M1120.76,-103.73C1132.8,-94.24 1145.6,-84.16 1157.58,-74.72\"/>\n<polygon fill=\"black\" stroke=\"black\" points=\"1160.04,-77.24 1165.73,-68.3 1155.71,-71.74 1160.04,-77.24\"/>\n</g>\n<!-- 23 -->\n<g id=\"node24\" class=\"node\">\n<title>23</title>\n<polygon fill=\"#dfeffb\" stroke=\"black\" points=\"1150.5,-425 995.5,-425 995.5,-342 1150.5,-342 1150.5,-425\"/>\n<text text-anchor=\"middle\" x=\"1073\" y=\"-409.8\" font-family=\"Helvetica,sans-Serif\" font-size=\"14.00\">pfunding &lt;= 950000.0</text>\n<text text-anchor=\"middle\" x=\"1073\" y=\"-394.8\" font-family=\"Helvetica,sans-Serif\" font-size=\"14.00\">gini = 0.678</text>\n<text text-anchor=\"middle\" x=\"1073\" y=\"-379.8\" font-family=\"Helvetica,sans-Serif\" font-size=\"14.00\">samples = 201</text>\n<text text-anchor=\"middle\" x=\"1073\" y=\"-364.8\" font-family=\"Helvetica,sans-Serif\" font-size=\"14.00\">value = [65, 23, 87, 26]</text>\n<text text-anchor=\"middle\" x=\"1073\" y=\"-349.8\" font-family=\"Helvetica,sans-Serif\" font-size=\"14.00\">class = soldoff&#45;low</text>\n</g>\n<!-- 22&#45;&gt;23 -->\n<g id=\"edge23\" class=\"edge\">\n<title>22&#45;&gt;23</title>\n<path fill=\"none\" stroke=\"black\" d=\"M1073,-460.91C1073,-452.65 1073,-443.86 1073,-435.3\"/>\n<polygon fill=\"black\" stroke=\"black\" points=\"1076.5,-435.02 1073,-425.02 1069.5,-435.02 1076.5,-435.02\"/>\n</g>\n<!-- 26 -->\n<g id=\"node27\" class=\"node\">\n<title>26</title>\n<polygon fill=\"#eeae80\" stroke=\"black\" points=\"1309,-417.5 1169,-417.5 1169,-349.5 1309,-349.5 1309,-417.5\"/>\n<text text-anchor=\"middle\" x=\"1239\" y=\"-402.3\" font-family=\"Helvetica,sans-Serif\" font-size=\"14.00\">gini = 0.426</text>\n<text text-anchor=\"middle\" x=\"1239\" y=\"-387.3\" font-family=\"Helvetica,sans-Serif\" font-size=\"14.00\">samples = 90</text>\n<text text-anchor=\"middle\" x=\"1239\" y=\"-372.3\" font-family=\"Helvetica,sans-Serif\" font-size=\"14.00\">value = [65, 5, 20, 0]</text>\n<text text-anchor=\"middle\" x=\"1239\" y=\"-357.3\" font-family=\"Helvetica,sans-Serif\" font-size=\"14.00\">class = soldoff&#45;high</text>\n</g>\n<!-- 22&#45;&gt;26 -->\n<g id=\"edge26\" class=\"edge\">\n<title>22&#45;&gt;26</title>\n<path fill=\"none\" stroke=\"black\" d=\"M1130.59,-460.91C1147.81,-448.77 1166.65,-435.49 1183.72,-423.46\"/>\n<polygon fill=\"black\" stroke=\"black\" points=\"1185.79,-426.29 1191.94,-417.67 1181.75,-420.57 1185.79,-426.29\"/>\n</g>\n<!-- 24 -->\n<g id=\"node25\" class=\"node\">\n<title>24</title>\n<polygon fill=\"#f0b489\" stroke=\"black\" points=\"1143,-298.5 1003,-298.5 1003,-230.5 1143,-230.5 1143,-298.5\"/>\n<text text-anchor=\"middle\" x=\"1073\" y=\"-283.3\" font-family=\"Helvetica,sans-Serif\" font-size=\"14.00\">gini = 0.502</text>\n<text text-anchor=\"middle\" x=\"1073\" y=\"-268.3\" font-family=\"Helvetica,sans-Serif\" font-size=\"14.00\">samples = 58</text>\n<text text-anchor=\"middle\" x=\"1073\" y=\"-253.3\" font-family=\"Helvetica,sans-Serif\" font-size=\"14.00\">value = [39, 5, 3, 11]</text>\n<text text-anchor=\"middle\" x=\"1073\" y=\"-238.3\" font-family=\"Helvetica,sans-Serif\" font-size=\"14.00\">class = soldoff&#45;high</text>\n</g>\n<!-- 23&#45;&gt;24 -->\n<g id=\"edge24\" class=\"edge\">\n<title>23&#45;&gt;24</title>\n<path fill=\"none\" stroke=\"black\" d=\"M1073,-341.91C1073,-331.2 1073,-319.62 1073,-308.78\"/>\n<polygon fill=\"black\" stroke=\"black\" points=\"1076.5,-308.67 1073,-298.67 1069.5,-308.67 1076.5,-308.67\"/>\n</g>\n<!-- 25 -->\n<g id=\"node26\" class=\"node\">\n<title>25</title>\n<polygon fill=\"#9dcef2\" stroke=\"black\" points=\"1316.5,-298.5 1161.5,-298.5 1161.5,-230.5 1316.5,-230.5 1316.5,-298.5\"/>\n<text text-anchor=\"middle\" x=\"1239\" y=\"-283.3\" font-family=\"Helvetica,sans-Serif\" font-size=\"14.00\">gini = 0.595</text>\n<text text-anchor=\"middle\" x=\"1239\" y=\"-268.3\" font-family=\"Helvetica,sans-Serif\" font-size=\"14.00\">samples = 143</text>\n<text text-anchor=\"middle\" x=\"1239\" y=\"-253.3\" font-family=\"Helvetica,sans-Serif\" font-size=\"14.00\">value = [26, 18, 84, 15]</text>\n<text text-anchor=\"middle\" x=\"1239\" y=\"-238.3\" font-family=\"Helvetica,sans-Serif\" font-size=\"14.00\">class = soldoff&#45;low</text>\n</g>\n<!-- 23&#45;&gt;25 -->\n<g id=\"edge25\" class=\"edge\">\n<title>23&#45;&gt;25</title>\n<path fill=\"none\" stroke=\"black\" d=\"M1130.59,-341.91C1147.81,-329.77 1166.65,-316.49 1183.72,-304.46\"/>\n<polygon fill=\"black\" stroke=\"black\" points=\"1185.79,-307.29 1191.94,-298.67 1181.75,-301.57 1185.79,-307.29\"/>\n</g>\n</g>\n</svg>\n",
            "text/plain": [
              "<graphviz.sources.Source at 0x7c4c1cd39630>"
            ]
          },
          "metadata": {},
          "execution_count": 9
        }
      ]
    },
    {
      "cell_type": "markdown",
      "source": [
        "## B\n",
        "\n",
        "**Using your tree plot, what would be the predicted outcome for a defense company who has no patents and 4 elites?**\n",
        "\n",
        "**On how many observations would this prediction be based (i.e., how many observations are in the reminal node where the prediction was made)?**"
      ],
      "metadata": {
        "id": "HoENYZ-zTc_X"
      }
    },
    {
      "cell_type": "markdown",
      "source": [
        "The outcome would be 'soldoff-high'. There are 107 observations where this prediction was made."
      ],
      "metadata": {
        "id": "u75gIAKEU3Qr"
      }
    },
    {
      "cell_type": "markdown",
      "source": [
        "# Q3\n",
        "\n",
        "**Apply your model to the test set to evaluate its accuracy. Create a confusion matrix and then respond to the prompts below.**"
      ],
      "metadata": {
        "id": "Oh_8NQ2iVIS9"
      }
    },
    {
      "cell_type": "code",
      "source": [
        "# replace with code to predict onto test set using model\n",
        "predictions = model.predict(x_test)"
      ],
      "metadata": {
        "id": "ltouNpdNVXN6"
      },
      "execution_count": 10,
      "outputs": []
    },
    {
      "cell_type": "code",
      "source": [
        "# replace with code to create new dataframe from x_test, called df_pred\n",
        "df_pred = x_test\n",
        "# replace with code to add predictions as a 'predicted_class' column to new dataframe\n",
        "df_pred['predicted_class'] = predictions\n",
        "# replace with code to add y_test as a 'actual_class' column to new dataframe\n",
        "df_pred['actual_class'] = y_test\n",
        "df_pred"
      ],
      "metadata": {
        "id": "elZTSWEWViPe",
        "colab": {
          "base_uri": "https://localhost:8080/",
          "height": 424
        },
        "outputId": "b1a2abda-8b34-4462-ed27-fa737a78b887"
      },
      "execution_count": 11,
      "outputs": [
        {
          "output_type": "execute_result",
          "data": {
            "text/plain": [
              "      months  pfunding  patents  smember  elites  industry_defense  \\\n",
              "662       17   6000000        1        0       5                 1   \n",
              "492       28   7000000        1        0       4                 0   \n",
              "137       28   5700000        1        0       2                 0   \n",
              "637       15   8500000        1        0       0                 0   \n",
              "639       36   3300000        1        0       0                 1   \n",
              "...      ...       ...      ...      ...     ...               ...   \n",
              "511       41    500000        0        0       3                 1   \n",
              "588       27   9300000        1        0       3                 0   \n",
              "189       27   3300000        1        0       5                 0   \n",
              "1042      42   2700000        1        0       7                 1   \n",
              "288       33   2300000        1        0       6                 0   \n",
              "\n",
              "      industry_healthcare  industry_media  industry_tech predicted_class  \\\n",
              "662                     0               0              0             ipo   \n",
              "492                     1               0              0             ipo   \n",
              "137                     0               0              1        bankrupt   \n",
              "637                     1               0              0    soldoff-high   \n",
              "639                     0               0              0    soldoff-high   \n",
              "...                   ...             ...            ...             ...   \n",
              "511                     0               0              0        bankrupt   \n",
              "588                     1               0              0    soldoff-high   \n",
              "189                     1               0              0    soldoff-high   \n",
              "1042                    0               0              0    soldoff-high   \n",
              "288                     1               0              0    soldoff-high   \n",
              "\n",
              "      actual_class  \n",
              "662            ipo  \n",
              "492            ipo  \n",
              "137   soldoff-high  \n",
              "637       bankrupt  \n",
              "639   soldoff-high  \n",
              "...            ...  \n",
              "511       bankrupt  \n",
              "588            ipo  \n",
              "189       bankrupt  \n",
              "1042           ipo  \n",
              "288   soldoff-high  \n",
              "\n",
              "[232 rows x 11 columns]"
            ],
            "text/html": [
              "\n",
              "\n",
              "  <div id=\"df-827f01bd-4bbe-4800-b722-92bcbd9f2c46\">\n",
              "    <div class=\"colab-df-container\">\n",
              "      <div>\n",
              "<style scoped>\n",
              "    .dataframe tbody tr th:only-of-type {\n",
              "        vertical-align: middle;\n",
              "    }\n",
              "\n",
              "    .dataframe tbody tr th {\n",
              "        vertical-align: top;\n",
              "    }\n",
              "\n",
              "    .dataframe thead th {\n",
              "        text-align: right;\n",
              "    }\n",
              "</style>\n",
              "<table border=\"1\" class=\"dataframe\">\n",
              "  <thead>\n",
              "    <tr style=\"text-align: right;\">\n",
              "      <th></th>\n",
              "      <th>months</th>\n",
              "      <th>pfunding</th>\n",
              "      <th>patents</th>\n",
              "      <th>smember</th>\n",
              "      <th>elites</th>\n",
              "      <th>industry_defense</th>\n",
              "      <th>industry_healthcare</th>\n",
              "      <th>industry_media</th>\n",
              "      <th>industry_tech</th>\n",
              "      <th>predicted_class</th>\n",
              "      <th>actual_class</th>\n",
              "    </tr>\n",
              "  </thead>\n",
              "  <tbody>\n",
              "    <tr>\n",
              "      <th>662</th>\n",
              "      <td>17</td>\n",
              "      <td>6000000</td>\n",
              "      <td>1</td>\n",
              "      <td>0</td>\n",
              "      <td>5</td>\n",
              "      <td>1</td>\n",
              "      <td>0</td>\n",
              "      <td>0</td>\n",
              "      <td>0</td>\n",
              "      <td>ipo</td>\n",
              "      <td>ipo</td>\n",
              "    </tr>\n",
              "    <tr>\n",
              "      <th>492</th>\n",
              "      <td>28</td>\n",
              "      <td>7000000</td>\n",
              "      <td>1</td>\n",
              "      <td>0</td>\n",
              "      <td>4</td>\n",
              "      <td>0</td>\n",
              "      <td>1</td>\n",
              "      <td>0</td>\n",
              "      <td>0</td>\n",
              "      <td>ipo</td>\n",
              "      <td>ipo</td>\n",
              "    </tr>\n",
              "    <tr>\n",
              "      <th>137</th>\n",
              "      <td>28</td>\n",
              "      <td>5700000</td>\n",
              "      <td>1</td>\n",
              "      <td>0</td>\n",
              "      <td>2</td>\n",
              "      <td>0</td>\n",
              "      <td>0</td>\n",
              "      <td>0</td>\n",
              "      <td>1</td>\n",
              "      <td>bankrupt</td>\n",
              "      <td>soldoff-high</td>\n",
              "    </tr>\n",
              "    <tr>\n",
              "      <th>637</th>\n",
              "      <td>15</td>\n",
              "      <td>8500000</td>\n",
              "      <td>1</td>\n",
              "      <td>0</td>\n",
              "      <td>0</td>\n",
              "      <td>0</td>\n",
              "      <td>1</td>\n",
              "      <td>0</td>\n",
              "      <td>0</td>\n",
              "      <td>soldoff-high</td>\n",
              "      <td>bankrupt</td>\n",
              "    </tr>\n",
              "    <tr>\n",
              "      <th>639</th>\n",
              "      <td>36</td>\n",
              "      <td>3300000</td>\n",
              "      <td>1</td>\n",
              "      <td>0</td>\n",
              "      <td>0</td>\n",
              "      <td>1</td>\n",
              "      <td>0</td>\n",
              "      <td>0</td>\n",
              "      <td>0</td>\n",
              "      <td>soldoff-high</td>\n",
              "      <td>soldoff-high</td>\n",
              "    </tr>\n",
              "    <tr>\n",
              "      <th>...</th>\n",
              "      <td>...</td>\n",
              "      <td>...</td>\n",
              "      <td>...</td>\n",
              "      <td>...</td>\n",
              "      <td>...</td>\n",
              "      <td>...</td>\n",
              "      <td>...</td>\n",
              "      <td>...</td>\n",
              "      <td>...</td>\n",
              "      <td>...</td>\n",
              "      <td>...</td>\n",
              "    </tr>\n",
              "    <tr>\n",
              "      <th>511</th>\n",
              "      <td>41</td>\n",
              "      <td>500000</td>\n",
              "      <td>0</td>\n",
              "      <td>0</td>\n",
              "      <td>3</td>\n",
              "      <td>1</td>\n",
              "      <td>0</td>\n",
              "      <td>0</td>\n",
              "      <td>0</td>\n",
              "      <td>bankrupt</td>\n",
              "      <td>bankrupt</td>\n",
              "    </tr>\n",
              "    <tr>\n",
              "      <th>588</th>\n",
              "      <td>27</td>\n",
              "      <td>9300000</td>\n",
              "      <td>1</td>\n",
              "      <td>0</td>\n",
              "      <td>3</td>\n",
              "      <td>0</td>\n",
              "      <td>1</td>\n",
              "      <td>0</td>\n",
              "      <td>0</td>\n",
              "      <td>soldoff-high</td>\n",
              "      <td>ipo</td>\n",
              "    </tr>\n",
              "    <tr>\n",
              "      <th>189</th>\n",
              "      <td>27</td>\n",
              "      <td>3300000</td>\n",
              "      <td>1</td>\n",
              "      <td>0</td>\n",
              "      <td>5</td>\n",
              "      <td>0</td>\n",
              "      <td>1</td>\n",
              "      <td>0</td>\n",
              "      <td>0</td>\n",
              "      <td>soldoff-high</td>\n",
              "      <td>bankrupt</td>\n",
              "    </tr>\n",
              "    <tr>\n",
              "      <th>1042</th>\n",
              "      <td>42</td>\n",
              "      <td>2700000</td>\n",
              "      <td>1</td>\n",
              "      <td>0</td>\n",
              "      <td>7</td>\n",
              "      <td>1</td>\n",
              "      <td>0</td>\n",
              "      <td>0</td>\n",
              "      <td>0</td>\n",
              "      <td>soldoff-high</td>\n",
              "      <td>ipo</td>\n",
              "    </tr>\n",
              "    <tr>\n",
              "      <th>288</th>\n",
              "      <td>33</td>\n",
              "      <td>2300000</td>\n",
              "      <td>1</td>\n",
              "      <td>0</td>\n",
              "      <td>6</td>\n",
              "      <td>0</td>\n",
              "      <td>1</td>\n",
              "      <td>0</td>\n",
              "      <td>0</td>\n",
              "      <td>soldoff-high</td>\n",
              "      <td>soldoff-high</td>\n",
              "    </tr>\n",
              "  </tbody>\n",
              "</table>\n",
              "<p>232 rows × 11 columns</p>\n",
              "</div>\n",
              "      <button class=\"colab-df-convert\" onclick=\"convertToInteractive('df-827f01bd-4bbe-4800-b722-92bcbd9f2c46')\"\n",
              "              title=\"Convert this dataframe to an interactive table.\"\n",
              "              style=\"display:none;\">\n",
              "\n",
              "  <svg xmlns=\"http://www.w3.org/2000/svg\" height=\"24px\"viewBox=\"0 0 24 24\"\n",
              "       width=\"24px\">\n",
              "    <path d=\"M0 0h24v24H0V0z\" fill=\"none\"/>\n",
              "    <path d=\"M18.56 5.44l.94 2.06.94-2.06 2.06-.94-2.06-.94-.94-2.06-.94 2.06-2.06.94zm-11 1L8.5 8.5l.94-2.06 2.06-.94-2.06-.94L8.5 2.5l-.94 2.06-2.06.94zm10 10l.94 2.06.94-2.06 2.06-.94-2.06-.94-.94-2.06-.94 2.06-2.06.94z\"/><path d=\"M17.41 7.96l-1.37-1.37c-.4-.4-.92-.59-1.43-.59-.52 0-1.04.2-1.43.59L10.3 9.45l-7.72 7.72c-.78.78-.78 2.05 0 2.83L4 21.41c.39.39.9.59 1.41.59.51 0 1.02-.2 1.41-.59l7.78-7.78 2.81-2.81c.8-.78.8-2.07 0-2.86zM5.41 20L4 18.59l7.72-7.72 1.47 1.35L5.41 20z\"/>\n",
              "  </svg>\n",
              "      </button>\n",
              "\n",
              "\n",
              "\n",
              "    <div id=\"df-e4ea7b83-9e96-4edc-bd73-0237297a793d\">\n",
              "      <button class=\"colab-df-quickchart\" onclick=\"quickchart('df-e4ea7b83-9e96-4edc-bd73-0237297a793d')\"\n",
              "              title=\"Suggest charts.\"\n",
              "              style=\"display:none;\">\n",
              "\n",
              "<svg xmlns=\"http://www.w3.org/2000/svg\" height=\"24px\"viewBox=\"0 0 24 24\"\n",
              "     width=\"24px\">\n",
              "    <g>\n",
              "        <path d=\"M19 3H5c-1.1 0-2 .9-2 2v14c0 1.1.9 2 2 2h14c1.1 0 2-.9 2-2V5c0-1.1-.9-2-2-2zM9 17H7v-7h2v7zm4 0h-2V7h2v10zm4 0h-2v-4h2v4z\"/>\n",
              "    </g>\n",
              "</svg>\n",
              "      </button>\n",
              "    </div>\n",
              "\n",
              "<style>\n",
              "  .colab-df-quickchart {\n",
              "    background-color: #E8F0FE;\n",
              "    border: none;\n",
              "    border-radius: 50%;\n",
              "    cursor: pointer;\n",
              "    display: none;\n",
              "    fill: #1967D2;\n",
              "    height: 32px;\n",
              "    padding: 0 0 0 0;\n",
              "    width: 32px;\n",
              "  }\n",
              "\n",
              "  .colab-df-quickchart:hover {\n",
              "    background-color: #E2EBFA;\n",
              "    box-shadow: 0px 1px 2px rgba(60, 64, 67, 0.3), 0px 1px 3px 1px rgba(60, 64, 67, 0.15);\n",
              "    fill: #174EA6;\n",
              "  }\n",
              "\n",
              "  [theme=dark] .colab-df-quickchart {\n",
              "    background-color: #3B4455;\n",
              "    fill: #D2E3FC;\n",
              "  }\n",
              "\n",
              "  [theme=dark] .colab-df-quickchart:hover {\n",
              "    background-color: #434B5C;\n",
              "    box-shadow: 0px 1px 3px 1px rgba(0, 0, 0, 0.15);\n",
              "    filter: drop-shadow(0px 1px 2px rgba(0, 0, 0, 0.3));\n",
              "    fill: #FFFFFF;\n",
              "  }\n",
              "</style>\n",
              "\n",
              "    <script>\n",
              "      async function quickchart(key) {\n",
              "        const containerElement = document.querySelector('#' + key);\n",
              "        const charts = await google.colab.kernel.invokeFunction(\n",
              "            'suggestCharts', [key], {});\n",
              "      }\n",
              "    </script>\n",
              "\n",
              "      <script>\n",
              "\n",
              "function displayQuickchartButton(domScope) {\n",
              "  let quickchartButtonEl =\n",
              "    domScope.querySelector('#df-e4ea7b83-9e96-4edc-bd73-0237297a793d button.colab-df-quickchart');\n",
              "  quickchartButtonEl.style.display =\n",
              "    google.colab.kernel.accessAllowed ? 'block' : 'none';\n",
              "}\n",
              "\n",
              "        displayQuickchartButton(document);\n",
              "      </script>\n",
              "      <style>\n",
              "    .colab-df-container {\n",
              "      display:flex;\n",
              "      flex-wrap:wrap;\n",
              "      gap: 12px;\n",
              "    }\n",
              "\n",
              "    .colab-df-convert {\n",
              "      background-color: #E8F0FE;\n",
              "      border: none;\n",
              "      border-radius: 50%;\n",
              "      cursor: pointer;\n",
              "      display: none;\n",
              "      fill: #1967D2;\n",
              "      height: 32px;\n",
              "      padding: 0 0 0 0;\n",
              "      width: 32px;\n",
              "    }\n",
              "\n",
              "    .colab-df-convert:hover {\n",
              "      background-color: #E2EBFA;\n",
              "      box-shadow: 0px 1px 2px rgba(60, 64, 67, 0.3), 0px 1px 3px 1px rgba(60, 64, 67, 0.15);\n",
              "      fill: #174EA6;\n",
              "    }\n",
              "\n",
              "    [theme=dark] .colab-df-convert {\n",
              "      background-color: #3B4455;\n",
              "      fill: #D2E3FC;\n",
              "    }\n",
              "\n",
              "    [theme=dark] .colab-df-convert:hover {\n",
              "      background-color: #434B5C;\n",
              "      box-shadow: 0px 1px 3px 1px rgba(0, 0, 0, 0.15);\n",
              "      filter: drop-shadow(0px 1px 2px rgba(0, 0, 0, 0.3));\n",
              "      fill: #FFFFFF;\n",
              "    }\n",
              "  </style>\n",
              "\n",
              "      <script>\n",
              "        const buttonEl =\n",
              "          document.querySelector('#df-827f01bd-4bbe-4800-b722-92bcbd9f2c46 button.colab-df-convert');\n",
              "        buttonEl.style.display =\n",
              "          google.colab.kernel.accessAllowed ? 'block' : 'none';\n",
              "\n",
              "        async function convertToInteractive(key) {\n",
              "          const element = document.querySelector('#df-827f01bd-4bbe-4800-b722-92bcbd9f2c46');\n",
              "          const dataTable =\n",
              "            await google.colab.kernel.invokeFunction('convertToInteractive',\n",
              "                                                     [key], {});\n",
              "          if (!dataTable) return;\n",
              "\n",
              "          const docLinkHtml = 'Like what you see? Visit the ' +\n",
              "            '<a target=\"_blank\" href=https://colab.research.google.com/notebooks/data_table.ipynb>data table notebook</a>'\n",
              "            + ' to learn more about interactive tables.';\n",
              "          element.innerHTML = '';\n",
              "          dataTable['output_type'] = 'display_data';\n",
              "          await google.colab.output.renderOutput(dataTable, element);\n",
              "          const docLink = document.createElement('div');\n",
              "          docLink.innerHTML = docLinkHtml;\n",
              "          element.appendChild(docLink);\n",
              "        }\n",
              "      </script>\n",
              "    </div>\n",
              "  </div>\n"
            ]
          },
          "metadata": {},
          "execution_count": 11
        }
      ]
    },
    {
      "cell_type": "code",
      "source": [
        "# replace with code to fit confusion matrix to 'predicted_class' and 'actual_class'\n",
        "conf = pd.DataFrame(df_pred, columns = ['actual_class', 'predicted_class'])\n",
        "confusion_matrix = pd.crosstab(conf['actual_class'], conf['predicted_class'], rownames = ['Acutal'], colnames = ['Predicted'])\n",
        "# replace with code to visualize confusion matrix with a heatmap\n",
        "sns.heatmap(confusion_matrix, annot = True)\n",
        "sns.set(rc={'figure.figsize':(12,10)})\n",
        "plt.show"
      ],
      "metadata": {
        "id": "a4-hAg1XVmFl",
        "colab": {
          "base_uri": "https://localhost:8080/",
          "height": 467
        },
        "outputId": "0eb6e761-b18c-4119-e2a8-893e8a5f16b1"
      },
      "execution_count": 12,
      "outputs": [
        {
          "output_type": "execute_result",
          "data": {
            "text/plain": [
              "<function matplotlib.pyplot.show(close=None, block=None)>"
            ]
          },
          "metadata": {},
          "execution_count": 12
        },
        {
          "output_type": "display_data",
          "data": {
            "text/plain": [
              "<Figure size 640x480 with 2 Axes>"
            ],
            "image/png": "[encoded data removed]"
          },
          "metadata": {}
        }
      ]
    },
    {
      "cell_type": "markdown",
      "source": [
        "## A\n",
        "\n",
        "**For each of the four outcomes, provide the number of times the model predicted it, the number of times it predicted accurately, and the % accuracy (ratio of the # of predictions / # of accurate predictions).**"
      ],
      "metadata": {
        "id": "3AKVcm4-XaNy"
      }
    },
    {
      "cell_type": "markdown",
      "source": [
        "* Prediction: **Bankrupt**\n",
        "  * Times Predicted: 87\n",
        "  * Predicted Accurately: 46\n",
        "  * % Accuracy: 52.9%\n",
        "\n",
        "* Prediction: **Soldoff-Low**\n",
        "  * Times Predicted: 9\n",
        "  * Predicted Accurately: 1\n",
        "  * % Accuracy: 11.1%\n",
        "\n",
        "* Prediction: **Soldoff-High**\n",
        "  * Times Predicted: 109\n",
        "  * Predicted Accurately: 57\n",
        "  * % Accuracy: 52.3%\n",
        "\n",
        "* Prediction: **IPO**\n",
        "  * Times Predicted: 27\n",
        "  * Predicted Accurately: 20\n",
        "  * % Accuracy: 74.1%\n"
      ],
      "metadata": {
        "id": "ltEStm3KYDWD"
      }
    },
    {
      "cell_type": "markdown",
      "source": [
        "## B\n",
        "\n",
        "**Considering *all* predictions, in what percentage of observations did the model make an accurate prediction? Show your formula.**\n"
      ],
      "metadata": {
        "id": "VRlGLP2caEwU"
      }
    },
    {
      "cell_type": "code",
      "source": [
        "# replace with code to calculate overall accuracy from values in confusion matrix\n",
        "acc = (46 + 20 + 57 + 1)/len(y_test)\n",
        "print(\"Overall Accuracy = \", acc)\n",
        "print(classification_report(y_test, predictions)) #this was not required but I am doing this to check my accuracy"
      ],
      "metadata": {
        "id": "iIQ62qSCaSKB",
        "colab": {
          "base_uri": "https://localhost:8080/"
        },
        "outputId": "70f85b11-7391-4fa8-e2d8-d3444448cad7"
      },
      "execution_count": 13,
      "outputs": [
        {
          "output_type": "stream",
          "name": "stdout",
          "text": [
            "Overall Accuracy =  0.5344827586206896\n",
            "              precision    recall  f1-score   support\n",
            "\n",
            "    bankrupt       0.53      0.66      0.59        70\n",
            "         ipo       0.74      0.50      0.60        40\n",
            "soldoff-high       0.52      0.71      0.60        80\n",
            " soldoff-low       0.11      0.02      0.04        42\n",
            "\n",
            "    accuracy                           0.53       232\n",
            "   macro avg       0.48      0.47      0.46       232\n",
            "weighted avg       0.49      0.53      0.49       232\n",
            "\n"
          ]
        }
      ]
    },
    {
      "cell_type": "markdown",
      "source": [
        "## C\n",
        "\n",
        "**Given this accuracy percentage, does it make more sense to use the *a priori* prediction approach or the decision tree model that was generated? Explain your answer.**\n"
      ],
      "metadata": {
        "id": "2SlFVHkdbXp4"
      }
    },
    {
      "cell_type": "markdown",
      "source": [
        "It makes more sense to use this decision tree model we have generated. Even though it may not be super accurate it is still more accurate than random chance. It is also more accurate than the apriori accuracy calculated earlier which was closer to 33%"
      ],
      "metadata": {
        "id": "zEf85aaKbeQt"
      }
    },
    {
      "cell_type": "markdown",
      "source": [
        "## Q4\n",
        "\n",
        "**Next, compare this model's performance against three other possible decision tree models, each of which use different parameters. In a text cell placed before each new model, outline the `criterion` used (e.g., 'gini', 'entropy', or 'log-loss') , the `max_depth`, the `min_samples_leaf`, and the `min_impurity_decrease`.**\n",
        "\n",
        "**Remember that the first model used the following paramters:**\n",
        "\n",
        "* `criterion` = gini\n",
        "* `max_depth` = 5\n",
        "* `min_samples_leaf` = 8\n",
        "* `min_impurity_decrease` = 0.004\n",
        "\n",
        "**So change *at least* one of these parameters for each of your new models.**\n",
        "\n",
        "**For each model generate a `classification_report` to show its overall accuracy on the test_set.**\n"
      ],
      "metadata": {
        "id": "KoMgeVFtb8gR"
      }
    },
    {
      "cell_type": "markdown",
      "source": [
        "### **Model 1:**\n",
        "\n",
        "* `criterion` = gini\n",
        "* `max_depth` = 5\n",
        "* `min_samples_leaf` = 8\n",
        "* `min_impurity_decrease` = 0.004"
      ],
      "metadata": {
        "id": "1JQ-4bsAdVVt"
      }
    },
    {
      "cell_type": "code",
      "source": [
        "print(classification_report(y_test, predictions))"
      ],
      "metadata": {
        "colab": {
          "base_uri": "https://localhost:8080/"
        },
        "id": "_Bl_11r1dcXE",
        "outputId": "1db1aaed-2e6b-4440-8e9c-bc0bb46fcf8e"
      },
      "execution_count": 14,
      "outputs": [
        {
          "output_type": "stream",
          "name": "stdout",
          "text": [
            "              precision    recall  f1-score   support\n",
            "\n",
            "    bankrupt       0.53      0.66      0.59        70\n",
            "         ipo       0.74      0.50      0.60        40\n",
            "soldoff-high       0.52      0.71      0.60        80\n",
            " soldoff-low       0.11      0.02      0.04        42\n",
            "\n",
            "    accuracy                           0.53       232\n",
            "   macro avg       0.48      0.47      0.46       232\n",
            "weighted avg       0.49      0.53      0.49       232\n",
            "\n"
          ]
        }
      ]
    },
    {
      "cell_type": "markdown",
      "source": [
        "### **Model 2:**\n",
        "\n",
        "* `criterion` = entropy\n",
        "* `max_depth` = 5\n",
        "* `min_samples_leaf` = 6\n",
        "* `min_impurity_decrease` = 0.004"
      ],
      "metadata": {
        "id": "tftOkzA6djuW"
      }
    },
    {
      "cell_type": "code",
      "source": [
        "# replace with code to specify DecisionTreeClassifier parameters\n",
        "model_2 = DecisionTreeClassifier(criterion = 'entropy', random_state = 100, max_depth = 5, min_samples_leaf = 6, min_impurity_decrease=0.004)\n",
        "# replace with code to fit model2 to training data\n",
        "model_2.fit(x_train, y_train)"
      ],
      "metadata": {
        "id": "X0T4GJdRdq3N",
        "colab": {
          "base_uri": "https://localhost:8080/",
          "height": 109
        },
        "outputId": "8b2dadb9-d615-49c6-9f75-ad34e1c6da09"
      },
      "execution_count": 16,
      "outputs": [
        {
          "output_type": "execute_result",
          "data": {
            "text/plain": [
              "DecisionTreeClassifier(criterion='entropy', max_depth=5,\n",
              "                       min_impurity_decrease=0.004, min_samples_leaf=6,\n",
              "                       random_state=100)"
            ],
            "text/html": [
              "<style>#sk-container-id-2 {color: black;background-color: white;}#sk-container-id-2 pre{padding: 0;}#sk-container-id-2 div.sk-toggleable {background-color: white;}#sk-container-id-2 label.sk-toggleable__label {cursor: pointer;display: block;width: 100%;margin-bottom: 0;padding: 0.3em;box-sizing: border-box;text-align: center;}#sk-container-id-2 label.sk-toggleable__label-arrow:before {content: \"▸\";float: left;margin-right: 0.25em;color: #696969;}#sk-container-id-2 label.sk-toggleable__label-arrow:hover:before {color: black;}#sk-container-id-2 div.sk-estimator:hover label.sk-toggleable__label-arrow:before {color: black;}#sk-container-id-2 div.sk-toggleable__content {max-height: 0;max-width: 0;overflow: hidden;text-align: left;background-color: #f0f8ff;}#sk-container-id-2 div.sk-toggleable__content pre {margin: 0.2em;color: black;border-radius: 0.25em;background-color: #f0f8ff;}#sk-container-id-2 input.sk-toggleable__control:checked~div.sk-toggleable__content {max-height: 200px;max-width: 100%;overflow: auto;}#sk-container-id-2 input.sk-toggleable__control:checked~label.sk-toggleable__label-arrow:before {content: \"▾\";}#sk-container-id-2 div.sk-estimator input.sk-toggleable__control:checked~label.sk-toggleable__label {background-color: #d4ebff;}#sk-container-id-2 div.sk-label input.sk-toggleable__control:checked~label.sk-toggleable__label {background-color: #d4ebff;}#sk-container-id-2 input.sk-hidden--visually {border: 0;clip: rect(1px 1px 1px 1px);clip: rect(1px, 1px, 1px, 1px);height: 1px;margin: -1px;overflow: hidden;padding: 0;position: absolute;width: 1px;}#sk-container-id-2 div.sk-estimator {font-family: monospace;background-color: #f0f8ff;border: 1px dotted black;border-radius: 0.25em;box-sizing: border-box;margin-bottom: 0.5em;}#sk-container-id-2 div.sk-estimator:hover {background-color: #d4ebff;}#sk-container-id-2 div.sk-parallel-item::after {content: \"\";width: 100%;border-bottom: 1px solid gray;flex-grow: 1;}#sk-container-id-2 div.sk-label:hover label.sk-toggleable__label {background-color: #d4ebff;}#sk-container-id-2 div.sk-serial::before {content: \"\";position: absolute;border-left: 1px solid gray;box-sizing: border-box;top: 0;bottom: 0;left: 50%;z-index: 0;}#sk-container-id-2 div.sk-serial {display: flex;flex-direction: column;align-items: center;background-color: white;padding-right: 0.2em;padding-left: 0.2em;position: relative;}#sk-container-id-2 div.sk-item {position: relative;z-index: 1;}#sk-container-id-2 div.sk-parallel {display: flex;align-items: stretch;justify-content: center;background-color: white;position: relative;}#sk-container-id-2 div.sk-item::before, #sk-container-id-2 div.sk-parallel-item::before {content: \"\";position: absolute;border-left: 1px solid gray;box-sizing: border-box;top: 0;bottom: 0;left: 50%;z-index: -1;}#sk-container-id-2 div.sk-parallel-item {display: flex;flex-direction: column;z-index: 1;position: relative;background-color: white;}#sk-container-id-2 div.sk-parallel-item:first-child::after {align-self: flex-end;width: 50%;}#sk-container-id-2 div.sk-parallel-item:last-child::after {align-self: flex-start;width: 50%;}#sk-container-id-2 div.sk-parallel-item:only-child::after {width: 0;}#sk-container-id-2 div.sk-dashed-wrapped {border: 1px dashed gray;margin: 0 0.4em 0.5em 0.4em;box-sizing: border-box;padding-bottom: 0.4em;background-color: white;}#sk-container-id-2 div.sk-label label {font-family: monospace;font-weight: bold;display: inline-block;line-height: 1.2em;}#sk-container-id-2 div.sk-label-container {text-align: center;}#sk-container-id-2 div.sk-container {/* jupyter's `normalize.less` sets `[hidden] { display: none; }` but bootstrap.min.css set `[hidden] { display: none !important; }` so we also need the `!important` here to be able to override the default hidden behavior on the sphinx rendered scikit-learn.org. See: https://github.com/scikit-learn/scikit-learn/issues/21755 */display: inline-block !important;position: relative;}#sk-container-id-2 div.sk-text-repr-fallback {display: none;}</style><div id=\"sk-container-id-2\" class=\"sk-top-container\"><div class=\"sk-text-repr-fallback\"><pre>DecisionTreeClassifier(criterion=&#x27;entropy&#x27;, max_depth=5,\n",
              "                       min_impurity_decrease=0.004, min_samples_leaf=6,\n",
              "                       random_state=100)</pre><b>In a Jupyter environment, please rerun this cell to show the HTML representation or trust the notebook. <br />On GitHub, the HTML representation is unable to render, please try loading this page with nbviewer.org.</b></div><div class=\"sk-container\" hidden><div class=\"sk-item\"><div class=\"sk-estimator sk-toggleable\"><input class=\"sk-toggleable__control sk-hidden--visually\" id=\"sk-estimator-id-2\" type=\"checkbox\" checked><label for=\"sk-estimator-id-2\" class=\"sk-toggleable__label sk-toggleable__label-arrow\">DecisionTreeClassifier</label><div class=\"sk-toggleable__content\"><pre>DecisionTreeClassifier(criterion=&#x27;entropy&#x27;, max_depth=5,\n",
              "                       min_impurity_decrease=0.004, min_samples_leaf=6,\n",
              "                       random_state=100)</pre></div></div></div></div></div>"
            ]
          },
          "metadata": {},
          "execution_count": 16
        }
      ]
    },
    {
      "cell_type": "code",
      "source": [
        "# replace with code to drop 'predicted_class' and 'actual_class' columns from x_test\n",
        "x_test = x_test.drop(columns=['predicted_class', 'actual_class'])\n",
        "# replace with code to fit model2 to x_test\n",
        "model_2.fit(x_train, y_train)\n",
        "predictions = model_2.predict(x_test)"
      ],
      "metadata": {
        "id": "TObL_o6LdrVw"
      },
      "execution_count": 20,
      "outputs": []
    },
    {
      "cell_type": "code",
      "source": [
        "# replace with code to print classification report\n",
        "print(classification_report(y_test, predictions))"
      ],
      "metadata": {
        "id": "VfkaGIP9dsQi",
        "colab": {
          "base_uri": "https://localhost:8080/"
        },
        "outputId": "23839f7c-88ed-4000-c6bd-822d19f7db74"
      },
      "execution_count": 21,
      "outputs": [
        {
          "output_type": "stream",
          "name": "stdout",
          "text": [
            "              precision    recall  f1-score   support\n",
            "\n",
            "    bankrupt       0.55      0.70      0.62        70\n",
            "         ipo       0.89      0.42      0.58        40\n",
            "soldoff-high       0.58      0.61      0.59        80\n",
            " soldoff-low       0.49      0.45      0.47        42\n",
            "\n",
            "    accuracy                           0.58       232\n",
            "   macro avg       0.63      0.55      0.56       232\n",
            "weighted avg       0.61      0.58      0.58       232\n",
            "\n"
          ]
        }
      ]
    },
    {
      "cell_type": "markdown",
      "source": [
        "### **Model 3:**\n",
        "\n",
        "* `criterion` = log-loss\n",
        "* `max_depth` = 5\n",
        "* `min_samples_leaf` = 8\n",
        "* `min_impurity_decrease` = 0.004"
      ],
      "metadata": {
        "id": "2yM0Fa89dsr9"
      }
    },
    {
      "cell_type": "code",
      "source": [
        "# replace with code to specify DecisionTreeClassifier parameters\n",
        "model_3 = DecisionTreeClassifier(criterion = 'log_loss', random_state = 100, max_depth = 5, min_samples_leaf = 8, min_impurity_decrease=0.004)\n",
        "# replace with code to fit model to training data\n",
        "model_3.fit(x_train, y_train)"
      ],
      "metadata": {
        "id": "tgu87Wx_d0lZ",
        "colab": {
          "base_uri": "https://localhost:8080/",
          "height": 109
        },
        "outputId": "d5da5a2c-644e-47b4-b0a4-fbf05f1cc617"
      },
      "execution_count": 23,
      "outputs": [
        {
          "output_type": "execute_result",
          "data": {
            "text/plain": [
              "DecisionTreeClassifier(criterion='log_loss', max_depth=5,\n",
              "                       min_impurity_decrease=0.004, min_samples_leaf=8,\n",
              "                       random_state=100)"
            ],
            "text/html": [
              "<style>#sk-container-id-4 {color: black;background-color: white;}#sk-container-id-4 pre{padding: 0;}#sk-container-id-4 div.sk-toggleable {background-color: white;}#sk-container-id-4 label.sk-toggleable__label {cursor: pointer;display: block;width: 100%;margin-bottom: 0;padding: 0.3em;box-sizing: border-box;text-align: center;}#sk-container-id-4 label.sk-toggleable__label-arrow:before {content: \"▸\";float: left;margin-right: 0.25em;color: #696969;}#sk-container-id-4 label.sk-toggleable__label-arrow:hover:before {color: black;}#sk-container-id-4 div.sk-estimator:hover label.sk-toggleable__label-arrow:before {color: black;}#sk-container-id-4 div.sk-toggleable__content {max-height: 0;max-width: 0;overflow: hidden;text-align: left;background-color: #f0f8ff;}#sk-container-id-4 div.sk-toggleable__content pre {margin: 0.2em;color: black;border-radius: 0.25em;background-color: #f0f8ff;}#sk-container-id-4 input.sk-toggleable__control:checked~div.sk-toggleable__content {max-height: 200px;max-width: 100%;overflow: auto;}#sk-container-id-4 input.sk-toggleable__control:checked~label.sk-toggleable__label-arrow:before {content: \"▾\";}#sk-container-id-4 div.sk-estimator input.sk-toggleable__control:checked~label.sk-toggleable__label {background-color: #d4ebff;}#sk-container-id-4 div.sk-label input.sk-toggleable__control:checked~label.sk-toggleable__label {background-color: #d4ebff;}#sk-container-id-4 input.sk-hidden--visually {border: 0;clip: rect(1px 1px 1px 1px);clip: rect(1px, 1px, 1px, 1px);height: 1px;margin: -1px;overflow: hidden;padding: 0;position: absolute;width: 1px;}#sk-container-id-4 div.sk-estimator {font-family: monospace;background-color: #f0f8ff;border: 1px dotted black;border-radius: 0.25em;box-sizing: border-box;margin-bottom: 0.5em;}#sk-container-id-4 div.sk-estimator:hover {background-color: #d4ebff;}#sk-container-id-4 div.sk-parallel-item::after {content: \"\";width: 100%;border-bottom: 1px solid gray;flex-grow: 1;}#sk-container-id-4 div.sk-label:hover label.sk-toggleable__label {background-color: #d4ebff;}#sk-container-id-4 div.sk-serial::before {content: \"\";position: absolute;border-left: 1px solid gray;box-sizing: border-box;top: 0;bottom: 0;left: 50%;z-index: 0;}#sk-container-id-4 div.sk-serial {display: flex;flex-direction: column;align-items: center;background-color: white;padding-right: 0.2em;padding-left: 0.2em;position: relative;}#sk-container-id-4 div.sk-item {position: relative;z-index: 1;}#sk-container-id-4 div.sk-parallel {display: flex;align-items: stretch;justify-content: center;background-color: white;position: relative;}#sk-container-id-4 div.sk-item::before, #sk-container-id-4 div.sk-parallel-item::before {content: \"\";position: absolute;border-left: 1px solid gray;box-sizing: border-box;top: 0;bottom: 0;left: 50%;z-index: -1;}#sk-container-id-4 div.sk-parallel-item {display: flex;flex-direction: column;z-index: 1;position: relative;background-color: white;}#sk-container-id-4 div.sk-parallel-item:first-child::after {align-self: flex-end;width: 50%;}#sk-container-id-4 div.sk-parallel-item:last-child::after {align-self: flex-start;width: 50%;}#sk-container-id-4 div.sk-parallel-item:only-child::after {width: 0;}#sk-container-id-4 div.sk-dashed-wrapped {border: 1px dashed gray;margin: 0 0.4em 0.5em 0.4em;box-sizing: border-box;padding-bottom: 0.4em;background-color: white;}#sk-container-id-4 div.sk-label label {font-family: monospace;font-weight: bold;display: inline-block;line-height: 1.2em;}#sk-container-id-4 div.sk-label-container {text-align: center;}#sk-container-id-4 div.sk-container {/* jupyter's `normalize.less` sets `[hidden] { display: none; }` but bootstrap.min.css set `[hidden] { display: none !important; }` so we also need the `!important` here to be able to override the default hidden behavior on the sphinx rendered scikit-learn.org. See: https://github.com/scikit-learn/scikit-learn/issues/21755 */display: inline-block !important;position: relative;}#sk-container-id-4 div.sk-text-repr-fallback {display: none;}</style><div id=\"sk-container-id-4\" class=\"sk-top-container\"><div class=\"sk-text-repr-fallback\"><pre>DecisionTreeClassifier(criterion=&#x27;log_loss&#x27;, max_depth=5,\n",
              "                       min_impurity_decrease=0.004, min_samples_leaf=8,\n",
              "                       random_state=100)</pre><b>In a Jupyter environment, please rerun this cell to show the HTML representation or trust the notebook. <br />On GitHub, the HTML representation is unable to render, please try loading this page with nbviewer.org.</b></div><div class=\"sk-container\" hidden><div class=\"sk-item\"><div class=\"sk-estimator sk-toggleable\"><input class=\"sk-toggleable__control sk-hidden--visually\" id=\"sk-estimator-id-4\" type=\"checkbox\" checked><label for=\"sk-estimator-id-4\" class=\"sk-toggleable__label sk-toggleable__label-arrow\">DecisionTreeClassifier</label><div class=\"sk-toggleable__content\"><pre>DecisionTreeClassifier(criterion=&#x27;log_loss&#x27;, max_depth=5,\n",
              "                       min_impurity_decrease=0.004, min_samples_leaf=8,\n",
              "                       random_state=100)</pre></div></div></div></div></div>"
            ]
          },
          "metadata": {},
          "execution_count": 23
        }
      ]
    },
    {
      "cell_type": "code",
      "source": [
        "# replace with code to predict model3 onto x_test\n",
        "predictions = model_3.predict(x_test)"
      ],
      "metadata": {
        "id": "Xn9cFhhFd1FG"
      },
      "execution_count": 24,
      "outputs": []
    },
    {
      "cell_type": "code",
      "source": [
        "# replace with code to print classification report\n",
        "print(classification_report(y_test, predictions))"
      ],
      "metadata": {
        "id": "BAgRXt-Jd08F",
        "colab": {
          "base_uri": "https://localhost:8080/"
        },
        "outputId": "1c67b261-6ab5-47aa-fb57-77f25be6cdc1"
      },
      "execution_count": 25,
      "outputs": [
        {
          "output_type": "stream",
          "name": "stdout",
          "text": [
            "              precision    recall  f1-score   support\n",
            "\n",
            "    bankrupt       0.55      0.70      0.62        70\n",
            "         ipo       0.89      0.42      0.58        40\n",
            "soldoff-high       0.58      0.61      0.59        80\n",
            " soldoff-low       0.49      0.45      0.47        42\n",
            "\n",
            "    accuracy                           0.58       232\n",
            "   macro avg       0.63      0.55      0.56       232\n",
            "weighted avg       0.61      0.58      0.58       232\n",
            "\n"
          ]
        }
      ]
    },
    {
      "cell_type": "markdown",
      "source": [
        "### **Model 4:**\n",
        "\n",
        "* `criterion` = gini\n",
        "* `max_depth` = 5\n",
        "* `min_samples_leaf` = 5\n",
        "* `min_impurity_decrease` = 0.004"
      ],
      "metadata": {
        "id": "UMFVCnYad1e0"
      }
    },
    {
      "cell_type": "code",
      "source": [
        "# replace with code to specify DecisionTreeClassifier parameters\n",
        "model_4 = DecisionTreeClassifier(criterion = 'gini', random_state = 100, max_depth = 5, min_samples_leaf = 5, min_impurity_decrease=0.004)\n",
        "# replace with code to fit model to training data\n",
        "model_4.fit(x_train, y_train)"
      ],
      "metadata": {
        "id": "qIubs97ed3bh",
        "colab": {
          "base_uri": "https://localhost:8080/",
          "height": 92
        },
        "outputId": "17042a9c-22d7-47af-ddd0-ff781eebd1e2"
      },
      "execution_count": 26,
      "outputs": [
        {
          "output_type": "execute_result",
          "data": {
            "text/plain": [
              "DecisionTreeClassifier(max_depth=5, min_impurity_decrease=0.004,\n",
              "                       min_samples_leaf=5, random_state=100)"
            ],
            "text/html": [
              "<style>#sk-container-id-5 {color: black;background-color: white;}#sk-container-id-5 pre{padding: 0;}#sk-container-id-5 div.sk-toggleable {background-color: white;}#sk-container-id-5 label.sk-toggleable__label {cursor: pointer;display: block;width: 100%;margin-bottom: 0;padding: 0.3em;box-sizing: border-box;text-align: center;}#sk-container-id-5 label.sk-toggleable__label-arrow:before {content: \"▸\";float: left;margin-right: 0.25em;color: #696969;}#sk-container-id-5 label.sk-toggleable__label-arrow:hover:before {color: black;}#sk-container-id-5 div.sk-estimator:hover label.sk-toggleable__label-arrow:before {color: black;}#sk-container-id-5 div.sk-toggleable__content {max-height: 0;max-width: 0;overflow: hidden;text-align: left;background-color: #f0f8ff;}#sk-container-id-5 div.sk-toggleable__content pre {margin: 0.2em;color: black;border-radius: 0.25em;background-color: #f0f8ff;}#sk-container-id-5 input.sk-toggleable__control:checked~div.sk-toggleable__content {max-height: 200px;max-width: 100%;overflow: auto;}#sk-container-id-5 input.sk-toggleable__control:checked~label.sk-toggleable__label-arrow:before {content: \"▾\";}#sk-container-id-5 div.sk-estimator input.sk-toggleable__control:checked~label.sk-toggleable__label {background-color: #d4ebff;}#sk-container-id-5 div.sk-label input.sk-toggleable__control:checked~label.sk-toggleable__label {background-color: #d4ebff;}#sk-container-id-5 input.sk-hidden--visually {border: 0;clip: rect(1px 1px 1px 1px);clip: rect(1px, 1px, 1px, 1px);height: 1px;margin: -1px;overflow: hidden;padding: 0;position: absolute;width: 1px;}#sk-container-id-5 div.sk-estimator {font-family: monospace;background-color: #f0f8ff;border: 1px dotted black;border-radius: 0.25em;box-sizing: border-box;margin-bottom: 0.5em;}#sk-container-id-5 div.sk-estimator:hover {background-color: #d4ebff;}#sk-container-id-5 div.sk-parallel-item::after {content: \"\";width: 100%;border-bottom: 1px solid gray;flex-grow: 1;}#sk-container-id-5 div.sk-label:hover label.sk-toggleable__label {background-color: #d4ebff;}#sk-container-id-5 div.sk-serial::before {content: \"\";position: absolute;border-left: 1px solid gray;box-sizing: border-box;top: 0;bottom: 0;left: 50%;z-index: 0;}#sk-container-id-5 div.sk-serial {display: flex;flex-direction: column;align-items: center;background-color: white;padding-right: 0.2em;padding-left: 0.2em;position: relative;}#sk-container-id-5 div.sk-item {position: relative;z-index: 1;}#sk-container-id-5 div.sk-parallel {display: flex;align-items: stretch;justify-content: center;background-color: white;position: relative;}#sk-container-id-5 div.sk-item::before, #sk-container-id-5 div.sk-parallel-item::before {content: \"\";position: absolute;border-left: 1px solid gray;box-sizing: border-box;top: 0;bottom: 0;left: 50%;z-index: -1;}#sk-container-id-5 div.sk-parallel-item {display: flex;flex-direction: column;z-index: 1;position: relative;background-color: white;}#sk-container-id-5 div.sk-parallel-item:first-child::after {align-self: flex-end;width: 50%;}#sk-container-id-5 div.sk-parallel-item:last-child::after {align-self: flex-start;width: 50%;}#sk-container-id-5 div.sk-parallel-item:only-child::after {width: 0;}#sk-container-id-5 div.sk-dashed-wrapped {border: 1px dashed gray;margin: 0 0.4em 0.5em 0.4em;box-sizing: border-box;padding-bottom: 0.4em;background-color: white;}#sk-container-id-5 div.sk-label label {font-family: monospace;font-weight: bold;display: inline-block;line-height: 1.2em;}#sk-container-id-5 div.sk-label-container {text-align: center;}#sk-container-id-5 div.sk-container {/* jupyter's `normalize.less` sets `[hidden] { display: none; }` but bootstrap.min.css set `[hidden] { display: none !important; }` so we also need the `!important` here to be able to override the default hidden behavior on the sphinx rendered scikit-learn.org. See: https://github.com/scikit-learn/scikit-learn/issues/21755 */display: inline-block !important;position: relative;}#sk-container-id-5 div.sk-text-repr-fallback {display: none;}</style><div id=\"sk-container-id-5\" class=\"sk-top-container\"><div class=\"sk-text-repr-fallback\"><pre>DecisionTreeClassifier(max_depth=5, min_impurity_decrease=0.004,\n",
              "                       min_samples_leaf=5, random_state=100)</pre><b>In a Jupyter environment, please rerun this cell to show the HTML representation or trust the notebook. <br />On GitHub, the HTML representation is unable to render, please try loading this page with nbviewer.org.</b></div><div class=\"sk-container\" hidden><div class=\"sk-item\"><div class=\"sk-estimator sk-toggleable\"><input class=\"sk-toggleable__control sk-hidden--visually\" id=\"sk-estimator-id-5\" type=\"checkbox\" checked><label for=\"sk-estimator-id-5\" class=\"sk-toggleable__label sk-toggleable__label-arrow\">DecisionTreeClassifier</label><div class=\"sk-toggleable__content\"><pre>DecisionTreeClassifier(max_depth=5, min_impurity_decrease=0.004,\n",
              "                       min_samples_leaf=5, random_state=100)</pre></div></div></div></div></div>"
            ]
          },
          "metadata": {},
          "execution_count": 26
        }
      ]
    },
    {
      "cell_type": "code",
      "source": [
        "# replace with code to predict model4 onto x_test\n",
        "predictions = model_4.predict(x_test)"
      ],
      "metadata": {
        "id": "W-CKoPIhd3UW"
      },
      "execution_count": 27,
      "outputs": []
    },
    {
      "cell_type": "code",
      "source": [
        "# replace with code to print classification report\n",
        "print(classification_report(y_test, predictions))"
      ],
      "metadata": {
        "id": "OtMF2OfFd3Lm",
        "colab": {
          "base_uri": "https://localhost:8080/"
        },
        "outputId": "dbad4f05-ce8c-4d09-b7f7-5de2faeb65de"
      },
      "execution_count": 28,
      "outputs": [
        {
          "output_type": "stream",
          "name": "stdout",
          "text": [
            "              precision    recall  f1-score   support\n",
            "\n",
            "    bankrupt       0.53      0.66      0.59        70\n",
            "         ipo       0.74      0.50      0.60        40\n",
            "soldoff-high       0.52      0.71      0.60        80\n",
            " soldoff-low       0.11      0.02      0.04        42\n",
            "\n",
            "    accuracy                           0.53       232\n",
            "   macro avg       0.48      0.47      0.46       232\n",
            "weighted avg       0.49      0.53      0.49       232\n",
            "\n"
          ]
        }
      ]
    },
    {
      "cell_type": "markdown",
      "source": [
        "## A\n",
        "\n",
        "**What parameters led to the best-performing (highest overall accuracy) model? What was the highest accuracy achieved?**"
      ],
      "metadata": {
        "id": "Xp9N_pe3eX0o"
      }
    },
    {
      "cell_type": "markdown",
      "source": [
        "I had a tie between two of them but I will outline one here\n",
        "These parameters gave me the highest overall accuracy\n",
        "\n",
        "criterion = 'entropy'\n",
        "\n",
        "random_state = 100\n",
        "\n",
        "max_depth = 5\n",
        "\n",
        "min_samples_leaf = 6\n",
        "\n",
        "min_impurity_decrease = 0.004\n",
        "\n",
        "This achieved the highest accuracy (tied with another) of 0.58"
      ],
      "metadata": {
        "id": "eayDeM8pegVK"
      }
    },
    {
      "cell_type": "markdown",
      "source": [
        "## B\n",
        "\n",
        "**Plot your best performing decision tree using the `export_graphviz` function from the `tree` library.**"
      ],
      "metadata": {
        "id": "dE5B_sRheuXD"
      }
    },
    {
      "cell_type": "code",
      "source": [
        "# replace with code to plot tree of best performing model\n",
        "labels = y.value_counts()\n",
        "dot_data = tree.export_graphviz(model_2, out_file = None, feature_names = x.columns, class_names = labels.index.values, filled = True)\n",
        "graph_2 = graphviz.Source(dot_data, format = 'png')\n",
        "graph_2"
      ],
      "metadata": {
        "id": "JTyoOrSOgDPm",
        "colab": {
          "base_uri": "https://localhost:8080/",
          "height": 935
        },
        "outputId": "9bde0b98-0d2f-4e3f-e910-e6d564600b0c"
      },
      "execution_count": 29,
      "outputs": [
        {
          "output_type": "execute_result",
          "data": {
            "image/svg+xml": "<?xml version=\"1.0\" encoding=\"UTF-8\" standalone=\"no\"?>\n<!DOCTYPE svg PUBLIC \"-//W3C//DTD SVG 1.1//EN\"\n \"http://www.w3.org/Graphics/SVG/1.1/DTD/svg11.dtd\">\n<!-- Generated by graphviz version 2.43.0 (0)\n -->\n<!-- Title: Tree Pages: 1 -->\n<svg width=\"3376pt\" height=\"671pt\"\n viewBox=\"0.00 0.00 3376.00 671.00\" xmlns=\"http://www.w3.org/2000/svg\" xmlns:xlink=\"http://www.w3.org/1999/xlink\">\n<g id=\"graph0\" class=\"graph\" transform=\"scale(1 1) rotate(0) translate(4 667)\">\n<title>Tree</title>\n<polygon fill=\"white\" stroke=\"transparent\" points=\"-4,4 -4,-667 3372,-667 3372,4 -4,4\"/>\n<!-- 0 -->\n<g id=\"node1\" class=\"node\">\n<title>0</title>\n<polygon fill=\"#f4fafe\" stroke=\"black\" points=\"2396,-663 2211,-663 2211,-580 2396,-580 2396,-663\"/>\n<text text-anchor=\"middle\" x=\"2303.5\" y=\"-647.8\" font-family=\"Helvetica,sans-Serif\" font-size=\"14.00\">industry_tech &lt;= 0.5</text>\n<text text-anchor=\"middle\" x=\"2303.5\" y=\"-632.8\" font-family=\"Helvetica,sans-Serif\" font-size=\"14.00\">entropy = 1.942</text>\n<text text-anchor=\"middle\" x=\"2303.5\" y=\"-617.8\" font-family=\"Helvetica,sans-Serif\" font-size=\"14.00\">samples = 927</text>\n<text text-anchor=\"middle\" x=\"2303.5\" y=\"-602.8\" font-family=\"Helvetica,sans-Serif\" font-size=\"14.00\">value = [267, 134, 304, 222]</text>\n<text text-anchor=\"middle\" x=\"2303.5\" y=\"-587.8\" font-family=\"Helvetica,sans-Serif\" font-size=\"14.00\">class = soldoff&#45;low</text>\n</g>\n<!-- 1 -->\n<g id=\"node2\" class=\"node\">\n<title>1</title>\n<polygon fill=\"#ffffff\" stroke=\"black\" points=\"1952,-544 1767,-544 1767,-461 1952,-461 1952,-544\"/>\n<text text-anchor=\"middle\" x=\"1859.5\" y=\"-528.8\" font-family=\"Helvetica,sans-Serif\" font-size=\"14.00\">patents &lt;= 0.5</text>\n<text text-anchor=\"middle\" x=\"1859.5\" y=\"-513.8\" font-family=\"Helvetica,sans-Serif\" font-size=\"14.00\">entropy = 1.955</text>\n<text text-anchor=\"middle\" x=\"1859.5\" y=\"-498.8\" font-family=\"Helvetica,sans-Serif\" font-size=\"14.00\">samples = 636</text>\n<text text-anchor=\"middle\" x=\"1859.5\" y=\"-483.8\" font-family=\"Helvetica,sans-Serif\" font-size=\"14.00\">value = [137, 106, 197, 196]</text>\n<text text-anchor=\"middle\" x=\"1859.5\" y=\"-468.8\" font-family=\"Helvetica,sans-Serif\" font-size=\"14.00\">class = soldoff&#45;low</text>\n</g>\n<!-- 0&#45;&gt;1 -->\n<g id=\"edge1\" class=\"edge\">\n<title>0&#45;&gt;1</title>\n<path fill=\"none\" stroke=\"black\" d=\"M2210.96,-596.12C2138.36,-576.98 2037.36,-550.37 1962.25,-530.58\"/>\n<polygon fill=\"black\" stroke=\"black\" points=\"1962.86,-527.12 1952.3,-527.95 1961.08,-533.89 1962.86,-527.12\"/>\n<text text-anchor=\"middle\" x=\"1964.89\" y=\"-545.85\" font-family=\"Helvetica,sans-Serif\" font-size=\"14.00\">True</text>\n</g>\n<!-- 32 -->\n<g id=\"node33\" class=\"node\">\n<title>32</title>\n<polygon fill=\"#fcefe6\" stroke=\"black\" points=\"2729.5,-544 2559.5,-544 2559.5,-461 2729.5,-461 2729.5,-544\"/>\n<text text-anchor=\"middle\" x=\"2644.5\" y=\"-528.8\" font-family=\"Helvetica,sans-Serif\" font-size=\"14.00\">pfunding &lt;= 4950000.0</text>\n<text text-anchor=\"middle\" x=\"2644.5\" y=\"-513.8\" font-family=\"Helvetica,sans-Serif\" font-size=\"14.00\">entropy = 1.686</text>\n<text text-anchor=\"middle\" x=\"2644.5\" y=\"-498.8\" font-family=\"Helvetica,sans-Serif\" font-size=\"14.00\">samples = 291</text>\n<text text-anchor=\"middle\" x=\"2644.5\" y=\"-483.8\" font-family=\"Helvetica,sans-Serif\" font-size=\"14.00\">value = [130, 28, 107, 26]</text>\n<text text-anchor=\"middle\" x=\"2644.5\" y=\"-468.8\" font-family=\"Helvetica,sans-Serif\" font-size=\"14.00\">class = soldoff&#45;high</text>\n</g>\n<!-- 0&#45;&gt;32 -->\n<g id=\"edge32\" class=\"edge\">\n<title>0&#45;&gt;32</title>\n<path fill=\"none\" stroke=\"black\" d=\"M2396.23,-588.68C2443.83,-572.35 2501.73,-552.49 2549.64,-536.05\"/>\n<polygon fill=\"black\" stroke=\"black\" points=\"2551.06,-539.26 2559.39,-532.7 2548.79,-532.64 2551.06,-539.26\"/>\n<text text-anchor=\"middle\" x=\"2548.4\" y=\"-551.46\" font-family=\"Helvetica,sans-Serif\" font-size=\"14.00\">False</text>\n</g>\n<!-- 2 -->\n<g id=\"node3\" class=\"node\">\n<title>2</title>\n<polygon fill=\"#fcf1e9\" stroke=\"black\" points=\"1002,-425 825,-425 825,-342 1002,-342 1002,-425\"/>\n<text text-anchor=\"middle\" x=\"913.5\" y=\"-409.8\" font-family=\"Helvetica,sans-Serif\" font-size=\"14.00\">industry_healthcare &lt;= 0.5</text>\n<text text-anchor=\"middle\" x=\"913.5\" y=\"-394.8\" font-family=\"Helvetica,sans-Serif\" font-size=\"14.00\">entropy = 1.953</text>\n<text text-anchor=\"middle\" x=\"913.5\" y=\"-379.8\" font-family=\"Helvetica,sans-Serif\" font-size=\"14.00\">samples = 303</text>\n<text text-anchor=\"middle\" x=\"913.5\" y=\"-364.8\" font-family=\"Helvetica,sans-Serif\" font-size=\"14.00\">value = [102, 48, 77, 76]</text>\n<text text-anchor=\"middle\" x=\"913.5\" y=\"-349.8\" font-family=\"Helvetica,sans-Serif\" font-size=\"14.00\">class = soldoff&#45;high</text>\n</g>\n<!-- 1&#45;&gt;2 -->\n<g id=\"edge2\" class=\"edge\">\n<title>1&#45;&gt;2</title>\n<path fill=\"none\" stroke=\"black\" d=\"M1766.64,-490.02C1587.54,-467.86 1195.89,-419.43 1012.24,-396.71\"/>\n<polygon fill=\"black\" stroke=\"black\" points=\"1012.41,-393.21 1002.05,-395.45 1011.55,-400.15 1012.41,-393.21\"/>\n</g>\n<!-- 17 -->\n<g id=\"node18\" class=\"node\">\n<title>17</title>\n<polygon fill=\"#ffffff\" stroke=\"black\" points=\"1944.5,-425 1774.5,-425 1774.5,-342 1944.5,-342 1944.5,-425\"/>\n<text text-anchor=\"middle\" x=\"1859.5\" y=\"-409.8\" font-family=\"Helvetica,sans-Serif\" font-size=\"14.00\">elites &lt;= 3.5</text>\n<text text-anchor=\"middle\" x=\"1859.5\" y=\"-394.8\" font-family=\"Helvetica,sans-Serif\" font-size=\"14.00\">entropy = 1.842</text>\n<text text-anchor=\"middle\" x=\"1859.5\" y=\"-379.8\" font-family=\"Helvetica,sans-Serif\" font-size=\"14.00\">samples = 333</text>\n<text text-anchor=\"middle\" x=\"1859.5\" y=\"-364.8\" font-family=\"Helvetica,sans-Serif\" font-size=\"14.00\">value = [35, 58, 120, 120]</text>\n<text text-anchor=\"middle\" x=\"1859.5\" y=\"-349.8\" font-family=\"Helvetica,sans-Serif\" font-size=\"14.00\">class = soldoff&#45;low</text>\n</g>\n<!-- 1&#45;&gt;17 -->\n<g id=\"edge17\" class=\"edge\">\n<title>1&#45;&gt;17</title>\n<path fill=\"none\" stroke=\"black\" d=\"M1859.5,-460.91C1859.5,-452.65 1859.5,-443.86 1859.5,-435.3\"/>\n<polygon fill=\"black\" stroke=\"black\" points=\"1863,-435.02 1859.5,-425.02 1856,-435.02 1863,-435.02\"/>\n</g>\n<!-- 3 -->\n<g id=\"node4\" class=\"node\">\n<title>3</title>\n<polygon fill=\"#fdf3ec\" stroke=\"black\" points=\"537.5,-306 385.5,-306 385.5,-223 537.5,-223 537.5,-306\"/>\n<text text-anchor=\"middle\" x=\"461.5\" y=\"-290.8\" font-family=\"Helvetica,sans-Serif\" font-size=\"14.00\">industry_media &lt;= 0.5</text>\n<text text-anchor=\"middle\" x=\"461.5\" y=\"-275.8\" font-family=\"Helvetica,sans-Serif\" font-size=\"14.00\">entropy = 1.767</text>\n<text text-anchor=\"middle\" x=\"461.5\" y=\"-260.8\" font-family=\"Helvetica,sans-Serif\" font-size=\"14.00\">samples = 185</text>\n<text text-anchor=\"middle\" x=\"461.5\" y=\"-245.8\" font-family=\"Helvetica,sans-Serif\" font-size=\"14.00\">value = [71, 9, 59, 46]</text>\n<text text-anchor=\"middle\" x=\"461.5\" y=\"-230.8\" font-family=\"Helvetica,sans-Serif\" font-size=\"14.00\">class = soldoff&#45;high</text>\n</g>\n<!-- 2&#45;&gt;3 -->\n<g id=\"edge3\" class=\"edge\">\n<title>2&#45;&gt;3</title>\n<path fill=\"none\" stroke=\"black\" d=\"M824.74,-359.52C744.49,-338.75 627.07,-308.36 547.64,-287.8\"/>\n<polygon fill=\"black\" stroke=\"black\" points=\"548.22,-284.33 537.67,-285.22 546.47,-291.11 548.22,-284.33\"/>\n</g>\n<!-- 10 -->\n<g id=\"node11\" class=\"node\">\n<title>10</title>\n<polygon fill=\"#eefded\" stroke=\"black\" points=\"991.5,-306 835.5,-306 835.5,-223 991.5,-223 991.5,-306\"/>\n<text text-anchor=\"middle\" x=\"913.5\" y=\"-290.8\" font-family=\"Helvetica,sans-Serif\" font-size=\"14.00\">pfunding &lt;= 4800000.0</text>\n<text text-anchor=\"middle\" x=\"913.5\" y=\"-275.8\" font-family=\"Helvetica,sans-Serif\" font-size=\"14.00\">entropy = 1.951</text>\n<text text-anchor=\"middle\" x=\"913.5\" y=\"-260.8\" font-family=\"Helvetica,sans-Serif\" font-size=\"14.00\">samples = 118</text>\n<text text-anchor=\"middle\" x=\"913.5\" y=\"-245.8\" font-family=\"Helvetica,sans-Serif\" font-size=\"14.00\">value = [31, 39, 18, 30]</text>\n<text text-anchor=\"middle\" x=\"913.5\" y=\"-230.8\" font-family=\"Helvetica,sans-Serif\" font-size=\"14.00\">class = bankrupt</text>\n</g>\n<!-- 2&#45;&gt;10 -->\n<g id=\"edge10\" class=\"edge\">\n<title>2&#45;&gt;10</title>\n<path fill=\"none\" stroke=\"black\" d=\"M913.5,-341.91C913.5,-333.65 913.5,-324.86 913.5,-316.3\"/>\n<polygon fill=\"black\" stroke=\"black\" points=\"917,-316.02 913.5,-306.02 910,-316.02 917,-316.02\"/>\n</g>\n<!-- 4 -->\n<g id=\"node5\" class=\"node\">\n<title>4</title>\n<polygon fill=\"#f8decc\" stroke=\"black\" points=\"303,-187 156,-187 156,-104 303,-104 303,-187\"/>\n<text text-anchor=\"middle\" x=\"229.5\" y=\"-171.8\" font-family=\"Helvetica,sans-Serif\" font-size=\"14.00\">elites &lt;= 5.5</text>\n<text text-anchor=\"middle\" x=\"229.5\" y=\"-156.8\" font-family=\"Helvetica,sans-Serif\" font-size=\"14.00\">entropy = 1.693</text>\n<text text-anchor=\"middle\" x=\"229.5\" y=\"-141.8\" font-family=\"Helvetica,sans-Serif\" font-size=\"14.00\">samples = 120</text>\n<text text-anchor=\"middle\" x=\"229.5\" y=\"-126.8\" font-family=\"Helvetica,sans-Serif\" font-size=\"14.00\">value = [57, 6, 22, 35]</text>\n<text text-anchor=\"middle\" x=\"229.5\" y=\"-111.8\" font-family=\"Helvetica,sans-Serif\" font-size=\"14.00\">class = soldoff&#45;high</text>\n</g>\n<!-- 3&#45;&gt;4 -->\n<g id=\"edge4\" class=\"edge\">\n<title>3&#45;&gt;4</title>\n<path fill=\"none\" stroke=\"black\" d=\"M385.21,-225.03C361.79,-213.22 335.91,-200.17 312.09,-188.15\"/>\n<polygon fill=\"black\" stroke=\"black\" points=\"313.58,-184.98 303.07,-183.6 310.42,-191.23 313.58,-184.98\"/>\n</g>\n<!-- 7 -->\n<g id=\"node8\" class=\"node\">\n<title>7</title>\n<polygon fill=\"#a6d3f3\" stroke=\"black\" points=\"535,-187 388,-187 388,-104 535,-104 535,-187\"/>\n<text text-anchor=\"middle\" x=\"461.5\" y=\"-171.8\" font-family=\"Helvetica,sans-Serif\" font-size=\"14.00\">months &lt;= 35.5</text>\n<text text-anchor=\"middle\" x=\"461.5\" y=\"-156.8\" font-family=\"Helvetica,sans-Serif\" font-size=\"14.00\">entropy = 1.578</text>\n<text text-anchor=\"middle\" x=\"461.5\" y=\"-141.8\" font-family=\"Helvetica,sans-Serif\" font-size=\"14.00\">samples = 65</text>\n<text text-anchor=\"middle\" x=\"461.5\" y=\"-126.8\" font-family=\"Helvetica,sans-Serif\" font-size=\"14.00\">value = [14, 3, 37, 11]</text>\n<text text-anchor=\"middle\" x=\"461.5\" y=\"-111.8\" font-family=\"Helvetica,sans-Serif\" font-size=\"14.00\">class = soldoff&#45;low</text>\n</g>\n<!-- 3&#45;&gt;7 -->\n<g id=\"edge7\" class=\"edge\">\n<title>3&#45;&gt;7</title>\n<path fill=\"none\" stroke=\"black\" d=\"M461.5,-222.91C461.5,-214.65 461.5,-205.86 461.5,-197.3\"/>\n<polygon fill=\"black\" stroke=\"black\" points=\"465,-197.02 461.5,-187.02 458,-197.02 465,-197.02\"/>\n</g>\n<!-- 5 -->\n<g id=\"node6\" class=\"node\">\n<title>5</title>\n<polygon fill=\"#f7d8c1\" stroke=\"black\" points=\"147,-68 0,-68 0,0 147,0 147,-68\"/>\n<text text-anchor=\"middle\" x=\"73.5\" y=\"-52.8\" font-family=\"Helvetica,sans-Serif\" font-size=\"14.00\">entropy = 1.554</text>\n<text text-anchor=\"middle\" x=\"73.5\" y=\"-37.8\" font-family=\"Helvetica,sans-Serif\" font-size=\"14.00\">samples = 107</text>\n<text text-anchor=\"middle\" x=\"73.5\" y=\"-22.8\" font-family=\"Helvetica,sans-Serif\" font-size=\"14.00\">value = [56, 3, 15, 33]</text>\n<text text-anchor=\"middle\" x=\"73.5\" y=\"-7.8\" font-family=\"Helvetica,sans-Serif\" font-size=\"14.00\">class = soldoff&#45;high</text>\n</g>\n<!-- 4&#45;&gt;5 -->\n<g id=\"edge5\" class=\"edge\">\n<title>4&#45;&gt;5</title>\n<path fill=\"none\" stroke=\"black\" d=\"M171.41,-103.73C157.64,-94.06 142.98,-83.77 129.31,-74.17\"/>\n<polygon fill=\"black\" stroke=\"black\" points=\"131.14,-71.18 120.94,-68.3 127.11,-76.91 131.14,-71.18\"/>\n</g>\n<!-- 6 -->\n<g id=\"node7\" class=\"node\">\n<title>6</title>\n<polygon fill=\"#b0d8f5\" stroke=\"black\" points=\"293.5,-68 165.5,-68 165.5,0 293.5,0 293.5,-68\"/>\n<text text-anchor=\"middle\" x=\"229.5\" y=\"-52.8\" font-family=\"Helvetica,sans-Serif\" font-size=\"14.00\">entropy = 1.669</text>\n<text text-anchor=\"middle\" x=\"229.5\" y=\"-37.8\" font-family=\"Helvetica,sans-Serif\" font-size=\"14.00\">samples = 13</text>\n<text text-anchor=\"middle\" x=\"229.5\" y=\"-22.8\" font-family=\"Helvetica,sans-Serif\" font-size=\"14.00\">value = [1, 3, 7, 2]</text>\n<text text-anchor=\"middle\" x=\"229.5\" y=\"-7.8\" font-family=\"Helvetica,sans-Serif\" font-size=\"14.00\">class = soldoff&#45;low</text>\n</g>\n<!-- 4&#45;&gt;6 -->\n<g id=\"edge6\" class=\"edge\">\n<title>4&#45;&gt;6</title>\n<path fill=\"none\" stroke=\"black\" d=\"M229.5,-103.73C229.5,-95.52 229.5,-86.86 229.5,-78.56\"/>\n<polygon fill=\"black\" stroke=\"black\" points=\"233,-78.3 229.5,-68.3 226,-78.3 233,-78.3\"/>\n</g>\n<!-- 8 -->\n<g id=\"node9\" class=\"node\">\n<title>8</title>\n<polygon fill=\"#8dc6f0\" stroke=\"black\" points=\"443.5,-68 311.5,-68 311.5,0 443.5,0 443.5,-68\"/>\n<text text-anchor=\"middle\" x=\"377.5\" y=\"-52.8\" font-family=\"Helvetica,sans-Serif\" font-size=\"14.00\">entropy = 1.45</text>\n<text text-anchor=\"middle\" x=\"377.5\" y=\"-37.8\" font-family=\"Helvetica,sans-Serif\" font-size=\"14.00\">samples = 54</text>\n<text text-anchor=\"middle\" x=\"377.5\" y=\"-22.8\" font-family=\"Helvetica,sans-Serif\" font-size=\"14.00\">value = [7, 3, 35, 9]</text>\n<text text-anchor=\"middle\" x=\"377.5\" y=\"-7.8\" font-family=\"Helvetica,sans-Serif\" font-size=\"14.00\">class = soldoff&#45;low</text>\n</g>\n<!-- 7&#45;&gt;8 -->\n<g id=\"edge8\" class=\"edge\">\n<title>7&#45;&gt;8</title>\n<path fill=\"none\" stroke=\"black\" d=\"M430.22,-103.73C423.36,-94.79 416.1,-85.32 409.22,-76.36\"/>\n<polygon fill=\"black\" stroke=\"black\" points=\"411.91,-74.1 403.04,-68.3 406.35,-78.36 411.91,-74.1\"/>\n</g>\n<!-- 9 -->\n<g id=\"node10\" class=\"node\">\n<title>9</title>\n<polygon fill=\"#f1b991\" stroke=\"black\" points=\"595,-68 462,-68 462,0 595,0 595,-68\"/>\n<text text-anchor=\"middle\" x=\"528.5\" y=\"-52.8\" font-family=\"Helvetica,sans-Serif\" font-size=\"14.00\">entropy = 1.309</text>\n<text text-anchor=\"middle\" x=\"528.5\" y=\"-37.8\" font-family=\"Helvetica,sans-Serif\" font-size=\"14.00\">samples = 11</text>\n<text text-anchor=\"middle\" x=\"528.5\" y=\"-22.8\" font-family=\"Helvetica,sans-Serif\" font-size=\"14.00\">value = [7, 0, 2, 2]</text>\n<text text-anchor=\"middle\" x=\"528.5\" y=\"-7.8\" font-family=\"Helvetica,sans-Serif\" font-size=\"14.00\">class = soldoff&#45;high</text>\n</g>\n<!-- 7&#45;&gt;9 -->\n<g id=\"edge9\" class=\"edge\">\n<title>7&#45;&gt;9</title>\n<path fill=\"none\" stroke=\"black\" d=\"M486.45,-103.73C491.81,-94.97 497.48,-85.7 502.86,-76.91\"/>\n<polygon fill=\"black\" stroke=\"black\" points=\"505.89,-78.66 508.12,-68.3 499.92,-75 505.89,-78.66\"/>\n</g>\n<!-- 11 -->\n<g id=\"node12\" class=\"node\">\n<title>11</title>\n<polygon fill=\"#fdf4ee\" stroke=\"black\" points=\"902.5,-187 762.5,-187 762.5,-104 902.5,-104 902.5,-187\"/>\n<text text-anchor=\"middle\" x=\"832.5\" y=\"-171.8\" font-family=\"Helvetica,sans-Serif\" font-size=\"14.00\">smember &lt;= 0.5</text>\n<text text-anchor=\"middle\" x=\"832.5\" y=\"-156.8\" font-family=\"Helvetica,sans-Serif\" font-size=\"14.00\">entropy = 1.828</text>\n<text text-anchor=\"middle\" x=\"832.5\" y=\"-141.8\" font-family=\"Helvetica,sans-Serif\" font-size=\"14.00\">samples = 51</text>\n<text text-anchor=\"middle\" x=\"832.5\" y=\"-126.8\" font-family=\"Helvetica,sans-Serif\" font-size=\"14.00\">value = [20, 5, 9, 17]</text>\n<text text-anchor=\"middle\" x=\"832.5\" y=\"-111.8\" font-family=\"Helvetica,sans-Serif\" font-size=\"14.00\">class = soldoff&#45;high</text>\n</g>\n<!-- 10&#45;&gt;11 -->\n<g id=\"edge11\" class=\"edge\">\n<title>10&#45;&gt;11</title>\n<path fill=\"none\" stroke=\"black\" d=\"M885.4,-222.91C879.24,-214.01 872.66,-204.51 866.31,-195.33\"/>\n<polygon fill=\"black\" stroke=\"black\" points=\"869.12,-193.25 860.55,-187.02 863.37,-197.24 869.12,-193.25\"/>\n</g>\n<!-- 14 -->\n<g id=\"node15\" class=\"node\">\n<title>14</title>\n<polygon fill=\"#b7f5b2\" stroke=\"black\" points=\"1068,-187 921,-187 921,-104 1068,-104 1068,-187\"/>\n<text text-anchor=\"middle\" x=\"994.5\" y=\"-171.8\" font-family=\"Helvetica,sans-Serif\" font-size=\"14.00\">elites &lt;= 3.5</text>\n<text text-anchor=\"middle\" x=\"994.5\" y=\"-156.8\" font-family=\"Helvetica,sans-Serif\" font-size=\"14.00\">entropy = 1.773</text>\n<text text-anchor=\"middle\" x=\"994.5\" y=\"-141.8\" font-family=\"Helvetica,sans-Serif\" font-size=\"14.00\">samples = 67</text>\n<text text-anchor=\"middle\" x=\"994.5\" y=\"-126.8\" font-family=\"Helvetica,sans-Serif\" font-size=\"14.00\">value = [11, 34, 9, 13]</text>\n<text text-anchor=\"middle\" x=\"994.5\" y=\"-111.8\" font-family=\"Helvetica,sans-Serif\" font-size=\"14.00\">class = bankrupt</text>\n</g>\n<!-- 10&#45;&gt;14 -->\n<g id=\"edge14\" class=\"edge\">\n<title>10&#45;&gt;14</title>\n<path fill=\"none\" stroke=\"black\" d=\"M941.6,-222.91C947.76,-214.01 954.34,-204.51 960.69,-195.33\"/>\n<polygon fill=\"black\" stroke=\"black\" points=\"963.63,-197.24 966.45,-187.02 957.88,-193.25 963.63,-197.24\"/>\n</g>\n<!-- 12 -->\n<g id=\"node13\" class=\"node\">\n<title>12</title>\n<polygon fill=\"#fae6d7\" stroke=\"black\" points=\"753.5,-68 613.5,-68 613.5,0 753.5,0 753.5,-68\"/>\n<text text-anchor=\"middle\" x=\"683.5\" y=\"-52.8\" font-family=\"Helvetica,sans-Serif\" font-size=\"14.00\">entropy = 1.593</text>\n<text text-anchor=\"middle\" x=\"683.5\" y=\"-37.8\" font-family=\"Helvetica,sans-Serif\" font-size=\"14.00\">samples = 39</text>\n<text text-anchor=\"middle\" x=\"683.5\" y=\"-22.8\" font-family=\"Helvetica,sans-Serif\" font-size=\"14.00\">value = [19, 2, 4, 14]</text>\n<text text-anchor=\"middle\" x=\"683.5\" y=\"-7.8\" font-family=\"Helvetica,sans-Serif\" font-size=\"14.00\">class = soldoff&#45;high</text>\n</g>\n<!-- 11&#45;&gt;12 -->\n<g id=\"edge12\" class=\"edge\">\n<title>11&#45;&gt;12</title>\n<path fill=\"none\" stroke=\"black\" d=\"M777.02,-103.73C763.99,-94.15 750.12,-83.96 737.17,-74.44\"/>\n<polygon fill=\"black\" stroke=\"black\" points=\"738.94,-71.4 728.81,-68.3 734.8,-77.04 738.94,-71.4\"/>\n</g>\n<!-- 13 -->\n<g id=\"node14\" class=\"node\">\n<title>13</title>\n<polygon fill=\"#d3e9f9\" stroke=\"black\" points=\"899.5,-68 771.5,-68 771.5,0 899.5,0 899.5,-68\"/>\n<text text-anchor=\"middle\" x=\"835.5\" y=\"-52.8\" font-family=\"Helvetica,sans-Serif\" font-size=\"14.00\">entropy = 1.825</text>\n<text text-anchor=\"middle\" x=\"835.5\" y=\"-37.8\" font-family=\"Helvetica,sans-Serif\" font-size=\"14.00\">samples = 12</text>\n<text text-anchor=\"middle\" x=\"835.5\" y=\"-22.8\" font-family=\"Helvetica,sans-Serif\" font-size=\"14.00\">value = [1, 3, 5, 3]</text>\n<text text-anchor=\"middle\" x=\"835.5\" y=\"-7.8\" font-family=\"Helvetica,sans-Serif\" font-size=\"14.00\">class = soldoff&#45;low</text>\n</g>\n<!-- 11&#45;&gt;13 -->\n<g id=\"edge13\" class=\"edge\">\n<title>11&#45;&gt;13</title>\n<path fill=\"none\" stroke=\"black\" d=\"M833.62,-103.73C833.84,-95.52 834.08,-86.86 834.31,-78.56\"/>\n<polygon fill=\"black\" stroke=\"black\" points=\"837.81,-78.39 834.59,-68.3 830.82,-78.2 837.81,-78.39\"/>\n</g>\n<!-- 15 -->\n<g id=\"node16\" class=\"node\">\n<title>15</title>\n<polygon fill=\"#fef9fe\" stroke=\"black\" points=\"1065,-68 918,-68 918,0 1065,0 1065,-68\"/>\n<text text-anchor=\"middle\" x=\"991.5\" y=\"-52.8\" font-family=\"Helvetica,sans-Serif\" font-size=\"14.00\">entropy = 1.987</text>\n<text text-anchor=\"middle\" x=\"991.5\" y=\"-37.8\" font-family=\"Helvetica,sans-Serif\" font-size=\"14.00\">samples = 45</text>\n<text text-anchor=\"middle\" x=\"991.5\" y=\"-22.8\" font-family=\"Helvetica,sans-Serif\" font-size=\"14.00\">value = [11, 12, 9, 13]</text>\n<text text-anchor=\"middle\" x=\"991.5\" y=\"-7.8\" font-family=\"Helvetica,sans-Serif\" font-size=\"14.00\">class = ipo</text>\n</g>\n<!-- 14&#45;&gt;15 -->\n<g id=\"edge15\" class=\"edge\">\n<title>14&#45;&gt;15</title>\n<path fill=\"none\" stroke=\"black\" d=\"M993.38,-103.73C993.16,-95.52 992.92,-86.86 992.69,-78.56\"/>\n<polygon fill=\"black\" stroke=\"black\" points=\"996.18,-78.2 992.41,-68.3 989.19,-78.39 996.18,-78.2\"/>\n</g>\n<!-- 16 -->\n<g id=\"node17\" class=\"node\">\n<title>16</title>\n<polygon fill=\"#47e539\" stroke=\"black\" points=\"1215.5,-68 1083.5,-68 1083.5,0 1215.5,0 1215.5,-68\"/>\n<text text-anchor=\"middle\" x=\"1149.5\" y=\"-52.8\" font-family=\"Helvetica,sans-Serif\" font-size=\"14.00\">entropy = 0.0</text>\n<text text-anchor=\"middle\" x=\"1149.5\" y=\"-37.8\" font-family=\"Helvetica,sans-Serif\" font-size=\"14.00\">samples = 22</text>\n<text text-anchor=\"middle\" x=\"1149.5\" y=\"-22.8\" font-family=\"Helvetica,sans-Serif\" font-size=\"14.00\">value = [0, 22, 0, 0]</text>\n<text text-anchor=\"middle\" x=\"1149.5\" y=\"-7.8\" font-family=\"Helvetica,sans-Serif\" font-size=\"14.00\">class = bankrupt</text>\n</g>\n<!-- 14&#45;&gt;16 -->\n<g id=\"edge16\" class=\"edge\">\n<title>14&#45;&gt;16</title>\n<path fill=\"none\" stroke=\"black\" d=\"M1052.22,-103.73C1065.9,-94.06 1080.47,-83.77 1094.05,-74.17\"/>\n<polygon fill=\"black\" stroke=\"black\" points=\"1096.22,-76.93 1102.36,-68.3 1092.18,-71.21 1096.22,-76.93\"/>\n</g>\n<!-- 18 -->\n<g id=\"node19\" class=\"node\">\n<title>18</title>\n<polygon fill=\"#fdf6fe\" stroke=\"black\" points=\"1797,-306 1642,-306 1642,-223 1797,-223 1797,-306\"/>\n<text text-anchor=\"middle\" x=\"1719.5\" y=\"-290.8\" font-family=\"Helvetica,sans-Serif\" font-size=\"14.00\">industry_media &lt;= 0.5</text>\n<text text-anchor=\"middle\" x=\"1719.5\" y=\"-275.8\" font-family=\"Helvetica,sans-Serif\" font-size=\"14.00\">entropy = 1.794</text>\n<text text-anchor=\"middle\" x=\"1719.5\" y=\"-260.8\" font-family=\"Helvetica,sans-Serif\" font-size=\"14.00\">samples = 233</text>\n<text text-anchor=\"middle\" x=\"1719.5\" y=\"-245.8\" font-family=\"Helvetica,sans-Serif\" font-size=\"14.00\">value = [30, 26, 85, 92]</text>\n<text text-anchor=\"middle\" x=\"1719.5\" y=\"-230.8\" font-family=\"Helvetica,sans-Serif\" font-size=\"14.00\">class = ipo</text>\n</g>\n<!-- 17&#45;&gt;18 -->\n<g id=\"edge18\" class=\"edge\">\n<title>17&#45;&gt;18</title>\n<path fill=\"none\" stroke=\"black\" d=\"M1810.93,-341.91C1799.63,-332.47 1787.52,-322.34 1775.92,-312.65\"/>\n<polygon fill=\"black\" stroke=\"black\" points=\"1777.9,-309.75 1767.99,-306.02 1773.42,-315.12 1777.9,-309.75\"/>\n</g>\n<!-- 25 -->\n<g id=\"node26\" class=\"node\">\n<title>25</title>\n<polygon fill=\"#f6fbfe\" stroke=\"black\" points=\"2078.5,-306 1922.5,-306 1922.5,-223 2078.5,-223 2078.5,-306\"/>\n<text text-anchor=\"middle\" x=\"2000.5\" y=\"-290.8\" font-family=\"Helvetica,sans-Serif\" font-size=\"14.00\">pfunding &lt;= 5000000.0</text>\n<text text-anchor=\"middle\" x=\"2000.5\" y=\"-275.8\" font-family=\"Helvetica,sans-Serif\" font-size=\"14.00\">entropy = 1.786</text>\n<text text-anchor=\"middle\" x=\"2000.5\" y=\"-260.8\" font-family=\"Helvetica,sans-Serif\" font-size=\"14.00\">samples = 100</text>\n<text text-anchor=\"middle\" x=\"2000.5\" y=\"-245.8\" font-family=\"Helvetica,sans-Serif\" font-size=\"14.00\">value = [5, 32, 35, 28]</text>\n<text text-anchor=\"middle\" x=\"2000.5\" y=\"-230.8\" font-family=\"Helvetica,sans-Serif\" font-size=\"14.00\">class = soldoff&#45;low</text>\n</g>\n<!-- 17&#45;&gt;25 -->\n<g id=\"edge25\" class=\"edge\">\n<title>17&#45;&gt;25</title>\n<path fill=\"none\" stroke=\"black\" d=\"M1908.42,-341.91C1919.79,-332.47 1932,-322.34 1943.68,-312.65\"/>\n<polygon fill=\"black\" stroke=\"black\" points=\"1946.21,-315.1 1951.67,-306.02 1941.74,-309.71 1946.21,-315.1\"/>\n</g>\n<!-- 19 -->\n<g id=\"node20\" class=\"node\">\n<title>19</title>\n<polygon fill=\"#f8defb\" stroke=\"black\" points=\"1561,-187 1384,-187 1384,-104 1561,-104 1561,-187\"/>\n<text text-anchor=\"middle\" x=\"1472.5\" y=\"-171.8\" font-family=\"Helvetica,sans-Serif\" font-size=\"14.00\">industry_healthcare &lt;= 0.5</text>\n<text text-anchor=\"middle\" x=\"1472.5\" y=\"-156.8\" font-family=\"Helvetica,sans-Serif\" font-size=\"14.00\">entropy = 1.738</text>\n<text text-anchor=\"middle\" x=\"1472.5\" y=\"-141.8\" font-family=\"Helvetica,sans-Serif\" font-size=\"14.00\">samples = 181</text>\n<text text-anchor=\"middle\" x=\"1472.5\" y=\"-126.8\" font-family=\"Helvetica,sans-Serif\" font-size=\"14.00\">value = [17, 22, 61, 81]</text>\n<text text-anchor=\"middle\" x=\"1472.5\" y=\"-111.8\" font-family=\"Helvetica,sans-Serif\" font-size=\"14.00\">class = ipo</text>\n</g>\n<!-- 18&#45;&gt;19 -->\n<g id=\"edge19\" class=\"edge\">\n<title>18&#45;&gt;19</title>\n<path fill=\"none\" stroke=\"black\" d=\"M1641.69,-226.64C1618.11,-215.47 1591.96,-203.08 1567.39,-191.45\"/>\n<polygon fill=\"black\" stroke=\"black\" points=\"1568.6,-188.15 1558.07,-187.03 1565.61,-194.48 1568.6,-188.15\"/>\n</g>\n<!-- 22 -->\n<g id=\"node23\" class=\"node\">\n<title>22</title>\n<polygon fill=\"#c7e3f8\" stroke=\"black\" points=\"1794,-187 1645,-187 1645,-104 1794,-104 1794,-187\"/>\n<text text-anchor=\"middle\" x=\"1719.5\" y=\"-171.8\" font-family=\"Helvetica,sans-Serif\" font-size=\"14.00\">pfunding &lt;= 750000.0</text>\n<text text-anchor=\"middle\" x=\"1719.5\" y=\"-156.8\" font-family=\"Helvetica,sans-Serif\" font-size=\"14.00\">entropy = 1.774</text>\n<text text-anchor=\"middle\" x=\"1719.5\" y=\"-141.8\" font-family=\"Helvetica,sans-Serif\" font-size=\"14.00\">samples = 52</text>\n<text text-anchor=\"middle\" x=\"1719.5\" y=\"-126.8\" font-family=\"Helvetica,sans-Serif\" font-size=\"14.00\">value = [13, 4, 24, 11]</text>\n<text text-anchor=\"middle\" x=\"1719.5\" y=\"-111.8\" font-family=\"Helvetica,sans-Serif\" font-size=\"14.00\">class = soldoff&#45;low</text>\n</g>\n<!-- 18&#45;&gt;22 -->\n<g id=\"edge22\" class=\"edge\">\n<title>18&#45;&gt;22</title>\n<path fill=\"none\" stroke=\"black\" d=\"M1719.5,-222.91C1719.5,-214.65 1719.5,-205.86 1719.5,-197.3\"/>\n<polygon fill=\"black\" stroke=\"black\" points=\"1723,-197.02 1719.5,-187.02 1716,-197.02 1723,-197.02\"/>\n</g>\n<!-- 20 -->\n<g id=\"node21\" class=\"node\">\n<title>20</title>\n<polygon fill=\"#f2bef6\" stroke=\"black\" points=\"1381,-68 1234,-68 1234,0 1381,0 1381,-68\"/>\n<text text-anchor=\"middle\" x=\"1307.5\" y=\"-52.8\" font-family=\"Helvetica,sans-Serif\" font-size=\"14.00\">entropy = 1.587</text>\n<text text-anchor=\"middle\" x=\"1307.5\" y=\"-37.8\" font-family=\"Helvetica,sans-Serif\" font-size=\"14.00\">samples = 96</text>\n<text text-anchor=\"middle\" x=\"1307.5\" y=\"-22.8\" font-family=\"Helvetica,sans-Serif\" font-size=\"14.00\">value = [11, 5, 29, 51]</text>\n<text text-anchor=\"middle\" x=\"1307.5\" y=\"-7.8\" font-family=\"Helvetica,sans-Serif\" font-size=\"14.00\">class = ipo</text>\n</g>\n<!-- 19&#45;&gt;20 -->\n<g id=\"edge20\" class=\"edge\">\n<title>19&#45;&gt;20</title>\n<path fill=\"none\" stroke=\"black\" d=\"M1411.06,-103.73C1396.28,-93.92 1380.53,-83.46 1365.89,-73.75\"/>\n<polygon fill=\"black\" stroke=\"black\" points=\"1367.68,-70.74 1357.41,-68.13 1363.81,-76.57 1367.68,-70.74\"/>\n</g>\n<!-- 21 -->\n<g id=\"node22\" class=\"node\">\n<title>21</title>\n<polygon fill=\"#f8fbfe\" stroke=\"black\" points=\"1546,-68 1399,-68 1399,0 1546,0 1546,-68\"/>\n<text text-anchor=\"middle\" x=\"1472.5\" y=\"-52.8\" font-family=\"Helvetica,sans-Serif\" font-size=\"14.00\">entropy = 1.795</text>\n<text text-anchor=\"middle\" x=\"1472.5\" y=\"-37.8\" font-family=\"Helvetica,sans-Serif\" font-size=\"14.00\">samples = 85</text>\n<text text-anchor=\"middle\" x=\"1472.5\" y=\"-22.8\" font-family=\"Helvetica,sans-Serif\" font-size=\"14.00\">value = [6, 17, 32, 30]</text>\n<text text-anchor=\"middle\" x=\"1472.5\" y=\"-7.8\" font-family=\"Helvetica,sans-Serif\" font-size=\"14.00\">class = soldoff&#45;low</text>\n</g>\n<!-- 19&#45;&gt;21 -->\n<g id=\"edge21\" class=\"edge\">\n<title>19&#45;&gt;21</title>\n<path fill=\"none\" stroke=\"black\" d=\"M1472.5,-103.73C1472.5,-95.52 1472.5,-86.86 1472.5,-78.56\"/>\n<polygon fill=\"black\" stroke=\"black\" points=\"1476,-78.3 1472.5,-68.3 1469,-78.3 1476,-78.3\"/>\n</g>\n<!-- 23 -->\n<g id=\"node24\" class=\"node\">\n<title>23</title>\n<polygon fill=\"#f4c9aa\" stroke=\"black\" points=\"1697,-68 1564,-68 1564,0 1697,0 1697,-68\"/>\n<text text-anchor=\"middle\" x=\"1630.5\" y=\"-52.8\" font-family=\"Helvetica,sans-Serif\" font-size=\"14.00\">entropy = 0.946</text>\n<text text-anchor=\"middle\" x=\"1630.5\" y=\"-37.8\" font-family=\"Helvetica,sans-Serif\" font-size=\"14.00\">samples = 11</text>\n<text text-anchor=\"middle\" x=\"1630.5\" y=\"-22.8\" font-family=\"Helvetica,sans-Serif\" font-size=\"14.00\">value = [7, 0, 4, 0]</text>\n<text text-anchor=\"middle\" x=\"1630.5\" y=\"-7.8\" font-family=\"Helvetica,sans-Serif\" font-size=\"14.00\">class = soldoff&#45;high</text>\n</g>\n<!-- 22&#45;&gt;23 -->\n<g id=\"edge23\" class=\"edge\">\n<title>22&#45;&gt;23</title>\n<path fill=\"none\" stroke=\"black\" d=\"M1686.36,-103.73C1679.02,-94.7 1671.24,-85.12 1663.89,-76.08\"/>\n<polygon fill=\"black\" stroke=\"black\" points=\"1666.59,-73.85 1657.57,-68.3 1661.16,-78.27 1666.59,-73.85\"/>\n</g>\n<!-- 24 -->\n<g id=\"node25\" class=\"node\">\n<title>24</title>\n<polygon fill=\"#c4e2f7\" stroke=\"black\" points=\"1855.5,-68 1715.5,-68 1715.5,0 1855.5,0 1855.5,-68\"/>\n<text text-anchor=\"middle\" x=\"1785.5\" y=\"-52.8\" font-family=\"Helvetica,sans-Serif\" font-size=\"14.00\">entropy = 1.748</text>\n<text text-anchor=\"middle\" x=\"1785.5\" y=\"-37.8\" font-family=\"Helvetica,sans-Serif\" font-size=\"14.00\">samples = 41</text>\n<text text-anchor=\"middle\" x=\"1785.5\" y=\"-22.8\" font-family=\"Helvetica,sans-Serif\" font-size=\"14.00\">value = [6, 4, 20, 11]</text>\n<text text-anchor=\"middle\" x=\"1785.5\" y=\"-7.8\" font-family=\"Helvetica,sans-Serif\" font-size=\"14.00\">class = soldoff&#45;low</text>\n</g>\n<!-- 22&#45;&gt;24 -->\n<g id=\"edge24\" class=\"edge\">\n<title>22&#45;&gt;24</title>\n<path fill=\"none\" stroke=\"black\" d=\"M1744.08,-103.73C1749.35,-94.97 1754.94,-85.7 1760.24,-76.91\"/>\n<polygon fill=\"black\" stroke=\"black\" points=\"1763.26,-78.67 1765.43,-68.3 1757.27,-75.06 1763.26,-78.67\"/>\n</g>\n<!-- 26 -->\n<g id=\"node27\" class=\"node\">\n<title>26</title>\n<polygon fill=\"#e7f3fc\" stroke=\"black\" points=\"2081.5,-187 1919.5,-187 1919.5,-104 2081.5,-104 2081.5,-187\"/>\n<text text-anchor=\"middle\" x=\"2000.5\" y=\"-171.8\" font-family=\"Helvetica,sans-Serif\" font-size=\"14.00\">industry_defense &lt;= 0.5</text>\n<text text-anchor=\"middle\" x=\"2000.5\" y=\"-156.8\" font-family=\"Helvetica,sans-Serif\" font-size=\"14.00\">entropy = 1.524</text>\n<text text-anchor=\"middle\" x=\"2000.5\" y=\"-141.8\" font-family=\"Helvetica,sans-Serif\" font-size=\"14.00\">samples = 67</text>\n<text text-anchor=\"middle\" x=\"2000.5\" y=\"-126.8\" font-family=\"Helvetica,sans-Serif\" font-size=\"14.00\">value = [1, 9, 31, 26]</text>\n<text text-anchor=\"middle\" x=\"2000.5\" y=\"-111.8\" font-family=\"Helvetica,sans-Serif\" font-size=\"14.00\">class = soldoff&#45;low</text>\n</g>\n<!-- 25&#45;&gt;26 -->\n<g id=\"edge26\" class=\"edge\">\n<title>25&#45;&gt;26</title>\n<path fill=\"none\" stroke=\"black\" d=\"M2000.5,-222.91C2000.5,-214.65 2000.5,-205.86 2000.5,-197.3\"/>\n<polygon fill=\"black\" stroke=\"black\" points=\"2004,-197.02 2000.5,-187.02 1997,-197.02 2004,-197.02\"/>\n</g>\n<!-- 29 -->\n<g id=\"node30\" class=\"node\">\n<title>29</title>\n<polygon fill=\"#86ee7d\" stroke=\"black\" points=\"2333,-187 2156,-187 2156,-104 2333,-104 2333,-187\"/>\n<text text-anchor=\"middle\" x=\"2244.5\" y=\"-171.8\" font-family=\"Helvetica,sans-Serif\" font-size=\"14.00\">industry_healthcare &lt;= 0.5</text>\n<text text-anchor=\"middle\" x=\"2244.5\" y=\"-156.8\" font-family=\"Helvetica,sans-Serif\" font-size=\"14.00\">entropy = 1.346</text>\n<text text-anchor=\"middle\" x=\"2244.5\" y=\"-141.8\" font-family=\"Helvetica,sans-Serif\" font-size=\"14.00\">samples = 33</text>\n<text text-anchor=\"middle\" x=\"2244.5\" y=\"-126.8\" font-family=\"Helvetica,sans-Serif\" font-size=\"14.00\">value = [4, 23, 4, 2]</text>\n<text text-anchor=\"middle\" x=\"2244.5\" y=\"-111.8\" font-family=\"Helvetica,sans-Serif\" font-size=\"14.00\">class = bankrupt</text>\n</g>\n<!-- 25&#45;&gt;29 -->\n<g id=\"edge29\" class=\"edge\">\n<title>25&#45;&gt;29</title>\n<path fill=\"none\" stroke=\"black\" d=\"M2078.71,-226C2101.7,-214.97 2127.08,-202.8 2150.93,-191.37\"/>\n<polygon fill=\"black\" stroke=\"black\" points=\"2152.48,-194.5 2159.99,-187.03 2149.46,-188.19 2152.48,-194.5\"/>\n</g>\n<!-- 27 -->\n<g id=\"node28\" class=\"node\">\n<title>27</title>\n<polygon fill=\"#f8dcfa\" stroke=\"black\" points=\"2013.5,-68 1873.5,-68 1873.5,0 2013.5,0 2013.5,-68\"/>\n<text text-anchor=\"middle\" x=\"1943.5\" y=\"-52.8\" font-family=\"Helvetica,sans-Serif\" font-size=\"14.00\">entropy = 1.324</text>\n<text text-anchor=\"middle\" x=\"1943.5\" y=\"-37.8\" font-family=\"Helvetica,sans-Serif\" font-size=\"14.00\">samples = 48</text>\n<text text-anchor=\"middle\" x=\"1943.5\" y=\"-22.8\" font-family=\"Helvetica,sans-Serif\" font-size=\"14.00\">value = [1, 2, 20, 25]</text>\n<text text-anchor=\"middle\" x=\"1943.5\" y=\"-7.8\" font-family=\"Helvetica,sans-Serif\" font-size=\"14.00\">class = ipo</text>\n</g>\n<!-- 26&#45;&gt;27 -->\n<g id=\"edge27\" class=\"edge\">\n<title>26&#45;&gt;27</title>\n<path fill=\"none\" stroke=\"black\" d=\"M1979.28,-103.73C1974.76,-95.06 1969.99,-85.9 1965.46,-77.18\"/>\n<polygon fill=\"black\" stroke=\"black\" points=\"1968.56,-75.55 1960.83,-68.3 1962.35,-78.79 1968.56,-75.55\"/>\n</g>\n<!-- 28 -->\n<g id=\"node29\" class=\"node\">\n<title>28</title>\n<polygon fill=\"#bddef6\" stroke=\"black\" points=\"2163.5,-68 2031.5,-68 2031.5,0 2163.5,0 2163.5,-68\"/>\n<text text-anchor=\"middle\" x=\"2097.5\" y=\"-52.8\" font-family=\"Helvetica,sans-Serif\" font-size=\"14.00\">entropy = 1.211</text>\n<text text-anchor=\"middle\" x=\"2097.5\" y=\"-37.8\" font-family=\"Helvetica,sans-Serif\" font-size=\"14.00\">samples = 19</text>\n<text text-anchor=\"middle\" x=\"2097.5\" y=\"-22.8\" font-family=\"Helvetica,sans-Serif\" font-size=\"14.00\">value = [0, 7, 11, 1]</text>\n<text text-anchor=\"middle\" x=\"2097.5\" y=\"-7.8\" font-family=\"Helvetica,sans-Serif\" font-size=\"14.00\">class = soldoff&#45;low</text>\n</g>\n<!-- 26&#45;&gt;28 -->\n<g id=\"edge28\" class=\"edge\">\n<title>26&#45;&gt;28</title>\n<path fill=\"none\" stroke=\"black\" d=\"M2036.62,-103.73C2044.7,-94.61 2053.27,-84.93 2061.35,-75.81\"/>\n<polygon fill=\"black\" stroke=\"black\" points=\"2063.99,-78.11 2068,-68.3 2058.75,-73.46 2063.99,-78.11\"/>\n</g>\n<!-- 30 -->\n<g id=\"node31\" class=\"node\">\n<title>30</title>\n<polygon fill=\"#e0fbde\" stroke=\"black\" points=\"2307,-68 2182,-68 2182,0 2307,0 2307,-68\"/>\n<text text-anchor=\"middle\" x=\"2244.5\" y=\"-52.8\" font-family=\"Helvetica,sans-Serif\" font-size=\"14.00\">entropy = 1.906</text>\n<text text-anchor=\"middle\" x=\"2244.5\" y=\"-37.8\" font-family=\"Helvetica,sans-Serif\" font-size=\"14.00\">samples = 16</text>\n<text text-anchor=\"middle\" x=\"2244.5\" y=\"-22.8\" font-family=\"Helvetica,sans-Serif\" font-size=\"14.00\">value = [4, 6, 4, 2]</text>\n<text text-anchor=\"middle\" x=\"2244.5\" y=\"-7.8\" font-family=\"Helvetica,sans-Serif\" font-size=\"14.00\">class = bankrupt</text>\n</g>\n<!-- 29&#45;&gt;30 -->\n<g id=\"edge30\" class=\"edge\">\n<title>29&#45;&gt;30</title>\n<path fill=\"none\" stroke=\"black\" d=\"M2244.5,-103.73C2244.5,-95.52 2244.5,-86.86 2244.5,-78.56\"/>\n<polygon fill=\"black\" stroke=\"black\" points=\"2248,-78.3 2244.5,-68.3 2241,-78.3 2248,-78.3\"/>\n</g>\n<!-- 31 -->\n<g id=\"node32\" class=\"node\">\n<title>31</title>\n<polygon fill=\"#47e539\" stroke=\"black\" points=\"2457.5,-68 2325.5,-68 2325.5,0 2457.5,0 2457.5,-68\"/>\n<text text-anchor=\"middle\" x=\"2391.5\" y=\"-52.8\" font-family=\"Helvetica,sans-Serif\" font-size=\"14.00\">entropy = 0.0</text>\n<text text-anchor=\"middle\" x=\"2391.5\" y=\"-37.8\" font-family=\"Helvetica,sans-Serif\" font-size=\"14.00\">samples = 17</text>\n<text text-anchor=\"middle\" x=\"2391.5\" y=\"-22.8\" font-family=\"Helvetica,sans-Serif\" font-size=\"14.00\">value = [0, 17, 0, 0]</text>\n<text text-anchor=\"middle\" x=\"2391.5\" y=\"-7.8\" font-family=\"Helvetica,sans-Serif\" font-size=\"14.00\">class = bankrupt</text>\n</g>\n<!-- 29&#45;&gt;31 -->\n<g id=\"edge31\" class=\"edge\">\n<title>29&#45;&gt;31</title>\n<path fill=\"none\" stroke=\"black\" d=\"M2299.24,-103.73C2312.09,-94.15 2325.77,-83.96 2338.55,-74.44\"/>\n<polygon fill=\"black\" stroke=\"black\" points=\"2340.87,-77.08 2346.8,-68.3 2336.69,-71.47 2340.87,-77.08\"/>\n</g>\n<!-- 33 -->\n<g id=\"node34\" class=\"node\">\n<title>33</title>\n<polygon fill=\"#dfeffb\" stroke=\"black\" points=\"2722,-425 2567,-425 2567,-342 2722,-342 2722,-425\"/>\n<text text-anchor=\"middle\" x=\"2644.5\" y=\"-409.8\" font-family=\"Helvetica,sans-Serif\" font-size=\"14.00\">pfunding &lt;= 950000.0</text>\n<text text-anchor=\"middle\" x=\"2644.5\" y=\"-394.8\" font-family=\"Helvetica,sans-Serif\" font-size=\"14.00\">entropy = 1.789</text>\n<text text-anchor=\"middle\" x=\"2644.5\" y=\"-379.8\" font-family=\"Helvetica,sans-Serif\" font-size=\"14.00\">samples = 201</text>\n<text text-anchor=\"middle\" x=\"2644.5\" y=\"-364.8\" font-family=\"Helvetica,sans-Serif\" font-size=\"14.00\">value = [65, 23, 87, 26]</text>\n<text text-anchor=\"middle\" x=\"2644.5\" y=\"-349.8\" font-family=\"Helvetica,sans-Serif\" font-size=\"14.00\">class = soldoff&#45;low</text>\n</g>\n<!-- 32&#45;&gt;33 -->\n<g id=\"edge33\" class=\"edge\">\n<title>32&#45;&gt;33</title>\n<path fill=\"none\" stroke=\"black\" d=\"M2644.5,-460.91C2644.5,-452.65 2644.5,-443.86 2644.5,-435.3\"/>\n<polygon fill=\"black\" stroke=\"black\" points=\"2648,-435.02 2644.5,-425.02 2641,-435.02 2648,-435.02\"/>\n</g>\n<!-- 46 -->\n<g id=\"node47\" class=\"node\">\n<title>46</title>\n<polygon fill=\"#eeae80\" stroke=\"black\" points=\"2880.5,-417.5 2740.5,-417.5 2740.5,-349.5 2880.5,-349.5 2880.5,-417.5\"/>\n<text text-anchor=\"middle\" x=\"2810.5\" y=\"-402.3\" font-family=\"Helvetica,sans-Serif\" font-size=\"14.00\">entropy = 1.053</text>\n<text text-anchor=\"middle\" x=\"2810.5\" y=\"-387.3\" font-family=\"Helvetica,sans-Serif\" font-size=\"14.00\">samples = 90</text>\n<text text-anchor=\"middle\" x=\"2810.5\" y=\"-372.3\" font-family=\"Helvetica,sans-Serif\" font-size=\"14.00\">value = [65, 5, 20, 0]</text>\n<text text-anchor=\"middle\" x=\"2810.5\" y=\"-357.3\" font-family=\"Helvetica,sans-Serif\" font-size=\"14.00\">class = soldoff&#45;high</text>\n</g>\n<!-- 32&#45;&gt;46 -->\n<g id=\"edge46\" class=\"edge\">\n<title>32&#45;&gt;46</title>\n<path fill=\"none\" stroke=\"black\" d=\"M2702.09,-460.91C2719.31,-448.77 2738.15,-435.49 2755.22,-423.46\"/>\n<polygon fill=\"black\" stroke=\"black\" points=\"2757.29,-426.29 2763.44,-417.67 2753.25,-420.57 2757.29,-426.29\"/>\n</g>\n<!-- 34 -->\n<g id=\"node35\" class=\"node\">\n<title>34</title>\n<polygon fill=\"#f0b489\" stroke=\"black\" points=\"2714.5,-306 2574.5,-306 2574.5,-223 2714.5,-223 2714.5,-306\"/>\n<text text-anchor=\"middle\" x=\"2644.5\" y=\"-290.8\" font-family=\"Helvetica,sans-Serif\" font-size=\"14.00\">elites &lt;= 7.5</text>\n<text text-anchor=\"middle\" x=\"2644.5\" y=\"-275.8\" font-family=\"Helvetica,sans-Serif\" font-size=\"14.00\">entropy = 1.366</text>\n<text text-anchor=\"middle\" x=\"2644.5\" y=\"-260.8\" font-family=\"Helvetica,sans-Serif\" font-size=\"14.00\">samples = 58</text>\n<text text-anchor=\"middle\" x=\"2644.5\" y=\"-245.8\" font-family=\"Helvetica,sans-Serif\" font-size=\"14.00\">value = [39, 5, 3, 11]</text>\n<text text-anchor=\"middle\" x=\"2644.5\" y=\"-230.8\" font-family=\"Helvetica,sans-Serif\" font-size=\"14.00\">class = soldoff&#45;high</text>\n</g>\n<!-- 33&#45;&gt;34 -->\n<g id=\"edge34\" class=\"edge\">\n<title>33&#45;&gt;34</title>\n<path fill=\"none\" stroke=\"black\" d=\"M2644.5,-341.91C2644.5,-333.65 2644.5,-324.86 2644.5,-316.3\"/>\n<polygon fill=\"black\" stroke=\"black\" points=\"2648,-316.02 2644.5,-306.02 2641,-316.02 2648,-316.02\"/>\n</g>\n<!-- 39 -->\n<g id=\"node40\" class=\"node\">\n<title>39</title>\n<polygon fill=\"#9dcef2\" stroke=\"black\" points=\"2988,-306 2833,-306 2833,-223 2988,-223 2988,-306\"/>\n<text text-anchor=\"middle\" x=\"2910.5\" y=\"-290.8\" font-family=\"Helvetica,sans-Serif\" font-size=\"14.00\">elites &lt;= 4.5</text>\n<text text-anchor=\"middle\" x=\"2910.5\" y=\"-275.8\" font-family=\"Helvetica,sans-Serif\" font-size=\"14.00\">entropy = 1.616</text>\n<text text-anchor=\"middle\" x=\"2910.5\" y=\"-260.8\" font-family=\"Helvetica,sans-Serif\" font-size=\"14.00\">samples = 143</text>\n<text text-anchor=\"middle\" x=\"2910.5\" y=\"-245.8\" font-family=\"Helvetica,sans-Serif\" font-size=\"14.00\">value = [26, 18, 84, 15]</text>\n<text text-anchor=\"middle\" x=\"2910.5\" y=\"-230.8\" font-family=\"Helvetica,sans-Serif\" font-size=\"14.00\">class = soldoff&#45;low</text>\n</g>\n<!-- 33&#45;&gt;39 -->\n<g id=\"edge39\" class=\"edge\">\n<title>33&#45;&gt;39</title>\n<path fill=\"none\" stroke=\"black\" d=\"M2722.23,-346.17C2725.36,-344.75 2728.46,-343.36 2731.5,-342 2761.3,-328.7 2794.08,-314.55 2823.36,-302.09\"/>\n<polygon fill=\"black\" stroke=\"black\" points=\"2824.9,-305.23 2832.73,-298.1 2822.16,-298.79 2824.9,-305.23\"/>\n</g>\n<!-- 35 -->\n<g id=\"node36\" class=\"node\">\n<title>35</title>\n<polygon fill=\"#eda672\" stroke=\"black\" points=\"2636,-187 2503,-187 2503,-104 2636,-104 2636,-187\"/>\n<text text-anchor=\"middle\" x=\"2569.5\" y=\"-171.8\" font-family=\"Helvetica,sans-Serif\" font-size=\"14.00\">smember &lt;= 0.5</text>\n<text text-anchor=\"middle\" x=\"2569.5\" y=\"-156.8\" font-family=\"Helvetica,sans-Serif\" font-size=\"14.00\">entropy = 1.149</text>\n<text text-anchor=\"middle\" x=\"2569.5\" y=\"-141.8\" font-family=\"Helvetica,sans-Serif\" font-size=\"14.00\">samples = 36</text>\n<text text-anchor=\"middle\" x=\"2569.5\" y=\"-126.8\" font-family=\"Helvetica,sans-Serif\" font-size=\"14.00\">value = [27, 1, 3, 5]</text>\n<text text-anchor=\"middle\" x=\"2569.5\" y=\"-111.8\" font-family=\"Helvetica,sans-Serif\" font-size=\"14.00\">class = soldoff&#45;high</text>\n</g>\n<!-- 34&#45;&gt;35 -->\n<g id=\"edge35\" class=\"edge\">\n<title>34&#45;&gt;35</title>\n<path fill=\"none\" stroke=\"black\" d=\"M2618.48,-222.91C2612.84,-214.1 2606.81,-204.7 2600.98,-195.61\"/>\n<polygon fill=\"black\" stroke=\"black\" points=\"2603.82,-193.55 2595.47,-187.02 2597.93,-197.33 2603.82,-193.55\"/>\n</g>\n<!-- 38 -->\n<g id=\"node39\" class=\"node\">\n<title>38</title>\n<polygon fill=\"#f5d0b5\" stroke=\"black\" points=\"2787,-179.5 2654,-179.5 2654,-111.5 2787,-111.5 2787,-179.5\"/>\n<text text-anchor=\"middle\" x=\"2720.5\" y=\"-164.3\" font-family=\"Helvetica,sans-Serif\" font-size=\"14.00\">entropy = 1.435</text>\n<text text-anchor=\"middle\" x=\"2720.5\" y=\"-149.3\" font-family=\"Helvetica,sans-Serif\" font-size=\"14.00\">samples = 22</text>\n<text text-anchor=\"middle\" x=\"2720.5\" y=\"-134.3\" font-family=\"Helvetica,sans-Serif\" font-size=\"14.00\">value = [12, 4, 0, 6]</text>\n<text text-anchor=\"middle\" x=\"2720.5\" y=\"-119.3\" font-family=\"Helvetica,sans-Serif\" font-size=\"14.00\">class = soldoff&#45;high</text>\n</g>\n<!-- 34&#45;&gt;38 -->\n<g id=\"edge38\" class=\"edge\">\n<title>34&#45;&gt;38</title>\n<path fill=\"none\" stroke=\"black\" d=\"M2670.87,-222.91C2678.18,-211.65 2686.13,-199.42 2693.47,-188.11\"/>\n<polygon fill=\"black\" stroke=\"black\" points=\"2696.44,-189.96 2698.96,-179.67 2690.57,-186.15 2696.44,-189.96\"/>\n</g>\n<!-- 36 -->\n<g id=\"node37\" class=\"node\">\n<title>36</title>\n<polygon fill=\"#eead7e\" stroke=\"black\" points=\"2609,-68 2476,-68 2476,0 2609,0 2609,-68\"/>\n<text text-anchor=\"middle\" x=\"2542.5\" y=\"-52.8\" font-family=\"Helvetica,sans-Serif\" font-size=\"14.00\">entropy = 1.136</text>\n<text text-anchor=\"middle\" x=\"2542.5\" y=\"-37.8\" font-family=\"Helvetica,sans-Serif\" font-size=\"14.00\">samples = 28</text>\n<text text-anchor=\"middle\" x=\"2542.5\" y=\"-22.8\" font-family=\"Helvetica,sans-Serif\" font-size=\"14.00\">value = [20, 0, 3, 5]</text>\n<text text-anchor=\"middle\" x=\"2542.5\" y=\"-7.8\" font-family=\"Helvetica,sans-Serif\" font-size=\"14.00\">class = soldoff&#45;high</text>\n</g>\n<!-- 35&#45;&gt;36 -->\n<g id=\"edge36\" class=\"edge\">\n<title>35&#45;&gt;36</title>\n<path fill=\"none\" stroke=\"black\" d=\"M2559.45,-103.73C2557.4,-95.43 2555.24,-86.67 2553.17,-78.28\"/>\n<polygon fill=\"black\" stroke=\"black\" points=\"2556.5,-77.17 2550.71,-68.3 2549.71,-78.85 2556.5,-77.17\"/>\n</g>\n<!-- 37 -->\n<g id=\"node38\" class=\"node\">\n<title>37</title>\n<polygon fill=\"#e99355\" stroke=\"black\" points=\"2760,-68 2627,-68 2627,0 2760,0 2760,-68\"/>\n<text text-anchor=\"middle\" x=\"2693.5\" y=\"-52.8\" font-family=\"Helvetica,sans-Serif\" font-size=\"14.00\">entropy = 0.544</text>\n<text text-anchor=\"middle\" x=\"2693.5\" y=\"-37.8\" font-family=\"Helvetica,sans-Serif\" font-size=\"14.00\">samples = 8</text>\n<text text-anchor=\"middle\" x=\"2693.5\" y=\"-22.8\" font-family=\"Helvetica,sans-Serif\" font-size=\"14.00\">value = [7, 1, 0, 0]</text>\n<text text-anchor=\"middle\" x=\"2693.5\" y=\"-7.8\" font-family=\"Helvetica,sans-Serif\" font-size=\"14.00\">class = soldoff&#45;high</text>\n</g>\n<!-- 35&#45;&gt;37 -->\n<g id=\"edge37\" class=\"edge\">\n<title>35&#45;&gt;37</title>\n<path fill=\"none\" stroke=\"black\" d=\"M2615.67,-103.73C2626.31,-94.33 2637.62,-84.35 2648.22,-74.99\"/>\n<polygon fill=\"black\" stroke=\"black\" points=\"2650.61,-77.54 2655.79,-68.3 2645.98,-72.3 2650.61,-77.54\"/>\n</g>\n<!-- 40 -->\n<g id=\"node41\" class=\"node\">\n<title>40</title>\n<polygon fill=\"#6eb7ec\" stroke=\"black\" points=\"2988.5,-187 2832.5,-187 2832.5,-104 2988.5,-104 2988.5,-187\"/>\n<text text-anchor=\"middle\" x=\"2910.5\" y=\"-171.8\" font-family=\"Helvetica,sans-Serif\" font-size=\"14.00\">pfunding &lt;= 1650000.0</text>\n<text text-anchor=\"middle\" x=\"2910.5\" y=\"-156.8\" font-family=\"Helvetica,sans-Serif\" font-size=\"14.00\">entropy = 1.118</text>\n<text text-anchor=\"middle\" x=\"2910.5\" y=\"-141.8\" font-family=\"Helvetica,sans-Serif\" font-size=\"14.00\">samples = 34</text>\n<text text-anchor=\"middle\" x=\"2910.5\" y=\"-126.8\" font-family=\"Helvetica,sans-Serif\" font-size=\"14.00\">value = [3, 1, 26, 4]</text>\n<text text-anchor=\"middle\" x=\"2910.5\" y=\"-111.8\" font-family=\"Helvetica,sans-Serif\" font-size=\"14.00\">class = soldoff&#45;low</text>\n</g>\n<!-- 39&#45;&gt;40 -->\n<g id=\"edge40\" class=\"edge\">\n<title>39&#45;&gt;40</title>\n<path fill=\"none\" stroke=\"black\" d=\"M2910.5,-222.91C2910.5,-214.65 2910.5,-205.86 2910.5,-197.3\"/>\n<polygon fill=\"black\" stroke=\"black\" points=\"2914,-197.02 2910.5,-187.02 2907,-197.02 2914,-197.02\"/>\n</g>\n<!-- 43 -->\n<g id=\"node44\" class=\"node\">\n<title>43</title>\n<polygon fill=\"#aed7f4\" stroke=\"black\" points=\"3216.5,-187 3060.5,-187 3060.5,-104 3216.5,-104 3216.5,-187\"/>\n<text text-anchor=\"middle\" x=\"3138.5\" y=\"-171.8\" font-family=\"Helvetica,sans-Serif\" font-size=\"14.00\">pfunding &lt;= 1250000.0</text>\n<text text-anchor=\"middle\" x=\"3138.5\" y=\"-156.8\" font-family=\"Helvetica,sans-Serif\" font-size=\"14.00\">entropy = 1.71</text>\n<text text-anchor=\"middle\" x=\"3138.5\" y=\"-141.8\" font-family=\"Helvetica,sans-Serif\" font-size=\"14.00\">samples = 109</text>\n<text text-anchor=\"middle\" x=\"3138.5\" y=\"-126.8\" font-family=\"Helvetica,sans-Serif\" font-size=\"14.00\">value = [23, 17, 58, 11]</text>\n<text text-anchor=\"middle\" x=\"3138.5\" y=\"-111.8\" font-family=\"Helvetica,sans-Serif\" font-size=\"14.00\">class = soldoff&#45;low</text>\n</g>\n<!-- 39&#45;&gt;43 -->\n<g id=\"edge43\" class=\"edge\">\n<title>39&#45;&gt;43</title>\n<path fill=\"none\" stroke=\"black\" d=\"M2988.01,-223.73C3008.36,-213.28 3030.45,-201.95 3051.28,-191.26\"/>\n<polygon fill=\"black\" stroke=\"black\" points=\"3053.13,-194.24 3060.43,-186.56 3049.94,-188.01 3053.13,-194.24\"/>\n</g>\n<!-- 41 -->\n<g id=\"node42\" class=\"node\">\n<title>41</title>\n<polygon fill=\"#cee6f8\" stroke=\"black\" points=\"2906.5,-68 2778.5,-68 2778.5,0 2906.5,0 2906.5,-68\"/>\n<text text-anchor=\"middle\" x=\"2842.5\" y=\"-52.8\" font-family=\"Helvetica,sans-Serif\" font-size=\"14.00\">entropy = 1.459</text>\n<text text-anchor=\"middle\" x=\"2842.5\" y=\"-37.8\" font-family=\"Helvetica,sans-Serif\" font-size=\"14.00\">samples = 6</text>\n<text text-anchor=\"middle\" x=\"2842.5\" y=\"-22.8\" font-family=\"Helvetica,sans-Serif\" font-size=\"14.00\">value = [2, 1, 3, 0]</text>\n<text text-anchor=\"middle\" x=\"2842.5\" y=\"-7.8\" font-family=\"Helvetica,sans-Serif\" font-size=\"14.00\">class = soldoff&#45;low</text>\n</g>\n<!-- 40&#45;&gt;41 -->\n<g id=\"edge41\" class=\"edge\">\n<title>40&#45;&gt;41</title>\n<path fill=\"none\" stroke=\"black\" d=\"M2885.18,-103.73C2879.74,-94.97 2873.99,-85.7 2868.52,-76.91\"/>\n<polygon fill=\"black\" stroke=\"black\" points=\"2871.43,-74.95 2863.18,-68.3 2865.48,-78.64 2871.43,-74.95\"/>\n</g>\n<!-- 42 -->\n<g id=\"node43\" class=\"node\">\n<title>42</title>\n<polygon fill=\"#62b1ea\" stroke=\"black\" points=\"3056.5,-68 2924.5,-68 2924.5,0 3056.5,0 3056.5,-68\"/>\n<text text-anchor=\"middle\" x=\"2990.5\" y=\"-52.8\" font-family=\"Helvetica,sans-Serif\" font-size=\"14.00\">entropy = 0.806</text>\n<text text-anchor=\"middle\" x=\"2990.5\" y=\"-37.8\" font-family=\"Helvetica,sans-Serif\" font-size=\"14.00\">samples = 28</text>\n<text text-anchor=\"middle\" x=\"2990.5\" y=\"-22.8\" font-family=\"Helvetica,sans-Serif\" font-size=\"14.00\">value = [1, 0, 23, 4]</text>\n<text text-anchor=\"middle\" x=\"2990.5\" y=\"-7.8\" font-family=\"Helvetica,sans-Serif\" font-size=\"14.00\">class = soldoff&#45;low</text>\n</g>\n<!-- 40&#45;&gt;42 -->\n<g id=\"edge42\" class=\"edge\">\n<title>40&#45;&gt;42</title>\n<path fill=\"none\" stroke=\"black\" d=\"M2940.29,-103.73C2946.75,-94.88 2953.6,-85.51 2960.09,-76.63\"/>\n<polygon fill=\"black\" stroke=\"black\" points=\"2963.1,-78.44 2966.17,-68.3 2957.45,-74.31 2963.1,-78.44\"/>\n</g>\n<!-- 44 -->\n<g id=\"node45\" class=\"node\">\n<title>44</title>\n<polygon fill=\"#cee6f8\" stroke=\"black\" points=\"3202.5,-68 3074.5,-68 3074.5,0 3202.5,0 3202.5,-68\"/>\n<text text-anchor=\"middle\" x=\"3138.5\" y=\"-52.8\" font-family=\"Helvetica,sans-Serif\" font-size=\"14.00\">entropy = 1.459</text>\n<text text-anchor=\"middle\" x=\"3138.5\" y=\"-37.8\" font-family=\"Helvetica,sans-Serif\" font-size=\"14.00\">samples = 12</text>\n<text text-anchor=\"middle\" x=\"3138.5\" y=\"-22.8\" font-family=\"Helvetica,sans-Serif\" font-size=\"14.00\">value = [0, 4, 6, 2]</text>\n<text text-anchor=\"middle\" x=\"3138.5\" y=\"-7.8\" font-family=\"Helvetica,sans-Serif\" font-size=\"14.00\">class = soldoff&#45;low</text>\n</g>\n<!-- 43&#45;&gt;44 -->\n<g id=\"edge44\" class=\"edge\">\n<title>43&#45;&gt;44</title>\n<path fill=\"none\" stroke=\"black\" d=\"M3138.5,-103.73C3138.5,-95.52 3138.5,-86.86 3138.5,-78.56\"/>\n<polygon fill=\"black\" stroke=\"black\" points=\"3142,-78.3 3138.5,-68.3 3135,-78.3 3142,-78.3\"/>\n</g>\n<!-- 45 -->\n<g id=\"node46\" class=\"node\">\n<title>45</title>\n<polygon fill=\"#b1d9f5\" stroke=\"black\" points=\"3368,-68 3221,-68 3221,0 3368,0 3368,-68\"/>\n<text text-anchor=\"middle\" x=\"3294.5\" y=\"-52.8\" font-family=\"Helvetica,sans-Serif\" font-size=\"14.00\">entropy = 1.681</text>\n<text text-anchor=\"middle\" x=\"3294.5\" y=\"-37.8\" font-family=\"Helvetica,sans-Serif\" font-size=\"14.00\">samples = 97</text>\n<text text-anchor=\"middle\" x=\"3294.5\" y=\"-22.8\" font-family=\"Helvetica,sans-Serif\" font-size=\"14.00\">value = [23, 13, 52, 9]</text>\n<text text-anchor=\"middle\" x=\"3294.5\" y=\"-7.8\" font-family=\"Helvetica,sans-Serif\" font-size=\"14.00\">class = soldoff&#45;low</text>\n</g>\n<!-- 43&#45;&gt;45 -->\n<g id=\"edge45\" class=\"edge\">\n<title>43&#45;&gt;45</title>\n<path fill=\"none\" stroke=\"black\" d=\"M3196.59,-103.73C3210.36,-94.06 3225.02,-83.77 3238.69,-74.17\"/>\n<polygon fill=\"black\" stroke=\"black\" points=\"3240.89,-76.91 3247.06,-68.3 3236.86,-71.18 3240.89,-76.91\"/>\n</g>\n</g>\n</svg>\n",
            "text/plain": [
              "<graphviz.sources.Source at 0x7c4c1ba82da0>"
            ]
          },
          "metadata": {},
          "execution_count": 29
        }
      ]
    },
    {
      "cell_type": "markdown",
      "source": [
        "# Q5\n",
        "\n",
        "**Arcturus has $11.5 million to invest and is considering from among 23 applicant firms. Create a Decision Trees model using your most accurate model (i.e., whichever model from Model 1-4 has the highest accuracy percentage), then apply the model as necessary to make predictions regarding the applicant firms.**\n",
        "\n",
        "**Data regarding these applicant firms can be found in the `fund-applicants.csv` data file. Note that there is no “outcome” column (the outcome hasn’t happened yet!).**\n",
        "\n",
        "**However, there is an `amount` column, which indicates the requested funding amount. Arcturus wants to make as much money as possible by investing its \\$11.5 million, which may require this amount be spread across multiple companies. However, for any specific applicant company, Arcturus must either invest the full requested amount or not at all (e.g., if a company has requested $2,500,000, then Arcturus must either invest \\$2,500,000 or make no investment in the company).**\n",
        "\n",
        "**Begin by importing the `fund-applicant.csv` file, then apply your best model to this new data (after taking any required preprocessing steps).**\n"
      ],
      "metadata": {
        "id": "9-5BKgd5e9sR"
      }
    },
    {
      "cell_type": "code",
      "source": [
        "# replace with code to import fund-applicants.csv dataset\n",
        "df_2 = pd.read_csv('/content/fund-applicants.csv')\n",
        "# replace with code to produce heading\n",
        "df_2.head()"
      ],
      "metadata": {
        "id": "6wdDlWEBg59s",
        "colab": {
          "base_uri": "https://localhost:8080/",
          "height": 206
        },
        "outputId": "941fc1aa-5957-4bdf-de50-f1b66ce1539e"
      },
      "execution_count": 30,
      "outputs": [
        {
          "output_type": "execute_result",
          "data": {
            "text/plain": [
              "   id    industry  months  pfunding  patents  smember  elites   amount\n",
              "0   1        tech      36   6800000        1        0       4  4000000\n",
              "1   2       media      23   6300000        0        1       3  1700000\n",
              "2   3  healthcare      27   6100000        0        1       0  3000000\n",
              "3   4     defense      33   2800000        1        0       0  1000000\n",
              "4   5     defense      39   5600000        1        0       2  5000000"
            ],
            "text/html": [
              "\n",
              "\n",
              "  <div id=\"df-5a81ac8f-2518-498b-a577-fc375571c5af\">\n",
              "    <div class=\"colab-df-container\">\n",
              "      <div>\n",
              "<style scoped>\n",
              "    .dataframe tbody tr th:only-of-type {\n",
              "        vertical-align: middle;\n",
              "    }\n",
              "\n",
              "    .dataframe tbody tr th {\n",
              "        vertical-align: top;\n",
              "    }\n",
              "\n",
              "    .dataframe thead th {\n",
              "        text-align: right;\n",
              "    }\n",
              "</style>\n",
              "<table border=\"1\" class=\"dataframe\">\n",
              "  <thead>\n",
              "    <tr style=\"text-align: right;\">\n",
              "      <th></th>\n",
              "      <th>id</th>\n",
              "      <th>industry</th>\n",
              "      <th>months</th>\n",
              "      <th>pfunding</th>\n",
              "      <th>patents</th>\n",
              "      <th>smember</th>\n",
              "      <th>elites</th>\n",
              "      <th>amount</th>\n",
              "    </tr>\n",
              "  </thead>\n",
              "  <tbody>\n",
              "    <tr>\n",
              "      <th>0</th>\n",
              "      <td>1</td>\n",
              "      <td>tech</td>\n",
              "      <td>36</td>\n",
              "      <td>6800000</td>\n",
              "      <td>1</td>\n",
              "      <td>0</td>\n",
              "      <td>4</td>\n",
              "      <td>4000000</td>\n",
              "    </tr>\n",
              "    <tr>\n",
              "      <th>1</th>\n",
              "      <td>2</td>\n",
              "      <td>media</td>\n",
              "      <td>23</td>\n",
              "      <td>6300000</td>\n",
              "      <td>0</td>\n",
              "      <td>1</td>\n",
              "      <td>3</td>\n",
              "      <td>1700000</td>\n",
              "    </tr>\n",
              "    <tr>\n",
              "      <th>2</th>\n",
              "      <td>3</td>\n",
              "      <td>healthcare</td>\n",
              "      <td>27</td>\n",
              "      <td>6100000</td>\n",
              "      <td>0</td>\n",
              "      <td>1</td>\n",
              "      <td>0</td>\n",
              "      <td>3000000</td>\n",
              "    </tr>\n",
              "    <tr>\n",
              "      <th>3</th>\n",
              "      <td>4</td>\n",
              "      <td>defense</td>\n",
              "      <td>33</td>\n",
              "      <td>2800000</td>\n",
              "      <td>1</td>\n",
              "      <td>0</td>\n",
              "      <td>0</td>\n",
              "      <td>1000000</td>\n",
              "    </tr>\n",
              "    <tr>\n",
              "      <th>4</th>\n",
              "      <td>5</td>\n",
              "      <td>defense</td>\n",
              "      <td>39</td>\n",
              "      <td>5600000</td>\n",
              "      <td>1</td>\n",
              "      <td>0</td>\n",
              "      <td>2</td>\n",
              "      <td>5000000</td>\n",
              "    </tr>\n",
              "  </tbody>\n",
              "</table>\n",
              "</div>\n",
              "      <button class=\"colab-df-convert\" onclick=\"convertToInteractive('df-5a81ac8f-2518-498b-a577-fc375571c5af')\"\n",
              "              title=\"Convert this dataframe to an interactive table.\"\n",
              "              style=\"display:none;\">\n",
              "\n",
              "  <svg xmlns=\"http://www.w3.org/2000/svg\" height=\"24px\"viewBox=\"0 0 24 24\"\n",
              "       width=\"24px\">\n",
              "    <path d=\"M0 0h24v24H0V0z\" fill=\"none\"/>\n",
              "    <path d=\"M18.56 5.44l.94 2.06.94-2.06 2.06-.94-2.06-.94-.94-2.06-.94 2.06-2.06.94zm-11 1L8.5 8.5l.94-2.06 2.06-.94-2.06-.94L8.5 2.5l-.94 2.06-2.06.94zm10 10l.94 2.06.94-2.06 2.06-.94-2.06-.94-.94-2.06-.94 2.06-2.06.94z\"/><path d=\"M17.41 7.96l-1.37-1.37c-.4-.4-.92-.59-1.43-.59-.52 0-1.04.2-1.43.59L10.3 9.45l-7.72 7.72c-.78.78-.78 2.05 0 2.83L4 21.41c.39.39.9.59 1.41.59.51 0 1.02-.2 1.41-.59l7.78-7.78 2.81-2.81c.8-.78.8-2.07 0-2.86zM5.41 20L4 18.59l7.72-7.72 1.47 1.35L5.41 20z\"/>\n",
              "  </svg>\n",
              "      </button>\n",
              "\n",
              "\n",
              "\n",
              "    <div id=\"df-a336fea2-e2f2-4964-9d2c-9a4682db9836\">\n",
              "      <button class=\"colab-df-quickchart\" onclick=\"quickchart('df-a336fea2-e2f2-4964-9d2c-9a4682db9836')\"\n",
              "              title=\"Suggest charts.\"\n",
              "              style=\"display:none;\">\n",
              "\n",
              "<svg xmlns=\"http://www.w3.org/2000/svg\" height=\"24px\"viewBox=\"0 0 24 24\"\n",
              "     width=\"24px\">\n",
              "    <g>\n",
              "        <path d=\"M19 3H5c-1.1 0-2 .9-2 2v14c0 1.1.9 2 2 2h14c1.1 0 2-.9 2-2V5c0-1.1-.9-2-2-2zM9 17H7v-7h2v7zm4 0h-2V7h2v10zm4 0h-2v-4h2v4z\"/>\n",
              "    </g>\n",
              "</svg>\n",
              "      </button>\n",
              "    </div>\n",
              "\n",
              "<style>\n",
              "  .colab-df-quickchart {\n",
              "    background-color: #E8F0FE;\n",
              "    border: none;\n",
              "    border-radius: 50%;\n",
              "    cursor: pointer;\n",
              "    display: none;\n",
              "    fill: #1967D2;\n",
              "    height: 32px;\n",
              "    padding: 0 0 0 0;\n",
              "    width: 32px;\n",
              "  }\n",
              "\n",
              "  .colab-df-quickchart:hover {\n",
              "    background-color: #E2EBFA;\n",
              "    box-shadow: 0px 1px 2px rgba(60, 64, 67, 0.3), 0px 1px 3px 1px rgba(60, 64, 67, 0.15);\n",
              "    fill: #174EA6;\n",
              "  }\n",
              "\n",
              "  [theme=dark] .colab-df-quickchart {\n",
              "    background-color: #3B4455;\n",
              "    fill: #D2E3FC;\n",
              "  }\n",
              "\n",
              "  [theme=dark] .colab-df-quickchart:hover {\n",
              "    background-color: #434B5C;\n",
              "    box-shadow: 0px 1px 3px 1px rgba(0, 0, 0, 0.15);\n",
              "    filter: drop-shadow(0px 1px 2px rgba(0, 0, 0, 0.3));\n",
              "    fill: #FFFFFF;\n",
              "  }\n",
              "</style>\n",
              "\n",
              "    <script>\n",
              "      async function quickchart(key) {\n",
              "        const containerElement = document.querySelector('#' + key);\n",
              "        const charts = await google.colab.kernel.invokeFunction(\n",
              "            'suggestCharts', [key], {});\n",
              "      }\n",
              "    </script>\n",
              "\n",
              "      <script>\n",
              "\n",
              "function displayQuickchartButton(domScope) {\n",
              "  let quickchartButtonEl =\n",
              "    domScope.querySelector('#df-a336fea2-e2f2-4964-9d2c-9a4682db9836 button.colab-df-quickchart');\n",
              "  quickchartButtonEl.style.display =\n",
              "    google.colab.kernel.accessAllowed ? 'block' : 'none';\n",
              "}\n",
              "\n",
              "        displayQuickchartButton(document);\n",
              "      </script>\n",
              "      <style>\n",
              "    .colab-df-container {\n",
              "      display:flex;\n",
              "      flex-wrap:wrap;\n",
              "      gap: 12px;\n",
              "    }\n",
              "\n",
              "    .colab-df-convert {\n",
              "      background-color: #E8F0FE;\n",
              "      border: none;\n",
              "      border-radius: 50%;\n",
              "      cursor: pointer;\n",
              "      display: none;\n",
              "      fill: #1967D2;\n",
              "      height: 32px;\n",
              "      padding: 0 0 0 0;\n",
              "      width: 32px;\n",
              "    }\n",
              "\n",
              "    .colab-df-convert:hover {\n",
              "      background-color: #E2EBFA;\n",
              "      box-shadow: 0px 1px 2px rgba(60, 64, 67, 0.3), 0px 1px 3px 1px rgba(60, 64, 67, 0.15);\n",
              "      fill: #174EA6;\n",
              "    }\n",
              "\n",
              "    [theme=dark] .colab-df-convert {\n",
              "      background-color: #3B4455;\n",
              "      fill: #D2E3FC;\n",
              "    }\n",
              "\n",
              "    [theme=dark] .colab-df-convert:hover {\n",
              "      background-color: #434B5C;\n",
              "      box-shadow: 0px 1px 3px 1px rgba(0, 0, 0, 0.15);\n",
              "      filter: drop-shadow(0px 1px 2px rgba(0, 0, 0, 0.3));\n",
              "      fill: #FFFFFF;\n",
              "    }\n",
              "  </style>\n",
              "\n",
              "      <script>\n",
              "        const buttonEl =\n",
              "          document.querySelector('#df-5a81ac8f-2518-498b-a577-fc375571c5af button.colab-df-convert');\n",
              "        buttonEl.style.display =\n",
              "          google.colab.kernel.accessAllowed ? 'block' : 'none';\n",
              "\n",
              "        async function convertToInteractive(key) {\n",
              "          const element = document.querySelector('#df-5a81ac8f-2518-498b-a577-fc375571c5af');\n",
              "          const dataTable =\n",
              "            await google.colab.kernel.invokeFunction('convertToInteractive',\n",
              "                                                     [key], {});\n",
              "          if (!dataTable) return;\n",
              "\n",
              "          const docLinkHtml = 'Like what you see? Visit the ' +\n",
              "            '<a target=\"_blank\" href=https://colab.research.google.com/notebooks/data_table.ipynb>data table notebook</a>'\n",
              "            + ' to learn more about interactive tables.';\n",
              "          element.innerHTML = '';\n",
              "          dataTable['output_type'] = 'display_data';\n",
              "          await google.colab.output.renderOutput(dataTable, element);\n",
              "          const docLink = document.createElement('div');\n",
              "          docLink.innerHTML = docLinkHtml;\n",
              "          element.appendChild(docLink);\n",
              "        }\n",
              "      </script>\n",
              "    </div>\n",
              "  </div>\n"
            ]
          },
          "metadata": {},
          "execution_count": 30
        }
      ]
    },
    {
      "cell_type": "code",
      "source": [
        "# replace with code to select IVs to include in analysis, assign to object called 'x'\n",
        "x = df_2.drop(['id', 'amount'], axis = 1)\n",
        "# replace with code to dummy code categorical variables\n",
        "x = pd.get_dummies(data = x, drop_first = False)"
      ],
      "metadata": {
        "id": "C5iydLj4hDik"
      },
      "execution_count": 38,
      "outputs": []
    },
    {
      "cell_type": "markdown",
      "source": [
        "## A\n",
        "\n",
        "**In addition to producing the predicted outcomes, also compute the predicted probabilities of the outcome using the `model.predict_proba()` function.**\n",
        "\n",
        "**Add both the predicted outcome and the predicted probability as columns to the your dataframe.**"
      ],
      "metadata": {
        "id": "ORzTzbO9l3og"
      }
    },
    {
      "cell_type": "code",
      "source": [
        "# replace with code to fit final model to x, assign to object called 'predictions'\n",
        "model = model_2\n",
        "predictions = model.predict(x)\n",
        "# replace with code to produce predicted probabilities of outcome classes, assign to object called 'proba'\n",
        "proba = np.max(model.predict_proba(x), axis = 1)"
      ],
      "metadata": {
        "id": "DCcLF2ZqhQrE"
      },
      "execution_count": 39,
      "outputs": []
    },
    {
      "cell_type": "code",
      "source": [
        "# replace with code to assign predictions to a new column in new df (dataset you just imported) called 'Predicted_Class'\n",
        "df_2['Predicted_Class'] = predictions\n",
        "# replace with code to assign proba to a new column in new df (dataset you just imported) called 'Predicted_Prob'\n",
        "df_2['Predicted_Prob'] = proba\n",
        "df_2"
      ],
      "metadata": {
        "id": "bbcFG76Ph8C7",
        "colab": {
          "base_uri": "https://localhost:8080/",
          "height": 771
        },
        "outputId": "7ab9baf7-ece0-466d-e172-c2325e8f719b"
      },
      "execution_count": 40,
      "outputs": [
        {
          "output_type": "execute_result",
          "data": {
            "text/plain": [
              "    id    industry  months  pfunding  patents  smember  elites   amount  \\\n",
              "0    1        tech      36   6800000        1        0       4  4000000   \n",
              "1    2       media      23   6300000        0        1       3  1700000   \n",
              "2    3  healthcare      27   6100000        0        1       0  3000000   \n",
              "3    4     defense      33   2800000        1        0       0  1000000   \n",
              "4    5     defense      39   5600000        1        0       2  5000000   \n",
              "5    6        tech      18   3500000        0        0       8  2500000   \n",
              "6    7        tech      24   4800000        0        1       6  4000000   \n",
              "7    8     defense      30   3900000        0        0       1  1200000   \n",
              "8    9       media      41   7800000        0        0       5  3500000   \n",
              "9   10     defense      21   7900000        0        0       3  4000000   \n",
              "10  11     defense      33   4600000        0        0       3  1500000   \n",
              "11  12        tech      33   7000000        1        1      10  3500000   \n",
              "12  13     defense      33   7200000        0        0       5  3600000   \n",
              "13  14  healthcare      32   2500000        1        0       2  2000000   \n",
              "14  15        tech      38   3200000        1        0       7  1800000   \n",
              "15  16        tech      20    500000        1        0       4  1000000   \n",
              "16  17  healthcare      32   2400000        0        0       6  1500000   \n",
              "17  18  healthcare      31   4700000        0        0       4  4000000   \n",
              "18  19  healthcare      37   5000000        0        0       0  1500000   \n",
              "19  20     defense      20   4000000        0        1       0  2000000   \n",
              "20  21  healthcare      37   7500000        0        1       7  5000000   \n",
              "21  22       media      26   4700000        1        1       0  2500000   \n",
              "22  23        tech      23   6500000        0        0      10  4000000   \n",
              "\n",
              "   Predicted_Class  Predicted_Prob  \n",
              "0         bankrupt        0.722222  \n",
              "1     soldoff-high        0.648148  \n",
              "2      soldoff-low        0.288889  \n",
              "3      soldoff-low        0.531250  \n",
              "4      soldoff-low        0.531250  \n",
              "5     soldoff-high        0.536082  \n",
              "6     soldoff-high        0.536082  \n",
              "7         bankrupt        0.523364  \n",
              "8         bankrupt        0.636364  \n",
              "9         bankrupt        0.523364  \n",
              "10        bankrupt        0.523364  \n",
              "11        bankrupt        0.722222  \n",
              "12        bankrupt        0.523364  \n",
              "13    soldoff-high        0.376471  \n",
              "14    soldoff-high        0.536082  \n",
              "15        bankrupt        0.714286  \n",
              "16        bankrupt        0.487179  \n",
              "17        bankrupt        0.487179  \n",
              "18     soldoff-low        0.288889  \n",
              "19        bankrupt        0.523364  \n",
              "20             ipo        1.000000  \n",
              "21    soldoff-high        0.487805  \n",
              "22        bankrupt        0.722222  "
            ],
            "text/html": [
              "\n",
              "\n",
              "  <div id=\"df-fdd3fc30-8099-4b0a-889a-7bd57898e525\">\n",
              "    <div class=\"colab-df-container\">\n",
              "      <div>\n",
              "<style scoped>\n",
              "    .dataframe tbody tr th:only-of-type {\n",
              "        vertical-align: middle;\n",
              "    }\n",
              "\n",
              "    .dataframe tbody tr th {\n",
              "        vertical-align: top;\n",
              "    }\n",
              "\n",
              "    .dataframe thead th {\n",
              "        text-align: right;\n",
              "    }\n",
              "</style>\n",
              "<table border=\"1\" class=\"dataframe\">\n",
              "  <thead>\n",
              "    <tr style=\"text-align: right;\">\n",
              "      <th></th>\n",
              "      <th>id</th>\n",
              "      <th>industry</th>\n",
              "      <th>months</th>\n",
              "      <th>pfunding</th>\n",
              "      <th>patents</th>\n",
              "      <th>smember</th>\n",
              "      <th>elites</th>\n",
              "      <th>amount</th>\n",
              "      <th>Predicted_Class</th>\n",
              "      <th>Predicted_Prob</th>\n",
              "    </tr>\n",
              "  </thead>\n",
              "  <tbody>\n",
              "    <tr>\n",
              "      <th>0</th>\n",
              "      <td>1</td>\n",
              "      <td>tech</td>\n",
              "      <td>36</td>\n",
              "      <td>6800000</td>\n",
              "      <td>1</td>\n",
              "      <td>0</td>\n",
              "      <td>4</td>\n",
              "      <td>4000000</td>\n",
              "      <td>bankrupt</td>\n",
              "      <td>0.722222</td>\n",
              "    </tr>\n",
              "    <tr>\n",
              "      <th>1</th>\n",
              "      <td>2</td>\n",
              "      <td>media</td>\n",
              "      <td>23</td>\n",
              "      <td>6300000</td>\n",
              "      <td>0</td>\n",
              "      <td>1</td>\n",
              "      <td>3</td>\n",
              "      <td>1700000</td>\n",
              "      <td>soldoff-high</td>\n",
              "      <td>0.648148</td>\n",
              "    </tr>\n",
              "    <tr>\n",
              "      <th>2</th>\n",
              "      <td>3</td>\n",
              "      <td>healthcare</td>\n",
              "      <td>27</td>\n",
              "      <td>6100000</td>\n",
              "      <td>0</td>\n",
              "      <td>1</td>\n",
              "      <td>0</td>\n",
              "      <td>3000000</td>\n",
              "      <td>soldoff-low</td>\n",
              "      <td>0.288889</td>\n",
              "    </tr>\n",
              "    <tr>\n",
              "      <th>3</th>\n",
              "      <td>4</td>\n",
              "      <td>defense</td>\n",
              "      <td>33</td>\n",
              "      <td>2800000</td>\n",
              "      <td>1</td>\n",
              "      <td>0</td>\n",
              "      <td>0</td>\n",
              "      <td>1000000</td>\n",
              "      <td>soldoff-low</td>\n",
              "      <td>0.531250</td>\n",
              "    </tr>\n",
              "    <tr>\n",
              "      <th>4</th>\n",
              "      <td>5</td>\n",
              "      <td>defense</td>\n",
              "      <td>39</td>\n",
              "      <td>5600000</td>\n",
              "      <td>1</td>\n",
              "      <td>0</td>\n",
              "      <td>2</td>\n",
              "      <td>5000000</td>\n",
              "      <td>soldoff-low</td>\n",
              "      <td>0.531250</td>\n",
              "    </tr>\n",
              "    <tr>\n",
              "      <th>5</th>\n",
              "      <td>6</td>\n",
              "      <td>tech</td>\n",
              "      <td>18</td>\n",
              "      <td>3500000</td>\n",
              "      <td>0</td>\n",
              "      <td>0</td>\n",
              "      <td>8</td>\n",
              "      <td>2500000</td>\n",
              "      <td>soldoff-high</td>\n",
              "      <td>0.536082</td>\n",
              "    </tr>\n",
              "    <tr>\n",
              "      <th>6</th>\n",
              "      <td>7</td>\n",
              "      <td>tech</td>\n",
              "      <td>24</td>\n",
              "      <td>4800000</td>\n",
              "      <td>0</td>\n",
              "      <td>1</td>\n",
              "      <td>6</td>\n",
              "      <td>4000000</td>\n",
              "      <td>soldoff-high</td>\n",
              "      <td>0.536082</td>\n",
              "    </tr>\n",
              "    <tr>\n",
              "      <th>7</th>\n",
              "      <td>8</td>\n",
              "      <td>defense</td>\n",
              "      <td>30</td>\n",
              "      <td>3900000</td>\n",
              "      <td>0</td>\n",
              "      <td>0</td>\n",
              "      <td>1</td>\n",
              "      <td>1200000</td>\n",
              "      <td>bankrupt</td>\n",
              "      <td>0.523364</td>\n",
              "    </tr>\n",
              "    <tr>\n",
              "      <th>8</th>\n",
              "      <td>9</td>\n",
              "      <td>media</td>\n",
              "      <td>41</td>\n",
              "      <td>7800000</td>\n",
              "      <td>0</td>\n",
              "      <td>0</td>\n",
              "      <td>5</td>\n",
              "      <td>3500000</td>\n",
              "      <td>bankrupt</td>\n",
              "      <td>0.636364</td>\n",
              "    </tr>\n",
              "    <tr>\n",
              "      <th>9</th>\n",
              "      <td>10</td>\n",
              "      <td>defense</td>\n",
              "      <td>21</td>\n",
              "      <td>7900000</td>\n",
              "      <td>0</td>\n",
              "      <td>0</td>\n",
              "      <td>3</td>\n",
              "      <td>4000000</td>\n",
              "      <td>bankrupt</td>\n",
              "      <td>0.523364</td>\n",
              "    </tr>\n",
              "    <tr>\n",
              "      <th>10</th>\n",
              "      <td>11</td>\n",
              "      <td>defense</td>\n",
              "      <td>33</td>\n",
              "      <td>4600000</td>\n",
              "      <td>0</td>\n",
              "      <td>0</td>\n",
              "      <td>3</td>\n",
              "      <td>1500000</td>\n",
              "      <td>bankrupt</td>\n",
              "      <td>0.523364</td>\n",
              "    </tr>\n",
              "    <tr>\n",
              "      <th>11</th>\n",
              "      <td>12</td>\n",
              "      <td>tech</td>\n",
              "      <td>33</td>\n",
              "      <td>7000000</td>\n",
              "      <td>1</td>\n",
              "      <td>1</td>\n",
              "      <td>10</td>\n",
              "      <td>3500000</td>\n",
              "      <td>bankrupt</td>\n",
              "      <td>0.722222</td>\n",
              "    </tr>\n",
              "    <tr>\n",
              "      <th>12</th>\n",
              "      <td>13</td>\n",
              "      <td>defense</td>\n",
              "      <td>33</td>\n",
              "      <td>7200000</td>\n",
              "      <td>0</td>\n",
              "      <td>0</td>\n",
              "      <td>5</td>\n",
              "      <td>3600000</td>\n",
              "      <td>bankrupt</td>\n",
              "      <td>0.523364</td>\n",
              "    </tr>\n",
              "    <tr>\n",
              "      <th>13</th>\n",
              "      <td>14</td>\n",
              "      <td>healthcare</td>\n",
              "      <td>32</td>\n",
              "      <td>2500000</td>\n",
              "      <td>1</td>\n",
              "      <td>0</td>\n",
              "      <td>2</td>\n",
              "      <td>2000000</td>\n",
              "      <td>soldoff-high</td>\n",
              "      <td>0.376471</td>\n",
              "    </tr>\n",
              "    <tr>\n",
              "      <th>14</th>\n",
              "      <td>15</td>\n",
              "      <td>tech</td>\n",
              "      <td>38</td>\n",
              "      <td>3200000</td>\n",
              "      <td>1</td>\n",
              "      <td>0</td>\n",
              "      <td>7</td>\n",
              "      <td>1800000</td>\n",
              "      <td>soldoff-high</td>\n",
              "      <td>0.536082</td>\n",
              "    </tr>\n",
              "    <tr>\n",
              "      <th>15</th>\n",
              "      <td>16</td>\n",
              "      <td>tech</td>\n",
              "      <td>20</td>\n",
              "      <td>500000</td>\n",
              "      <td>1</td>\n",
              "      <td>0</td>\n",
              "      <td>4</td>\n",
              "      <td>1000000</td>\n",
              "      <td>bankrupt</td>\n",
              "      <td>0.714286</td>\n",
              "    </tr>\n",
              "    <tr>\n",
              "      <th>16</th>\n",
              "      <td>17</td>\n",
              "      <td>healthcare</td>\n",
              "      <td>32</td>\n",
              "      <td>2400000</td>\n",
              "      <td>0</td>\n",
              "      <td>0</td>\n",
              "      <td>6</td>\n",
              "      <td>1500000</td>\n",
              "      <td>bankrupt</td>\n",
              "      <td>0.487179</td>\n",
              "    </tr>\n",
              "    <tr>\n",
              "      <th>17</th>\n",
              "      <td>18</td>\n",
              "      <td>healthcare</td>\n",
              "      <td>31</td>\n",
              "      <td>4700000</td>\n",
              "      <td>0</td>\n",
              "      <td>0</td>\n",
              "      <td>4</td>\n",
              "      <td>4000000</td>\n",
              "      <td>bankrupt</td>\n",
              "      <td>0.487179</td>\n",
              "    </tr>\n",
              "    <tr>\n",
              "      <th>18</th>\n",
              "      <td>19</td>\n",
              "      <td>healthcare</td>\n",
              "      <td>37</td>\n",
              "      <td>5000000</td>\n",
              "      <td>0</td>\n",
              "      <td>0</td>\n",
              "      <td>0</td>\n",
              "      <td>1500000</td>\n",
              "      <td>soldoff-low</td>\n",
              "      <td>0.288889</td>\n",
              "    </tr>\n",
              "    <tr>\n",
              "      <th>19</th>\n",
              "      <td>20</td>\n",
              "      <td>defense</td>\n",
              "      <td>20</td>\n",
              "      <td>4000000</td>\n",
              "      <td>0</td>\n",
              "      <td>1</td>\n",
              "      <td>0</td>\n",
              "      <td>2000000</td>\n",
              "      <td>bankrupt</td>\n",
              "      <td>0.523364</td>\n",
              "    </tr>\n",
              "    <tr>\n",
              "      <th>20</th>\n",
              "      <td>21</td>\n",
              "      <td>healthcare</td>\n",
              "      <td>37</td>\n",
              "      <td>7500000</td>\n",
              "      <td>0</td>\n",
              "      <td>1</td>\n",
              "      <td>7</td>\n",
              "      <td>5000000</td>\n",
              "      <td>ipo</td>\n",
              "      <td>1.000000</td>\n",
              "    </tr>\n",
              "    <tr>\n",
              "      <th>21</th>\n",
              "      <td>22</td>\n",
              "      <td>media</td>\n",
              "      <td>26</td>\n",
              "      <td>4700000</td>\n",
              "      <td>1</td>\n",
              "      <td>1</td>\n",
              "      <td>0</td>\n",
              "      <td>2500000</td>\n",
              "      <td>soldoff-high</td>\n",
              "      <td>0.487805</td>\n",
              "    </tr>\n",
              "    <tr>\n",
              "      <th>22</th>\n",
              "      <td>23</td>\n",
              "      <td>tech</td>\n",
              "      <td>23</td>\n",
              "      <td>6500000</td>\n",
              "      <td>0</td>\n",
              "      <td>0</td>\n",
              "      <td>10</td>\n",
              "      <td>4000000</td>\n",
              "      <td>bankrupt</td>\n",
              "      <td>0.722222</td>\n",
              "    </tr>\n",
              "  </tbody>\n",
              "</table>\n",
              "</div>\n",
              "      <button class=\"colab-df-convert\" onclick=\"convertToInteractive('df-fdd3fc30-8099-4b0a-889a-7bd57898e525')\"\n",
              "              title=\"Convert this dataframe to an interactive table.\"\n",
              "              style=\"display:none;\">\n",
              "\n",
              "  <svg xmlns=\"http://www.w3.org/2000/svg\" height=\"24px\"viewBox=\"0 0 24 24\"\n",
              "       width=\"24px\">\n",
              "    <path d=\"M0 0h24v24H0V0z\" fill=\"none\"/>\n",
              "    <path d=\"M18.56 5.44l.94 2.06.94-2.06 2.06-.94-2.06-.94-.94-2.06-.94 2.06-2.06.94zm-11 1L8.5 8.5l.94-2.06 2.06-.94-2.06-.94L8.5 2.5l-.94 2.06-2.06.94zm10 10l.94 2.06.94-2.06 2.06-.94-2.06-.94-.94-2.06-.94 2.06-2.06.94z\"/><path d=\"M17.41 7.96l-1.37-1.37c-.4-.4-.92-.59-1.43-.59-.52 0-1.04.2-1.43.59L10.3 9.45l-7.72 7.72c-.78.78-.78 2.05 0 2.83L4 21.41c.39.39.9.59 1.41.59.51 0 1.02-.2 1.41-.59l7.78-7.78 2.81-2.81c.8-.78.8-2.07 0-2.86zM5.41 20L4 18.59l7.72-7.72 1.47 1.35L5.41 20z\"/>\n",
              "  </svg>\n",
              "      </button>\n",
              "\n",
              "\n",
              "\n",
              "    <div id=\"df-c8924302-508c-4edf-a524-bcfeebaf9b96\">\n",
              "      <button class=\"colab-df-quickchart\" onclick=\"quickchart('df-c8924302-508c-4edf-a524-bcfeebaf9b96')\"\n",
              "              title=\"Suggest charts.\"\n",
              "              style=\"display:none;\">\n",
              "\n",
              "<svg xmlns=\"http://www.w3.org/2000/svg\" height=\"24px\"viewBox=\"0 0 24 24\"\n",
              "     width=\"24px\">\n",
              "    <g>\n",
              "        <path d=\"M19 3H5c-1.1 0-2 .9-2 2v14c0 1.1.9 2 2 2h14c1.1 0 2-.9 2-2V5c0-1.1-.9-2-2-2zM9 17H7v-7h2v7zm4 0h-2V7h2v10zm4 0h-2v-4h2v4z\"/>\n",
              "    </g>\n",
              "</svg>\n",
              "      </button>\n",
              "    </div>\n",
              "\n",
              "<style>\n",
              "  .colab-df-quickchart {\n",
              "    background-color: #E8F0FE;\n",
              "    border: none;\n",
              "    border-radius: 50%;\n",
              "    cursor: pointer;\n",
              "    display: none;\n",
              "    fill: #1967D2;\n",
              "    height: 32px;\n",
              "    padding: 0 0 0 0;\n",
              "    width: 32px;\n",
              "  }\n",
              "\n",
              "  .colab-df-quickchart:hover {\n",
              "    background-color: #E2EBFA;\n",
              "    box-shadow: 0px 1px 2px rgba(60, 64, 67, 0.3), 0px 1px 3px 1px rgba(60, 64, 67, 0.15);\n",
              "    fill: #174EA6;\n",
              "  }\n",
              "\n",
              "  [theme=dark] .colab-df-quickchart {\n",
              "    background-color: #3B4455;\n",
              "    fill: #D2E3FC;\n",
              "  }\n",
              "\n",
              "  [theme=dark] .colab-df-quickchart:hover {\n",
              "    background-color: #434B5C;\n",
              "    box-shadow: 0px 1px 3px 1px rgba(0, 0, 0, 0.15);\n",
              "    filter: drop-shadow(0px 1px 2px rgba(0, 0, 0, 0.3));\n",
              "    fill: #FFFFFF;\n",
              "  }\n",
              "</style>\n",
              "\n",
              "    <script>\n",
              "      async function quickchart(key) {\n",
              "        const containerElement = document.querySelector('#' + key);\n",
              "        const charts = await google.colab.kernel.invokeFunction(\n",
              "            'suggestCharts', [key], {});\n",
              "      }\n",
              "    </script>\n",
              "\n",
              "      <script>\n",
              "\n",
              "function displayQuickchartButton(domScope) {\n",
              "  let quickchartButtonEl =\n",
              "    domScope.querySelector('#df-c8924302-508c-4edf-a524-bcfeebaf9b96 button.colab-df-quickchart');\n",
              "  quickchartButtonEl.style.display =\n",
              "    google.colab.kernel.accessAllowed ? 'block' : 'none';\n",
              "}\n",
              "\n",
              "        displayQuickchartButton(document);\n",
              "      </script>\n",
              "      <style>\n",
              "    .colab-df-container {\n",
              "      display:flex;\n",
              "      flex-wrap:wrap;\n",
              "      gap: 12px;\n",
              "    }\n",
              "\n",
              "    .colab-df-convert {\n",
              "      background-color: #E8F0FE;\n",
              "      border: none;\n",
              "      border-radius: 50%;\n",
              "      cursor: pointer;\n",
              "      display: none;\n",
              "      fill: #1967D2;\n",
              "      height: 32px;\n",
              "      padding: 0 0 0 0;\n",
              "      width: 32px;\n",
              "    }\n",
              "\n",
              "    .colab-df-convert:hover {\n",
              "      background-color: #E2EBFA;\n",
              "      box-shadow: 0px 1px 2px rgba(60, 64, 67, 0.3), 0px 1px 3px 1px rgba(60, 64, 67, 0.15);\n",
              "      fill: #174EA6;\n",
              "    }\n",
              "\n",
              "    [theme=dark] .colab-df-convert {\n",
              "      background-color: #3B4455;\n",
              "      fill: #D2E3FC;\n",
              "    }\n",
              "\n",
              "    [theme=dark] .colab-df-convert:hover {\n",
              "      background-color: #434B5C;\n",
              "      box-shadow: 0px 1px 3px 1px rgba(0, 0, 0, 0.15);\n",
              "      filter: drop-shadow(0px 1px 2px rgba(0, 0, 0, 0.3));\n",
              "      fill: #FFFFFF;\n",
              "    }\n",
              "  </style>\n",
              "\n",
              "      <script>\n",
              "        const buttonEl =\n",
              "          document.querySelector('#df-fdd3fc30-8099-4b0a-889a-7bd57898e525 button.colab-df-convert');\n",
              "        buttonEl.style.display =\n",
              "          google.colab.kernel.accessAllowed ? 'block' : 'none';\n",
              "\n",
              "        async function convertToInteractive(key) {\n",
              "          const element = document.querySelector('#df-fdd3fc30-8099-4b0a-889a-7bd57898e525');\n",
              "          const dataTable =\n",
              "            await google.colab.kernel.invokeFunction('convertToInteractive',\n",
              "                                                     [key], {});\n",
              "          if (!dataTable) return;\n",
              "\n",
              "          const docLinkHtml = 'Like what you see? Visit the ' +\n",
              "            '<a target=\"_blank\" href=https://colab.research.google.com/notebooks/data_table.ipynb>data table notebook</a>'\n",
              "            + ' to learn more about interactive tables.';\n",
              "          element.innerHTML = '';\n",
              "          dataTable['output_type'] = 'display_data';\n",
              "          await google.colab.output.renderOutput(dataTable, element);\n",
              "          const docLink = document.createElement('div');\n",
              "          docLink.innerHTML = docLinkHtml;\n",
              "          element.appendChild(docLink);\n",
              "        }\n",
              "      </script>\n",
              "    </div>\n",
              "  </div>\n"
            ]
          },
          "metadata": {},
          "execution_count": 40
        }
      ]
    },
    {
      "cell_type": "markdown",
      "source": [
        "## B\n",
        "\n",
        "**Describe what the predicted probabilities colum indicates (i.e., what do those values mean?). Are these probabilities based on the training or the test set?**"
      ],
      "metadata": {
        "id": "cWiAEabIlxF2"
      }
    },
    {
      "cell_type": "markdown",
      "source": [
        "The predicted probablities column indicates the probablity of the predicted outcome to be true. These are based on the test set."
      ],
      "metadata": {
        "id": "iCV2WcoYmpmE"
      }
    },
    {
      "cell_type": "markdown",
      "source": [
        "## C\n",
        "\n",
        "**Using the info provided from the predicted probabilities and predicted outcomes, indicate the companies' project IDs that Arcturus should invest in if, for the sake of diversification, they wanted to invest their \\$11.5 million in one project in each of the four industries: media, tech, healthcare, and defense.**\n",
        "\n",
        "**Give the IDs of the projects and explain why you’d recommend each project.**"
      ],
      "metadata": {
        "id": "_ycg2f3Tm0pt"
      }
    },
    {
      "cell_type": "markdown",
      "source": [
        "* **Healthcare:** ID: 21, this investment is the best on the list, it is almost a guaranteed payoff, with a probability of 1 and its outcome is ipo. If possible I would do multiple investments in this company\n",
        "\n",
        "* **Defense:** ID: 4, I do not recommend investing in any defense company as they all result in soldoff-low or bankruptcy. But if there had to be an investment in defense it would be this company due to its low investment amount.\n",
        "\n",
        "* **Media:** ID: 2, this investment is the best investment in media as it has a relatively low buy in and a high probability of a high pay off. If possible I would do multiple investments in this company.\n",
        "\n",
        "* **Tech:** ID: 15, this investment would be the best investment in tech as almost all tech companies that have a high pay off have a probablity that is close to random chance so it would be smart to choose a smaller investment in these companies."
      ],
      "metadata": {
        "id": "4ZowaFZvnJHF"
      }
    }
  ]
}