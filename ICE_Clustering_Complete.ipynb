{
  "cells": [
    {
      "cell_type": "markdown",
      "source": [
        "# **DATA 3300**\n",
        "## **ICE - Clustering Analysis**"
      ],
      "metadata": {
        "id": "zwdpv2lXqjCk"
      },
      "id": "zwdpv2lXqjCk"
    },
    {
      "cell_type": "markdown",
      "id": "331cd519",
      "metadata": {
        "id": "331cd519"
      },
      "source": [
        "# Name: Rhett Jorgensen\n",
        "## Exercise:"
      ]
    },
    {
      "cell_type": "markdown",
      "id": "b7a6fca6",
      "metadata": {
        "id": "b7a6fca6"
      },
      "source": [
        "### Q1\n",
        "**Load the required packages and then import the dataset**"
      ]
    },
    {
      "cell_type": "code",
      "source": [
        "!pip install kneed # this library doesn't come pre-loaded with Google Colab, so let's install it (if using Google Colab) - \n",
        "\n",
        "# if using Jupyter Notebooks, you can install a library from the terminal (as referenced in the Module 4 ICE video) using `pip install kneed`"
      ],
      "metadata": {
        "id": "8RphrGth9d1l",
        "colab": {
          "base_uri": "https://localhost:8080/"
        },
        "outputId": "05eac45e-cb04-42c8-8a5e-04e35f911d52"
      },
      "id": "8RphrGth9d1l",
      "execution_count": 1,
      "outputs": [
        {
          "output_type": "stream",
          "name": "stdout",
          "text": [
            "Looking in indexes: https://pypi.org/simple, https://us-python.pkg.dev/colab-wheels/public/simple/\n",
            "Collecting kneed\n",
            "  Downloading kneed-0.8.3-py3-none-any.whl (10 kB)\n",
            "Requirement already satisfied: numpy>=1.14.2 in /usr/local/lib/python3.10/dist-packages (from kneed) (1.22.4)\n",
            "Requirement already satisfied: scipy>=1.0.0 in /usr/local/lib/python3.10/dist-packages (from kneed) (1.10.1)\n",
            "Installing collected packages: kneed\n",
            "Successfully installed kneed-0.8.3\n"
          ]
        }
      ]
    },
    {
      "cell_type": "code",
      "execution_count": 2,
      "id": "17eb2121",
      "metadata": {
        "id": "17eb2121"
      },
      "outputs": [],
      "source": [
        "import matplotlib.pyplot as plt \n",
        "import pandas as pd\n",
        "import numpy as np\n",
        "from kneed import KneeLocator\n",
        "import sklearn.cluster\n",
        "from sklearn.cluster import KMeans\n",
        "from sklearn.metrics import silhouette_score\n",
        "from sklearn.preprocessing import StandardScaler"
      ]
    },
    {
      "cell_type": "code",
      "execution_count": 3,
      "id": "3b659c7f",
      "metadata": {
        "id": "3b659c7f",
        "colab": {
          "base_uri": "https://localhost:8080/",
          "height": 250
        },
        "outputId": "b2defb38-551e-4adf-f1c7-47706ae16394"
      },
      "outputs": [
        {
          "output_type": "execute_result",
          "data": {
            "text/plain": [
              "  Symbol                      Name                  Sector   Price  \\\n",
              "0      A  Agilent Technologies Inc             Health Care   51.21   \n",
              "1    AAL   American Airlines Group             Industrials   44.84   \n",
              "2    AAP        Advance Auto Parts  Consumer Discretionary  151.99   \n",
              "3   AAPL                Apple Inc.  Information Technology  139.52   \n",
              "4   ABBV                    AbbVie             Health Care   63.69   \n",
              "\n",
              "   Dividend Yield  Price/Earnings  Earnings/Share  Book Value  52 week low  \\\n",
              "0            1.02           32.85            1.56       13.35        37.62   \n",
              "1            0.85            9.32            4.81        7.46        24.85   \n",
              "2            0.15           24.51            6.20       39.66       132.98   \n",
              "3            1.63           16.75            8.33       25.19        89.47   \n",
              "4            4.04           17.55            3.63        2.91        54.41   \n",
              "\n",
              "   52 week high  Market Cap  EBITDA  Price/Sales  Price/Book  \n",
              "0         52.26       16.49   0.942         3.89        3.84  \n",
              "1         50.64       22.61   7.830         0.57        6.07  \n",
              "2        177.83       11.18   1.120         1.19        3.89  \n",
              "3        140.28      732.00  69.750         3.35        5.53  \n",
              "4         68.12      101.52  10.950         3.95       21.83  "
            ],
            "text/html": [
              "\n",
              "  <div id=\"df-7f37c159-558e-4e11-b341-9ea4d76d4ced\">\n",
              "    <div class=\"colab-df-container\">\n",
              "      <div>\n",
              "<style scoped>\n",
              "    .dataframe tbody tr th:only-of-type {\n",
              "        vertical-align: middle;\n",
              "    }\n",
              "\n",
              "    .dataframe tbody tr th {\n",
              "        vertical-align: top;\n",
              "    }\n",
              "\n",
              "    .dataframe thead th {\n",
              "        text-align: right;\n",
              "    }\n",
              "</style>\n",
              "<table border=\"1\" class=\"dataframe\">\n",
              "  <thead>\n",
              "    <tr style=\"text-align: right;\">\n",
              "      <th></th>\n",
              "      <th>Symbol</th>\n",
              "      <th>Name</th>\n",
              "      <th>Sector</th>\n",
              "      <th>Price</th>\n",
              "      <th>Dividend Yield</th>\n",
              "      <th>Price/Earnings</th>\n",
              "      <th>Earnings/Share</th>\n",
              "      <th>Book Value</th>\n",
              "      <th>52 week low</th>\n",
              "      <th>52 week high</th>\n",
              "      <th>Market Cap</th>\n",
              "      <th>EBITDA</th>\n",
              "      <th>Price/Sales</th>\n",
              "      <th>Price/Book</th>\n",
              "    </tr>\n",
              "  </thead>\n",
              "  <tbody>\n",
              "    <tr>\n",
              "      <th>0</th>\n",
              "      <td>A</td>\n",
              "      <td>Agilent Technologies Inc</td>\n",
              "      <td>Health Care</td>\n",
              "      <td>51.21</td>\n",
              "      <td>1.02</td>\n",
              "      <td>32.85</td>\n",
              "      <td>1.56</td>\n",
              "      <td>13.35</td>\n",
              "      <td>37.62</td>\n",
              "      <td>52.26</td>\n",
              "      <td>16.49</td>\n",
              "      <td>0.942</td>\n",
              "      <td>3.89</td>\n",
              "      <td>3.84</td>\n",
              "    </tr>\n",
              "    <tr>\n",
              "      <th>1</th>\n",
              "      <td>AAL</td>\n",
              "      <td>American Airlines Group</td>\n",
              "      <td>Industrials</td>\n",
              "      <td>44.84</td>\n",
              "      <td>0.85</td>\n",
              "      <td>9.32</td>\n",
              "      <td>4.81</td>\n",
              "      <td>7.46</td>\n",
              "      <td>24.85</td>\n",
              "      <td>50.64</td>\n",
              "      <td>22.61</td>\n",
              "      <td>7.830</td>\n",
              "      <td>0.57</td>\n",
              "      <td>6.07</td>\n",
              "    </tr>\n",
              "    <tr>\n",
              "      <th>2</th>\n",
              "      <td>AAP</td>\n",
              "      <td>Advance Auto Parts</td>\n",
              "      <td>Consumer Discretionary</td>\n",
              "      <td>151.99</td>\n",
              "      <td>0.15</td>\n",
              "      <td>24.51</td>\n",
              "      <td>6.20</td>\n",
              "      <td>39.66</td>\n",
              "      <td>132.98</td>\n",
              "      <td>177.83</td>\n",
              "      <td>11.18</td>\n",
              "      <td>1.120</td>\n",
              "      <td>1.19</td>\n",
              "      <td>3.89</td>\n",
              "    </tr>\n",
              "    <tr>\n",
              "      <th>3</th>\n",
              "      <td>AAPL</td>\n",
              "      <td>Apple Inc.</td>\n",
              "      <td>Information Technology</td>\n",
              "      <td>139.52</td>\n",
              "      <td>1.63</td>\n",
              "      <td>16.75</td>\n",
              "      <td>8.33</td>\n",
              "      <td>25.19</td>\n",
              "      <td>89.47</td>\n",
              "      <td>140.28</td>\n",
              "      <td>732.00</td>\n",
              "      <td>69.750</td>\n",
              "      <td>3.35</td>\n",
              "      <td>5.53</td>\n",
              "    </tr>\n",
              "    <tr>\n",
              "      <th>4</th>\n",
              "      <td>ABBV</td>\n",
              "      <td>AbbVie</td>\n",
              "      <td>Health Care</td>\n",
              "      <td>63.69</td>\n",
              "      <td>4.04</td>\n",
              "      <td>17.55</td>\n",
              "      <td>3.63</td>\n",
              "      <td>2.91</td>\n",
              "      <td>54.41</td>\n",
              "      <td>68.12</td>\n",
              "      <td>101.52</td>\n",
              "      <td>10.950</td>\n",
              "      <td>3.95</td>\n",
              "      <td>21.83</td>\n",
              "    </tr>\n",
              "  </tbody>\n",
              "</table>\n",
              "</div>\n",
              "      <button class=\"colab-df-convert\" onclick=\"convertToInteractive('df-7f37c159-558e-4e11-b341-9ea4d76d4ced')\"\n",
              "              title=\"Convert this dataframe to an interactive table.\"\n",
              "              style=\"display:none;\">\n",
              "        \n",
              "  <svg xmlns=\"http://www.w3.org/2000/svg\" height=\"24px\"viewBox=\"0 0 24 24\"\n",
              "       width=\"24px\">\n",
              "    <path d=\"M0 0h24v24H0V0z\" fill=\"none\"/>\n",
              "    <path d=\"M18.56 5.44l.94 2.06.94-2.06 2.06-.94-2.06-.94-.94-2.06-.94 2.06-2.06.94zm-11 1L8.5 8.5l.94-2.06 2.06-.94-2.06-.94L8.5 2.5l-.94 2.06-2.06.94zm10 10l.94 2.06.94-2.06 2.06-.94-2.06-.94-.94-2.06-.94 2.06-2.06.94z\"/><path d=\"M17.41 7.96l-1.37-1.37c-.4-.4-.92-.59-1.43-.59-.52 0-1.04.2-1.43.59L10.3 9.45l-7.72 7.72c-.78.78-.78 2.05 0 2.83L4 21.41c.39.39.9.59 1.41.59.51 0 1.02-.2 1.41-.59l7.78-7.78 2.81-2.81c.8-.78.8-2.07 0-2.86zM5.41 20L4 18.59l7.72-7.72 1.47 1.35L5.41 20z\"/>\n",
              "  </svg>\n",
              "      </button>\n",
              "      \n",
              "  <style>\n",
              "    .colab-df-container {\n",
              "      display:flex;\n",
              "      flex-wrap:wrap;\n",
              "      gap: 12px;\n",
              "    }\n",
              "\n",
              "    .colab-df-convert {\n",
              "      background-color: #E8F0FE;\n",
              "      border: none;\n",
              "      border-radius: 50%;\n",
              "      cursor: pointer;\n",
              "      display: none;\n",
              "      fill: #1967D2;\n",
              "      height: 32px;\n",
              "      padding: 0 0 0 0;\n",
              "      width: 32px;\n",
              "    }\n",
              "\n",
              "    .colab-df-convert:hover {\n",
              "      background-color: #E2EBFA;\n",
              "      box-shadow: 0px 1px 2px rgba(60, 64, 67, 0.3), 0px 1px 3px 1px rgba(60, 64, 67, 0.15);\n",
              "      fill: #174EA6;\n",
              "    }\n",
              "\n",
              "    [theme=dark] .colab-df-convert {\n",
              "      background-color: #3B4455;\n",
              "      fill: #D2E3FC;\n",
              "    }\n",
              "\n",
              "    [theme=dark] .colab-df-convert:hover {\n",
              "      background-color: #434B5C;\n",
              "      box-shadow: 0px 1px 3px 1px rgba(0, 0, 0, 0.15);\n",
              "      filter: drop-shadow(0px 1px 2px rgba(0, 0, 0, 0.3));\n",
              "      fill: #FFFFFF;\n",
              "    }\n",
              "  </style>\n",
              "\n",
              "      <script>\n",
              "        const buttonEl =\n",
              "          document.querySelector('#df-7f37c159-558e-4e11-b341-9ea4d76d4ced button.colab-df-convert');\n",
              "        buttonEl.style.display =\n",
              "          google.colab.kernel.accessAllowed ? 'block' : 'none';\n",
              "\n",
              "        async function convertToInteractive(key) {\n",
              "          const element = document.querySelector('#df-7f37c159-558e-4e11-b341-9ea4d76d4ced');\n",
              "          const dataTable =\n",
              "            await google.colab.kernel.invokeFunction('convertToInteractive',\n",
              "                                                     [key], {});\n",
              "          if (!dataTable) return;\n",
              "\n",
              "          const docLinkHtml = 'Like what you see? Visit the ' +\n",
              "            '<a target=\"_blank\" href=https://colab.research.google.com/notebooks/data_table.ipynb>data table notebook</a>'\n",
              "            + ' to learn more about interactive tables.';\n",
              "          element.innerHTML = '';\n",
              "          dataTable['output_type'] = 'display_data';\n",
              "          await google.colab.output.renderOutput(dataTable, element);\n",
              "          const docLink = document.createElement('div');\n",
              "          docLink.innerHTML = docLinkHtml;\n",
              "          element.appendChild(docLink);\n",
              "        }\n",
              "      </script>\n",
              "    </div>\n",
              "  </div>\n",
              "  "
            ]
          },
          "metadata": {},
          "execution_count": 3
        }
      ],
      "source": [
        "df = pd.read_csv(\"/content/sandp500.csv\")\n",
        "df.head()"
      ]
    },
    {
      "cell_type": "markdown",
      "id": "19cf2367",
      "metadata": {
        "id": "19cf2367"
      },
      "source": [
        "#### 1A \n",
        "**Before running the actual clustering analysis, you're going to exclude the Symbol and Name variables. Explain why this is important to do:**"
      ]
    },
    {
      "cell_type": "markdown",
      "source": [
        "They do not actually add any important data to the data set. They simply act as identifiers for the stocks. They would not be useful in any way to group or cluster these together. They are just primary keys."
      ],
      "metadata": {
        "id": "1m6rd33Iqyqh"
      },
      "id": "1m6rd33Iqyqh"
    },
    {
      "cell_type": "markdown",
      "id": "851140cc",
      "metadata": {
        "id": "851140cc"
      },
      "source": [
        "#### 1B\n",
        "**Also there would be a problem with keeping all three of Price, 52 Week High, and 52 Week Low involved when the clustering analysis is run. Explain why this is the case.**"
      ]
    },
    {
      "cell_type": "markdown",
      "source": [
        "They all measure similar data and it would be slightly irrelevant to include in the clustering as it wouldn't change the clusters very much. It would simply add more complications."
      ],
      "metadata": {
        "id": "Q0q1z_Ii-hgY"
      },
      "id": "Q0q1z_Ii-hgY"
    },
    {
      "cell_type": "code",
      "execution_count": 4,
      "id": "4bd7e30e",
      "metadata": {
        "id": "4bd7e30e",
        "colab": {
          "base_uri": "https://localhost:8080/",
          "height": 206
        },
        "outputId": "0795693a-6709-438a-9845-b504b99d919c"
      },
      "outputs": [
        {
          "output_type": "execute_result",
          "data": {
            "text/plain": [
              "    Price  Dividend Yield  Price/Earnings  Earnings/Share  Book Value  \\\n",
              "0   51.21            1.02           32.85            1.56       13.35   \n",
              "1   44.84            0.85            9.32            4.81        7.46   \n",
              "2  151.99            0.15           24.51            6.20       39.66   \n",
              "3  139.52            1.63           16.75            8.33       25.19   \n",
              "4   63.69            4.04           17.55            3.63        2.91   \n",
              "\n",
              "   Market Cap  EBITDA  Price/Sales  Price/Book  \n",
              "0       16.49   0.942         3.89        3.84  \n",
              "1       22.61   7.830         0.57        6.07  \n",
              "2       11.18   1.120         1.19        3.89  \n",
              "3      732.00  69.750         3.35        5.53  \n",
              "4      101.52  10.950         3.95       21.83  "
            ],
            "text/html": [
              "\n",
              "  <div id=\"df-cf2aae5a-df9c-4bc0-8660-84b014648b67\">\n",
              "    <div class=\"colab-df-container\">\n",
              "      <div>\n",
              "<style scoped>\n",
              "    .dataframe tbody tr th:only-of-type {\n",
              "        vertical-align: middle;\n",
              "    }\n",
              "\n",
              "    .dataframe tbody tr th {\n",
              "        vertical-align: top;\n",
              "    }\n",
              "\n",
              "    .dataframe thead th {\n",
              "        text-align: right;\n",
              "    }\n",
              "</style>\n",
              "<table border=\"1\" class=\"dataframe\">\n",
              "  <thead>\n",
              "    <tr style=\"text-align: right;\">\n",
              "      <th></th>\n",
              "      <th>Price</th>\n",
              "      <th>Dividend Yield</th>\n",
              "      <th>Price/Earnings</th>\n",
              "      <th>Earnings/Share</th>\n",
              "      <th>Book Value</th>\n",
              "      <th>Market Cap</th>\n",
              "      <th>EBITDA</th>\n",
              "      <th>Price/Sales</th>\n",
              "      <th>Price/Book</th>\n",
              "    </tr>\n",
              "  </thead>\n",
              "  <tbody>\n",
              "    <tr>\n",
              "      <th>0</th>\n",
              "      <td>51.21</td>\n",
              "      <td>1.02</td>\n",
              "      <td>32.85</td>\n",
              "      <td>1.56</td>\n",
              "      <td>13.35</td>\n",
              "      <td>16.49</td>\n",
              "      <td>0.942</td>\n",
              "      <td>3.89</td>\n",
              "      <td>3.84</td>\n",
              "    </tr>\n",
              "    <tr>\n",
              "      <th>1</th>\n",
              "      <td>44.84</td>\n",
              "      <td>0.85</td>\n",
              "      <td>9.32</td>\n",
              "      <td>4.81</td>\n",
              "      <td>7.46</td>\n",
              "      <td>22.61</td>\n",
              "      <td>7.830</td>\n",
              "      <td>0.57</td>\n",
              "      <td>6.07</td>\n",
              "    </tr>\n",
              "    <tr>\n",
              "      <th>2</th>\n",
              "      <td>151.99</td>\n",
              "      <td>0.15</td>\n",
              "      <td>24.51</td>\n",
              "      <td>6.20</td>\n",
              "      <td>39.66</td>\n",
              "      <td>11.18</td>\n",
              "      <td>1.120</td>\n",
              "      <td>1.19</td>\n",
              "      <td>3.89</td>\n",
              "    </tr>\n",
              "    <tr>\n",
              "      <th>3</th>\n",
              "      <td>139.52</td>\n",
              "      <td>1.63</td>\n",
              "      <td>16.75</td>\n",
              "      <td>8.33</td>\n",
              "      <td>25.19</td>\n",
              "      <td>732.00</td>\n",
              "      <td>69.750</td>\n",
              "      <td>3.35</td>\n",
              "      <td>5.53</td>\n",
              "    </tr>\n",
              "    <tr>\n",
              "      <th>4</th>\n",
              "      <td>63.69</td>\n",
              "      <td>4.04</td>\n",
              "      <td>17.55</td>\n",
              "      <td>3.63</td>\n",
              "      <td>2.91</td>\n",
              "      <td>101.52</td>\n",
              "      <td>10.950</td>\n",
              "      <td>3.95</td>\n",
              "      <td>21.83</td>\n",
              "    </tr>\n",
              "  </tbody>\n",
              "</table>\n",
              "</div>\n",
              "      <button class=\"colab-df-convert\" onclick=\"convertToInteractive('df-cf2aae5a-df9c-4bc0-8660-84b014648b67')\"\n",
              "              title=\"Convert this dataframe to an interactive table.\"\n",
              "              style=\"display:none;\">\n",
              "        \n",
              "  <svg xmlns=\"http://www.w3.org/2000/svg\" height=\"24px\"viewBox=\"0 0 24 24\"\n",
              "       width=\"24px\">\n",
              "    <path d=\"M0 0h24v24H0V0z\" fill=\"none\"/>\n",
              "    <path d=\"M18.56 5.44l.94 2.06.94-2.06 2.06-.94-2.06-.94-.94-2.06-.94 2.06-2.06.94zm-11 1L8.5 8.5l.94-2.06 2.06-.94-2.06-.94L8.5 2.5l-.94 2.06-2.06.94zm10 10l.94 2.06.94-2.06 2.06-.94-2.06-.94-.94-2.06-.94 2.06-2.06.94z\"/><path d=\"M17.41 7.96l-1.37-1.37c-.4-.4-.92-.59-1.43-.59-.52 0-1.04.2-1.43.59L10.3 9.45l-7.72 7.72c-.78.78-.78 2.05 0 2.83L4 21.41c.39.39.9.59 1.41.59.51 0 1.02-.2 1.41-.59l7.78-7.78 2.81-2.81c.8-.78.8-2.07 0-2.86zM5.41 20L4 18.59l7.72-7.72 1.47 1.35L5.41 20z\"/>\n",
              "  </svg>\n",
              "      </button>\n",
              "      \n",
              "  <style>\n",
              "    .colab-df-container {\n",
              "      display:flex;\n",
              "      flex-wrap:wrap;\n",
              "      gap: 12px;\n",
              "    }\n",
              "\n",
              "    .colab-df-convert {\n",
              "      background-color: #E8F0FE;\n",
              "      border: none;\n",
              "      border-radius: 50%;\n",
              "      cursor: pointer;\n",
              "      display: none;\n",
              "      fill: #1967D2;\n",
              "      height: 32px;\n",
              "      padding: 0 0 0 0;\n",
              "      width: 32px;\n",
              "    }\n",
              "\n",
              "    .colab-df-convert:hover {\n",
              "      background-color: #E2EBFA;\n",
              "      box-shadow: 0px 1px 2px rgba(60, 64, 67, 0.3), 0px 1px 3px 1px rgba(60, 64, 67, 0.15);\n",
              "      fill: #174EA6;\n",
              "    }\n",
              "\n",
              "    [theme=dark] .colab-df-convert {\n",
              "      background-color: #3B4455;\n",
              "      fill: #D2E3FC;\n",
              "    }\n",
              "\n",
              "    [theme=dark] .colab-df-convert:hover {\n",
              "      background-color: #434B5C;\n",
              "      box-shadow: 0px 1px 3px 1px rgba(0, 0, 0, 0.15);\n",
              "      filter: drop-shadow(0px 1px 2px rgba(0, 0, 0, 0.3));\n",
              "      fill: #FFFFFF;\n",
              "    }\n",
              "  </style>\n",
              "\n",
              "      <script>\n",
              "        const buttonEl =\n",
              "          document.querySelector('#df-cf2aae5a-df9c-4bc0-8660-84b014648b67 button.colab-df-convert');\n",
              "        buttonEl.style.display =\n",
              "          google.colab.kernel.accessAllowed ? 'block' : 'none';\n",
              "\n",
              "        async function convertToInteractive(key) {\n",
              "          const element = document.querySelector('#df-cf2aae5a-df9c-4bc0-8660-84b014648b67');\n",
              "          const dataTable =\n",
              "            await google.colab.kernel.invokeFunction('convertToInteractive',\n",
              "                                                     [key], {});\n",
              "          if (!dataTable) return;\n",
              "\n",
              "          const docLinkHtml = 'Like what you see? Visit the ' +\n",
              "            '<a target=\"_blank\" href=https://colab.research.google.com/notebooks/data_table.ipynb>data table notebook</a>'\n",
              "            + ' to learn more about interactive tables.';\n",
              "          element.innerHTML = '';\n",
              "          dataTable['output_type'] = 'display_data';\n",
              "          await google.colab.output.renderOutput(dataTable, element);\n",
              "          const docLink = document.createElement('div');\n",
              "          docLink.innerHTML = docLinkHtml;\n",
              "          element.appendChild(docLink);\n",
              "        }\n",
              "      </script>\n",
              "    </div>\n",
              "  </div>\n",
              "  "
            ]
          },
          "metadata": {},
          "execution_count": 4
        }
      ],
      "source": [
        "# remove primary keys, redundant variables, and sector\n",
        "df = df.drop(['Symbol', 'Name', 'Sector', '52 week low', '52 week high'], axis=1)\n",
        "# remove rows with missing data\n",
        "df = df.dropna()\n",
        "df.head()"
      ]
    },
    {
      "cell_type": "markdown",
      "id": "7c2e3476",
      "metadata": {
        "id": "7c2e3476"
      },
      "source": [
        "### Q2\n",
        "**Run a clustering analysis in Python to find three groups of similar stocks.**\n",
        "\n",
        "**Your analysis should address each of the following considerations (pre-processing)**\n",
        "1. **It should remove variables not to be included in the analysis**\n",
        "2. **It should normalize all variables using the Z-transformation method**\n",
        "3. **It should utilize the K-means clustering method**"
      ]
    },
    {
      "cell_type": "code",
      "execution_count": 5,
      "id": "e639a916",
      "metadata": {
        "id": "e639a916",
        "colab": {
          "base_uri": "https://localhost:8080/"
        },
        "outputId": "199ea120-983b-460d-d35a-aaf62b54bc57"
      },
      "outputs": [
        {
          "output_type": "execute_result",
          "data": {
            "text/plain": [
              "array([[-0.3846388 , -0.65969446,  0.07617064, ..., -0.44080382,\n",
              "         0.21163671, -0.17976872],\n",
              "       [-0.43859869, -0.78805688, -0.53396148, ...,  0.64328762,\n",
              "        -0.95969278, -0.03094617],\n",
              "       [ 0.46906269, -1.31660801, -0.14008529, ..., -0.41278868,\n",
              "        -0.74095052, -0.17643189],\n",
              "       ...,\n",
              "       [ 0.17325741, -0.8182598 ,  1.23472156, ..., -0.14837613,\n",
              "        -0.07766756, -0.27386728],\n",
              "       [-0.43487148, -0.89376711, -0.18572203, ..., -0.58906371,\n",
              "         0.25397392, -0.3472775 ],\n",
              "       [-0.36888284, -0.83336126,  0.05827896, ..., -0.32150339,\n",
              "         0.72321133,  0.7378591 ]])"
            ]
          },
          "metadata": {},
          "execution_count": 5
        }
      ],
      "source": [
        "# normalize features using the StandardScaler function\n",
        "features = df\n",
        "scaler = StandardScaler()\n",
        "scaled_features = scaler.fit_transform(features)\n",
        "scaled_features"
      ]
    },
    {
      "cell_type": "code",
      "execution_count": 6,
      "id": "316e82bb",
      "metadata": {
        "id": "316e82bb"
      },
      "outputs": [],
      "source": [
        "# set kmeans paramters with k = 3\n",
        "kmeans = KMeans(\n",
        "    init=\"random\",\n",
        "    n_clusters=3,\n",
        "    n_init=10,\n",
        "    max_iter=300,\n",
        "    random_state=42,\n",
        ")"
      ]
    },
    {
      "cell_type": "code",
      "execution_count": 7,
      "id": "94e8eda2",
      "metadata": {
        "id": "94e8eda2",
        "colab": {
          "base_uri": "https://localhost:8080/"
        },
        "outputId": "aae43fbe-a3d2-4664-fa81-0ec550d4cbb1"
      },
      "outputs": [
        {
          "output_type": "execute_result",
          "data": {
            "text/plain": [
              "2858.255995389018"
            ]
          },
          "metadata": {},
          "execution_count": 7
        }
      ],
      "source": [
        "# fit kmeans model to scaled data\n",
        "kmeans.fit(scaled_features)\n",
        "# print the interia value of the model\n",
        "kmeans.inertia_"
      ]
    },
    {
      "cell_type": "markdown",
      "id": "eb46f4fb",
      "metadata": {
        "id": "eb46f4fb"
      },
      "source": [
        "### Q3\n",
        "**Use the Elbow rule to determine the optimal number of clusters between 1-11 by:**\n",
        "1. **Running k-means iteratively on k of size 1-11**\n",
        "2. **Plotting the SSE curve by k size**\n",
        "3. **Using the Knee Locator method**"
      ]
    },
    {
      "cell_type": "code",
      "execution_count": 9,
      "id": "c68fb4cb",
      "metadata": {
        "id": "c68fb4cb"
      },
      "outputs": [],
      "source": [
        " # create a kmeans initialization dictionary\n",
        "kmeans_elbow = {\n",
        "    \"init\": \"random\",\n",
        "    \"n_init\": 10,\n",
        "    \"max_iter\": 300,\n",
        "    \"random_state\": 42,\n",
        "}\n",
        "\n",
        "# create empty list for SSE values\n",
        "sse = []\n",
        "# create for loop to fit kmeans clustering analysis on k of size 1-11, add SSE values for each model to the list\n",
        "for k in range(1,11):\n",
        "  kmeans = KMeans(n_clusters=k, **kmeans_elbow)\n",
        "  kmeans.fit(scaled_features)\n",
        "  sse.append(kmeans.inertia_)"
      ]
    },
    {
      "cell_type": "code",
      "execution_count": 10,
      "id": "f2a8efd3",
      "metadata": {
        "id": "f2a8efd3",
        "colab": {
          "base_uri": "https://localhost:8080/",
          "height": 467
        },
        "outputId": "c967e1d9-0da6-4107-d176-a5f6f8f283f2"
      },
      "outputs": [
        {
          "output_type": "execute_result",
          "data": {
            "text/plain": [
              "<function matplotlib.pyplot.show(close=None, block=None)>"
            ]
          },
          "metadata": {},
          "execution_count": 10
        },
        {
          "output_type": "display_data",
          "data": {
            "text/plain": [
              "<Figure size 640x480 with 1 Axes>"
            ],
            "image/png": "[encoded data removed]"
          },
          "metadata": {}
        }
      ],
      "source": [
        "# Create an elbow plot\n",
        "plt.plot(range(1,11), sse)\n",
        "plt.xticks(range(1,11))\n",
        "plt.xlabel('Number of Clusters (k)')\n",
        "plt.ylabel('SSE')\n",
        "plt.show"
      ]
    },
    {
      "cell_type": "code",
      "execution_count": 11,
      "id": "37eb2979",
      "metadata": {
        "id": "37eb2979",
        "colab": {
          "base_uri": "https://localhost:8080/"
        },
        "outputId": "be3e76d3-d466-498d-fc5b-e227a3d9835f"
      },
      "outputs": [
        {
          "output_type": "execute_result",
          "data": {
            "text/plain": [
              "5"
            ]
          },
          "metadata": {},
          "execution_count": 11
        }
      ],
      "source": [
        "# locate the knee in the plot\n",
        "k1 = KneeLocator(\n",
        "    range(1,11), sse, curve=\"convex\", direction=\"decreasing\"\n",
        ")\n",
        "k1.elbow"
      ]
    },
    {
      "cell_type": "markdown",
      "id": "cb2405f0",
      "metadata": {
        "id": "cb2405f0"
      },
      "source": [
        "### Q4\n",
        "**Rerun kmeans with the optimal number of clusters and report its SSE value. Is it less than when k was set to 3? Why would this occur?**"
      ]
    },
    {
      "cell_type": "code",
      "execution_count": 12,
      "id": "c4d6a548",
      "metadata": {
        "id": "c4d6a548"
      },
      "outputs": [],
      "source": [
        "# change kmeans parameters for 5 clusters\n",
        "kmeans = KMeans(\n",
        "    init=\"random\",\n",
        "    n_clusters=5,\n",
        "    n_init=10,\n",
        "    max_iter=300,\n",
        "    random_state=42,\n",
        ")"
      ]
    },
    {
      "cell_type": "code",
      "execution_count": 13,
      "id": "923c6f68",
      "metadata": {
        "id": "923c6f68",
        "colab": {
          "base_uri": "https://localhost:8080/"
        },
        "outputId": "f6f4703f-6c70-406f-8e3a-09775e2a905a"
      },
      "outputs": [
        {
          "output_type": "execute_result",
          "data": {
            "text/plain": [
              "2186.265828273417"
            ]
          },
          "metadata": {},
          "execution_count": 13
        }
      ],
      "source": [
        "# fit the kmeans model to the data\n",
        "kmeans.fit(scaled_features)\n",
        "# examine SSE value\n",
        "kmeans.inertia_"
      ]
    },
    {
      "cell_type": "markdown",
      "source": [
        "Yes it is less than when the k was set to 3. This is because we updated the number of clusters to 5 which was the elbow point. If having 5 clusters increases similarity in clusters and greater distance between clusters the number gets lower. "
      ],
      "metadata": {
        "id": "R5QTdbqW47vQ"
      },
      "id": "R5QTdbqW47vQ"
    },
    {
      "cell_type": "markdown",
      "id": "bfca5740",
      "metadata": {
        "id": "bfca5740"
      },
      "source": [
        "### Q5\n",
        "\n",
        "**Generate a centroid table using the cluster_centers_ feature from kmeans, convert the array into a dataframe. Which cluster of stocks are the highest price on average, how do you know?**"
      ]
    },
    {
      "cell_type": "code",
      "execution_count": 14,
      "id": "e96db1de",
      "metadata": {
        "id": "e96db1de",
        "colab": {
          "base_uri": "https://localhost:8080/",
          "height": 206
        },
        "outputId": "11f01484-8d4d-402e-ecb5-eff86013926b"
      },
      "outputs": [
        {
          "output_type": "execute_result",
          "data": {
            "text/plain": [
              "              Price  Dividend Yeild  Price/Earnings  Earnings/Share  \\\n",
              "Cluster_0 -0.133549       -0.071913       -0.135327       -0.084925   \n",
              "Cluster_1  4.647560       -0.919655       -0.136974        5.349959   \n",
              "Cluster_2 -0.028788        0.671670       -0.205345        0.213082   \n",
              "Cluster_3  1.671767       -1.009185        6.567219       -0.710167   \n",
              "Cluster_4  0.025248        0.333982        0.131064       -0.214381   \n",
              "\n",
              "           Book Value  Market Cap    EBITDA  Price/Sales  Price/Book  \n",
              "Cluster_0   -0.059295   -0.243287 -0.199286    -0.349279   -0.105973  \n",
              "Cluster_1    5.633525    1.389623  0.687356     0.987819   -0.200743  \n",
              "Cluster_2   -0.323530    2.365095  2.482854    -0.019056    0.854325  \n",
              "Cluster_3   -0.052085    0.556646 -0.237760     1.638501    0.830051  \n",
              "Cluster_4   -0.184725   -0.113678 -0.271082     1.977310    0.090114  "
            ],
            "text/html": [
              "\n",
              "  <div id=\"df-24883789-f2f1-4aff-80c1-a0f445bd4f8d\">\n",
              "    <div class=\"colab-df-container\">\n",
              "      <div>\n",
              "<style scoped>\n",
              "    .dataframe tbody tr th:only-of-type {\n",
              "        vertical-align: middle;\n",
              "    }\n",
              "\n",
              "    .dataframe tbody tr th {\n",
              "        vertical-align: top;\n",
              "    }\n",
              "\n",
              "    .dataframe thead th {\n",
              "        text-align: right;\n",
              "    }\n",
              "</style>\n",
              "<table border=\"1\" class=\"dataframe\">\n",
              "  <thead>\n",
              "    <tr style=\"text-align: right;\">\n",
              "      <th></th>\n",
              "      <th>Price</th>\n",
              "      <th>Dividend Yeild</th>\n",
              "      <th>Price/Earnings</th>\n",
              "      <th>Earnings/Share</th>\n",
              "      <th>Book Value</th>\n",
              "      <th>Market Cap</th>\n",
              "      <th>EBITDA</th>\n",
              "      <th>Price/Sales</th>\n",
              "      <th>Price/Book</th>\n",
              "    </tr>\n",
              "  </thead>\n",
              "  <tbody>\n",
              "    <tr>\n",
              "      <th>Cluster_0</th>\n",
              "      <td>-0.133549</td>\n",
              "      <td>-0.071913</td>\n",
              "      <td>-0.135327</td>\n",
              "      <td>-0.084925</td>\n",
              "      <td>-0.059295</td>\n",
              "      <td>-0.243287</td>\n",
              "      <td>-0.199286</td>\n",
              "      <td>-0.349279</td>\n",
              "      <td>-0.105973</td>\n",
              "    </tr>\n",
              "    <tr>\n",
              "      <th>Cluster_1</th>\n",
              "      <td>4.647560</td>\n",
              "      <td>-0.919655</td>\n",
              "      <td>-0.136974</td>\n",
              "      <td>5.349959</td>\n",
              "      <td>5.633525</td>\n",
              "      <td>1.389623</td>\n",
              "      <td>0.687356</td>\n",
              "      <td>0.987819</td>\n",
              "      <td>-0.200743</td>\n",
              "    </tr>\n",
              "    <tr>\n",
              "      <th>Cluster_2</th>\n",
              "      <td>-0.028788</td>\n",
              "      <td>0.671670</td>\n",
              "      <td>-0.205345</td>\n",
              "      <td>0.213082</td>\n",
              "      <td>-0.323530</td>\n",
              "      <td>2.365095</td>\n",
              "      <td>2.482854</td>\n",
              "      <td>-0.019056</td>\n",
              "      <td>0.854325</td>\n",
              "    </tr>\n",
              "    <tr>\n",
              "      <th>Cluster_3</th>\n",
              "      <td>1.671767</td>\n",
              "      <td>-1.009185</td>\n",
              "      <td>6.567219</td>\n",
              "      <td>-0.710167</td>\n",
              "      <td>-0.052085</td>\n",
              "      <td>0.556646</td>\n",
              "      <td>-0.237760</td>\n",
              "      <td>1.638501</td>\n",
              "      <td>0.830051</td>\n",
              "    </tr>\n",
              "    <tr>\n",
              "      <th>Cluster_4</th>\n",
              "      <td>0.025248</td>\n",
              "      <td>0.333982</td>\n",
              "      <td>0.131064</td>\n",
              "      <td>-0.214381</td>\n",
              "      <td>-0.184725</td>\n",
              "      <td>-0.113678</td>\n",
              "      <td>-0.271082</td>\n",
              "      <td>1.977310</td>\n",
              "      <td>0.090114</td>\n",
              "    </tr>\n",
              "  </tbody>\n",
              "</table>\n",
              "</div>\n",
              "      <button class=\"colab-df-convert\" onclick=\"convertToInteractive('df-24883789-f2f1-4aff-80c1-a0f445bd4f8d')\"\n",
              "              title=\"Convert this dataframe to an interactive table.\"\n",
              "              style=\"display:none;\">\n",
              "        \n",
              "  <svg xmlns=\"http://www.w3.org/2000/svg\" height=\"24px\"viewBox=\"0 0 24 24\"\n",
              "       width=\"24px\">\n",
              "    <path d=\"M0 0h24v24H0V0z\" fill=\"none\"/>\n",
              "    <path d=\"M18.56 5.44l.94 2.06.94-2.06 2.06-.94-2.06-.94-.94-2.06-.94 2.06-2.06.94zm-11 1L8.5 8.5l.94-2.06 2.06-.94-2.06-.94L8.5 2.5l-.94 2.06-2.06.94zm10 10l.94 2.06.94-2.06 2.06-.94-2.06-.94-.94-2.06-.94 2.06-2.06.94z\"/><path d=\"M17.41 7.96l-1.37-1.37c-.4-.4-.92-.59-1.43-.59-.52 0-1.04.2-1.43.59L10.3 9.45l-7.72 7.72c-.78.78-.78 2.05 0 2.83L4 21.41c.39.39.9.59 1.41.59.51 0 1.02-.2 1.41-.59l7.78-7.78 2.81-2.81c.8-.78.8-2.07 0-2.86zM5.41 20L4 18.59l7.72-7.72 1.47 1.35L5.41 20z\"/>\n",
              "  </svg>\n",
              "      </button>\n",
              "      \n",
              "  <style>\n",
              "    .colab-df-container {\n",
              "      display:flex;\n",
              "      flex-wrap:wrap;\n",
              "      gap: 12px;\n",
              "    }\n",
              "\n",
              "    .colab-df-convert {\n",
              "      background-color: #E8F0FE;\n",
              "      border: none;\n",
              "      border-radius: 50%;\n",
              "      cursor: pointer;\n",
              "      display: none;\n",
              "      fill: #1967D2;\n",
              "      height: 32px;\n",
              "      padding: 0 0 0 0;\n",
              "      width: 32px;\n",
              "    }\n",
              "\n",
              "    .colab-df-convert:hover {\n",
              "      background-color: #E2EBFA;\n",
              "      box-shadow: 0px 1px 2px rgba(60, 64, 67, 0.3), 0px 1px 3px 1px rgba(60, 64, 67, 0.15);\n",
              "      fill: #174EA6;\n",
              "    }\n",
              "\n",
              "    [theme=dark] .colab-df-convert {\n",
              "      background-color: #3B4455;\n",
              "      fill: #D2E3FC;\n",
              "    }\n",
              "\n",
              "    [theme=dark] .colab-df-convert:hover {\n",
              "      background-color: #434B5C;\n",
              "      box-shadow: 0px 1px 3px 1px rgba(0, 0, 0, 0.15);\n",
              "      filter: drop-shadow(0px 1px 2px rgba(0, 0, 0, 0.3));\n",
              "      fill: #FFFFFF;\n",
              "    }\n",
              "  </style>\n",
              "\n",
              "      <script>\n",
              "        const buttonEl =\n",
              "          document.querySelector('#df-24883789-f2f1-4aff-80c1-a0f445bd4f8d button.colab-df-convert');\n",
              "        buttonEl.style.display =\n",
              "          google.colab.kernel.accessAllowed ? 'block' : 'none';\n",
              "\n",
              "        async function convertToInteractive(key) {\n",
              "          const element = document.querySelector('#df-24883789-f2f1-4aff-80c1-a0f445bd4f8d');\n",
              "          const dataTable =\n",
              "            await google.colab.kernel.invokeFunction('convertToInteractive',\n",
              "                                                     [key], {});\n",
              "          if (!dataTable) return;\n",
              "\n",
              "          const docLinkHtml = 'Like what you see? Visit the ' +\n",
              "            '<a target=\"_blank\" href=https://colab.research.google.com/notebooks/data_table.ipynb>data table notebook</a>'\n",
              "            + ' to learn more about interactive tables.';\n",
              "          element.innerHTML = '';\n",
              "          dataTable['output_type'] = 'display_data';\n",
              "          await google.colab.output.renderOutput(dataTable, element);\n",
              "          const docLink = document.createElement('div');\n",
              "          docLink.innerHTML = docLinkHtml;\n",
              "          element.appendChild(docLink);\n",
              "        }\n",
              "      </script>\n",
              "    </div>\n",
              "  </div>\n",
              "  "
            ]
          },
          "metadata": {},
          "execution_count": 14
        }
      ],
      "source": [
        "# save cluster centroids to an object called 'centroids'\n",
        "centroids = kmeans.cluster_centers_\n",
        "# create centroid table from numpy array\n",
        "centroid_table = pd.DataFrame(centroids, columns = [\"Price\", \"Dividend Yeild\", \"Price/Earnings\", \"Earnings/Share\", \"Book Value\", \"Market Cap\", \"EBITDA\", \"Price/Sales\", \"Price/Book\"],\n",
        "                              index = [\"Cluster_0\", \"Cluster_1\", \"Cluster_2\", \"Cluster_3\", \"Cluster_4\"])\n",
        "# display table\n",
        "centroid_table"
      ]
    },
    {
      "cell_type": "markdown",
      "source": [
        "Cluster_1 has the highest average price. We know this because the centroid value is at 4.647560 which higher than all the rest and 4 SDs above average."
      ],
      "metadata": {
        "id": "0synG5Xl7g6L"
      },
      "id": "0synG5Xl7g6L"
    },
    {
      "cell_type": "markdown",
      "id": "3b1e1186",
      "metadata": {
        "id": "3b1e1186"
      },
      "source": [
        "### Q6 \n",
        "\n",
        "**Now create a new centroid table after de-normalizing the centroid values. Why is it important to de-normalize your centroids after the fact?**"
      ]
    },
    {
      "cell_type": "code",
      "execution_count": 15,
      "id": "dd3996d7",
      "metadata": {
        "scrolled": true,
        "id": "dd3996d7",
        "colab": {
          "base_uri": "https://localhost:8080/",
          "height": 206
        },
        "outputId": "e72647b4-cf87-4e62-f8b2-530758f20bb2"
      },
      "outputs": [
        {
          "output_type": "execute_result",
          "data": {
            "text/plain": [
              "                Price  Dividend Yeild  Price/Earnings  Earnings/Share  \\\n",
              "Cluster_0   80.851347        1.798443       24.693503        3.800030   \n",
              "Cluster_1  645.264286        0.675714       24.630000       25.531429   \n",
              "Cluster_2   93.218387        2.783226       21.993226        4.991613   \n",
              "Cluster_3  293.970000        0.557143      283.180000        1.300000   \n",
              "Cluster_4   99.597400        2.336000       34.967000        3.282400   \n",
              "\n",
              "           Book Value  Market Cap     EBITDA  Price/Sales  Price/Book  \n",
              "Cluster_0   25.695180   26.550240   2.476534     2.300150    4.945778  \n",
              "Cluster_1  181.795714  148.054286   8.110000     6.090000    3.525714  \n",
              "Cluster_2   18.449677  220.638710  19.518065     3.236129   19.335161  \n",
              "Cluster_3   25.892857   86.072857   2.232079     7.934286   18.971429  \n",
              "Cluster_4   22.255800   36.194400   2.020361     8.894600    7.884000  "
            ],
            "text/html": [
              "\n",
              "  <div id=\"df-da927337-f91e-43b0-9176-8598e1d4d7e1\">\n",
              "    <div class=\"colab-df-container\">\n",
              "      <div>\n",
              "<style scoped>\n",
              "    .dataframe tbody tr th:only-of-type {\n",
              "        vertical-align: middle;\n",
              "    }\n",
              "\n",
              "    .dataframe tbody tr th {\n",
              "        vertical-align: top;\n",
              "    }\n",
              "\n",
              "    .dataframe thead th {\n",
              "        text-align: right;\n",
              "    }\n",
              "</style>\n",
              "<table border=\"1\" class=\"dataframe\">\n",
              "  <thead>\n",
              "    <tr style=\"text-align: right;\">\n",
              "      <th></th>\n",
              "      <th>Price</th>\n",
              "      <th>Dividend Yeild</th>\n",
              "      <th>Price/Earnings</th>\n",
              "      <th>Earnings/Share</th>\n",
              "      <th>Book Value</th>\n",
              "      <th>Market Cap</th>\n",
              "      <th>EBITDA</th>\n",
              "      <th>Price/Sales</th>\n",
              "      <th>Price/Book</th>\n",
              "    </tr>\n",
              "  </thead>\n",
              "  <tbody>\n",
              "    <tr>\n",
              "      <th>Cluster_0</th>\n",
              "      <td>80.851347</td>\n",
              "      <td>1.798443</td>\n",
              "      <td>24.693503</td>\n",
              "      <td>3.800030</td>\n",
              "      <td>25.695180</td>\n",
              "      <td>26.550240</td>\n",
              "      <td>2.476534</td>\n",
              "      <td>2.300150</td>\n",
              "      <td>4.945778</td>\n",
              "    </tr>\n",
              "    <tr>\n",
              "      <th>Cluster_1</th>\n",
              "      <td>645.264286</td>\n",
              "      <td>0.675714</td>\n",
              "      <td>24.630000</td>\n",
              "      <td>25.531429</td>\n",
              "      <td>181.795714</td>\n",
              "      <td>148.054286</td>\n",
              "      <td>8.110000</td>\n",
              "      <td>6.090000</td>\n",
              "      <td>3.525714</td>\n",
              "    </tr>\n",
              "    <tr>\n",
              "      <th>Cluster_2</th>\n",
              "      <td>93.218387</td>\n",
              "      <td>2.783226</td>\n",
              "      <td>21.993226</td>\n",
              "      <td>4.991613</td>\n",
              "      <td>18.449677</td>\n",
              "      <td>220.638710</td>\n",
              "      <td>19.518065</td>\n",
              "      <td>3.236129</td>\n",
              "      <td>19.335161</td>\n",
              "    </tr>\n",
              "    <tr>\n",
              "      <th>Cluster_3</th>\n",
              "      <td>293.970000</td>\n",
              "      <td>0.557143</td>\n",
              "      <td>283.180000</td>\n",
              "      <td>1.300000</td>\n",
              "      <td>25.892857</td>\n",
              "      <td>86.072857</td>\n",
              "      <td>2.232079</td>\n",
              "      <td>7.934286</td>\n",
              "      <td>18.971429</td>\n",
              "    </tr>\n",
              "    <tr>\n",
              "      <th>Cluster_4</th>\n",
              "      <td>99.597400</td>\n",
              "      <td>2.336000</td>\n",
              "      <td>34.967000</td>\n",
              "      <td>3.282400</td>\n",
              "      <td>22.255800</td>\n",
              "      <td>36.194400</td>\n",
              "      <td>2.020361</td>\n",
              "      <td>8.894600</td>\n",
              "      <td>7.884000</td>\n",
              "    </tr>\n",
              "  </tbody>\n",
              "</table>\n",
              "</div>\n",
              "      <button class=\"colab-df-convert\" onclick=\"convertToInteractive('df-da927337-f91e-43b0-9176-8598e1d4d7e1')\"\n",
              "              title=\"Convert this dataframe to an interactive table.\"\n",
              "              style=\"display:none;\">\n",
              "        \n",
              "  <svg xmlns=\"http://www.w3.org/2000/svg\" height=\"24px\"viewBox=\"0 0 24 24\"\n",
              "       width=\"24px\">\n",
              "    <path d=\"M0 0h24v24H0V0z\" fill=\"none\"/>\n",
              "    <path d=\"M18.56 5.44l.94 2.06.94-2.06 2.06-.94-2.06-.94-.94-2.06-.94 2.06-2.06.94zm-11 1L8.5 8.5l.94-2.06 2.06-.94-2.06-.94L8.5 2.5l-.94 2.06-2.06.94zm10 10l.94 2.06.94-2.06 2.06-.94-2.06-.94-.94-2.06-.94 2.06-2.06.94z\"/><path d=\"M17.41 7.96l-1.37-1.37c-.4-.4-.92-.59-1.43-.59-.52 0-1.04.2-1.43.59L10.3 9.45l-7.72 7.72c-.78.78-.78 2.05 0 2.83L4 21.41c.39.39.9.59 1.41.59.51 0 1.02-.2 1.41-.59l7.78-7.78 2.81-2.81c.8-.78.8-2.07 0-2.86zM5.41 20L4 18.59l7.72-7.72 1.47 1.35L5.41 20z\"/>\n",
              "  </svg>\n",
              "      </button>\n",
              "      \n",
              "  <style>\n",
              "    .colab-df-container {\n",
              "      display:flex;\n",
              "      flex-wrap:wrap;\n",
              "      gap: 12px;\n",
              "    }\n",
              "\n",
              "    .colab-df-convert {\n",
              "      background-color: #E8F0FE;\n",
              "      border: none;\n",
              "      border-radius: 50%;\n",
              "      cursor: pointer;\n",
              "      display: none;\n",
              "      fill: #1967D2;\n",
              "      height: 32px;\n",
              "      padding: 0 0 0 0;\n",
              "      width: 32px;\n",
              "    }\n",
              "\n",
              "    .colab-df-convert:hover {\n",
              "      background-color: #E2EBFA;\n",
              "      box-shadow: 0px 1px 2px rgba(60, 64, 67, 0.3), 0px 1px 3px 1px rgba(60, 64, 67, 0.15);\n",
              "      fill: #174EA6;\n",
              "    }\n",
              "\n",
              "    [theme=dark] .colab-df-convert {\n",
              "      background-color: #3B4455;\n",
              "      fill: #D2E3FC;\n",
              "    }\n",
              "\n",
              "    [theme=dark] .colab-df-convert:hover {\n",
              "      background-color: #434B5C;\n",
              "      box-shadow: 0px 1px 3px 1px rgba(0, 0, 0, 0.15);\n",
              "      filter: drop-shadow(0px 1px 2px rgba(0, 0, 0, 0.3));\n",
              "      fill: #FFFFFF;\n",
              "    }\n",
              "  </style>\n",
              "\n",
              "      <script>\n",
              "        const buttonEl =\n",
              "          document.querySelector('#df-da927337-f91e-43b0-9176-8598e1d4d7e1 button.colab-df-convert');\n",
              "        buttonEl.style.display =\n",
              "          google.colab.kernel.accessAllowed ? 'block' : 'none';\n",
              "\n",
              "        async function convertToInteractive(key) {\n",
              "          const element = document.querySelector('#df-da927337-f91e-43b0-9176-8598e1d4d7e1');\n",
              "          const dataTable =\n",
              "            await google.colab.kernel.invokeFunction('convertToInteractive',\n",
              "                                                     [key], {});\n",
              "          if (!dataTable) return;\n",
              "\n",
              "          const docLinkHtml = 'Like what you see? Visit the ' +\n",
              "            '<a target=\"_blank\" href=https://colab.research.google.com/notebooks/data_table.ipynb>data table notebook</a>'\n",
              "            + ' to learn more about interactive tables.';\n",
              "          element.innerHTML = '';\n",
              "          dataTable['output_type'] = 'display_data';\n",
              "          await google.colab.output.renderOutput(dataTable, element);\n",
              "          const docLink = document.createElement('div');\n",
              "          docLink.innerHTML = docLinkHtml;\n",
              "          element.appendChild(docLink);\n",
              "        }\n",
              "      </script>\n",
              "    </div>\n",
              "  </div>\n",
              "  "
            ]
          },
          "metadata": {},
          "execution_count": 15
        }
      ],
      "source": [
        "# de-normalize centroid values from centroids object\n",
        "unscaled = scaler.inverse_transform(centroids)\n",
        "# recreate centroid table with de-normalized centroid values\n",
        "unscaled_table = pd.DataFrame(unscaled, columns = [\"Price\", \"Dividend Yeild\", \"Price/Earnings\", \"Earnings/Share\", \"Book Value\", \"Market Cap\", \"EBITDA\", \"Price/Sales\", \"Price/Book\"],\n",
        "                              index = [\"Cluster_0\", \"Cluster_1\", \"Cluster_2\", \"Cluster_3\", \"Cluster_4\"])\n",
        "# display table\n",
        "unscaled_table"
      ]
    },
    {
      "cell_type": "markdown",
      "source": [
        "It is important because it puts the data back into context in its primary scale rather than showing it in SD units. "
      ],
      "metadata": {
        "id": "3NkgJ2-g8afs"
      },
      "id": "3NkgJ2-g8afs"
    },
    {
      "cell_type": "markdown",
      "id": "23267be8",
      "metadata": {
        "id": "23267be8"
      },
      "source": [
        "### Q7 \n",
        "**Explore plotting the centroid values to examine differences between clusters across the different variables of interest. Then come up with a brief descriptive title for each of the 5 clusters of stocks:**\n",
        "\n",
        "1. **Cluser_0:** Average performers/price\n",
        "2. **Cluster_1:** High priced stocks\n",
        "3. **Cluster_2:** Average price, High return stocks\n",
        "4. **Cluster_3:** Above average price, below average returns\n",
        "5. **Cluster_4** High price/sales stocks"
      ]
    },
    {
      "cell_type": "code",
      "execution_count": 17,
      "id": "3eca9a21",
      "metadata": {
        "id": "3eca9a21",
        "colab": {
          "base_uri": "https://localhost:8080/",
          "height": 430
        },
        "outputId": "4dc48fe4-5a93-4915-d7c0-6e08d092dba1"
      },
      "outputs": [
        {
          "output_type": "display_data",
          "data": {
            "text/plain": [
              "<Figure size 640x480 with 1 Axes>"
            ],
            "image/png": "[encoded data removed]"
          },
          "metadata": {}
        }
      ],
      "source": [
        "# plot values from centroid table with line chart\n",
        "centroid_table.plot(kind = \"line\", y = [\"Price\", \"Dividend Yeild\", \"EBITDA\", \"Price/Sales\"])\n",
        "plt.show()"
      ]
    },
    {
      "cell_type": "markdown",
      "id": "790e7399",
      "metadata": {
        "id": "790e7399"
      },
      "source": [
        "### Q8 \n",
        "\n",
        "**Based on your plot and centroid tables, describe which cluster of stocks you'd recommend and why. Create a visualization that supports your recommendation. Provide a caption for your visualization that briefly describe what's being shown and why it' relevant.**"
      ]
    },
    {
      "cell_type": "code",
      "execution_count": 21,
      "id": "45384344",
      "metadata": {
        "id": "45384344",
        "colab": {
          "base_uri": "https://localhost:8080/",
          "height": 503
        },
        "outputId": "08645cef-bc3f-4510-fbe6-41dd587b4ea6"
      },
      "outputs": [
        {
          "output_type": "display_data",
          "data": {
            "text/plain": [
              "<Figure size 640x480 with 1 Axes>"
            ],
            "image/png": "[encoded data removed]"
          },
          "metadata": {}
        }
      ],
      "source": [
        "# plot values from centroid table with bar chart\n",
        "unscaled_table.plot(kind = \"bar\", y = ['Price', 'Price/Earnings'])\n",
        "plt.title('Stock Clusters by Price and Price/Earnings')\n",
        "plt.ylabel('USD')\n",
        "plt.show()"
      ]
    },
    {
      "cell_type": "markdown",
      "source": [
        "This chart shows the average price of the stocks in each cluster in comparison to the avereage price/earnings of the stocks in each clusters. Based on this ratio alone it would seem that cluster_0 would be a good investmest because it has a relatively low price as well as a low price/earnings. The worst cluster based on this chart is cluster_3 because it has a very high price/earnings average as well as a semi high average stock price. You would want your price/earnings to be low in order to make more money. Obviously this would not be the only way to analyze these clusters and choose which one would be the best investment but based on this alone these are my conclusions. "
      ],
      "metadata": {
        "id": "TT9YKQYrj584"
      },
      "id": "TT9YKQYrj584"
    }
  ],
  "metadata": {
    "kernelspec": {
      "display_name": "Python 3 (ipykernel)",
      "language": "python",
      "name": "python3"
    },
    "language_info": {
      "codemirror_mode": {
        "name": "ipython",
        "version": 3
      },
      "file_extension": ".py",
      "mimetype": "text/x-python",
      "name": "python",
      "nbconvert_exporter": "python",
      "pygments_lexer": "ipython3",
      "version": "3.9.7"
    },
    "colab": {
      "provenance": []
    }
  },
  "nbformat": 4,
  "nbformat_minor": 5
}